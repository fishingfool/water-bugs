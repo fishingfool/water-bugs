{
 "cells": [
  {
   "cell_type": "code",
   "execution_count": 137,
   "metadata": {
    "collapsed": true
   },
   "outputs": [],
   "source": [
    "import pandas as pd\n",
    "import numpy as np\n",
    "from sklearn.model_selection import train_test_split\n",
    "import shutil\n",
    "import os"
   ]
  },
  {
   "cell_type": "code",
   "execution_count": 138,
   "metadata": {
    "collapsed": true
   },
   "outputs": [],
   "source": [
    "df = pd.read_csv('../data/resized/meta.txt',sep=';')"
   ]
  },
  {
   "cell_type": "code",
   "execution_count": 139,
   "metadata": {},
   "outputs": [
    {
     "data": {
      "text/html": [
       "<div>\n",
       "<style>\n",
       "    .dataframe thead tr:only-child th {\n",
       "        text-align: right;\n",
       "    }\n",
       "\n",
       "    .dataframe thead th {\n",
       "        text-align: left;\n",
       "    }\n",
       "\n",
       "    .dataframe tbody tr th {\n",
       "        vertical-align: top;\n",
       "    }\n",
       "</style>\n",
       "<table border=\"1\" class=\"dataframe\">\n",
       "  <thead>\n",
       "    <tr style=\"text-align: right;\">\n",
       "      <th></th>\n",
       "      <th>file_name</th>\n",
       "      <th>file_path</th>\n",
       "      <th>ready</th>\n",
       "      <th>back_view</th>\n",
       "      <th>side_view</th>\n",
       "      <th>ruler</th>\n",
       "      <th>hand_nature</th>\n",
       "      <th>m_adult</th>\n",
       "      <th>contrast</th>\n",
       "      <th>noisy_background</th>\n",
       "      <th>other_partial</th>\n",
       "      <th>order</th>\n",
       "      <th>family</th>\n",
       "    </tr>\n",
       "  </thead>\n",
       "  <tbody>\n",
       "    <tr>\n",
       "      <th>0</th>\n",
       "      <td>photo_255771.jpg</td>\n",
       "      <td>../data/bug_guide/plecoptera/photo_255771.jpg</td>\n",
       "      <td>1</td>\n",
       "      <td>0</td>\n",
       "      <td>0</td>\n",
       "      <td>0</td>\n",
       "      <td>0</td>\n",
       "      <td>0</td>\n",
       "      <td>0</td>\n",
       "      <td>0</td>\n",
       "      <td>0</td>\n",
       "      <td>Plecoptera</td>\n",
       "      <td>Winter Stoneflies (Taeniopterygidae)</td>\n",
       "    </tr>\n",
       "    <tr>\n",
       "      <th>1</th>\n",
       "      <td>photo_255991.jpg</td>\n",
       "      <td>../data/bug_guide/plecoptera/photo_255991.jpg</td>\n",
       "      <td>0</td>\n",
       "      <td>0</td>\n",
       "      <td>0</td>\n",
       "      <td>0</td>\n",
       "      <td>0</td>\n",
       "      <td>0</td>\n",
       "      <td>0</td>\n",
       "      <td>1</td>\n",
       "      <td>0</td>\n",
       "      <td>Plecoptera</td>\n",
       "      <td>Winter Stoneflies (Taeniopterygidae)</td>\n",
       "    </tr>\n",
       "    <tr>\n",
       "      <th>2</th>\n",
       "      <td>photo_258045.jpg</td>\n",
       "      <td>../data/bug_guide/plecoptera/photo_258045.jpg</td>\n",
       "      <td>1</td>\n",
       "      <td>0</td>\n",
       "      <td>0</td>\n",
       "      <td>0</td>\n",
       "      <td>0</td>\n",
       "      <td>0</td>\n",
       "      <td>0</td>\n",
       "      <td>0</td>\n",
       "      <td>0</td>\n",
       "      <td>Plecoptera</td>\n",
       "      <td>Small Winter Stoneflies (Capniidae)</td>\n",
       "    </tr>\n",
       "    <tr>\n",
       "      <th>3</th>\n",
       "      <td>photo_654326.jpg</td>\n",
       "      <td>../data/bug_guide/plecoptera/photo_654326.jpg</td>\n",
       "      <td>0</td>\n",
       "      <td>0</td>\n",
       "      <td>0</td>\n",
       "      <td>0</td>\n",
       "      <td>1</td>\n",
       "      <td>0</td>\n",
       "      <td>0</td>\n",
       "      <td>1</td>\n",
       "      <td>0</td>\n",
       "      <td>Plecoptera</td>\n",
       "      <td>Spring Stoneflies (Nemouridae)</td>\n",
       "    </tr>\n",
       "    <tr>\n",
       "      <th>4</th>\n",
       "      <td>photo_1204596.jpg</td>\n",
       "      <td>../data/bug_guide/plecoptera/photo_1204596.jpg</td>\n",
       "      <td>0</td>\n",
       "      <td>0</td>\n",
       "      <td>1</td>\n",
       "      <td>0</td>\n",
       "      <td>1</td>\n",
       "      <td>0</td>\n",
       "      <td>0</td>\n",
       "      <td>0</td>\n",
       "      <td>0</td>\n",
       "      <td>Plecoptera</td>\n",
       "      <td>Winter Stoneflies (Taeniopterygidae)</td>\n",
       "    </tr>\n",
       "  </tbody>\n",
       "</table>\n",
       "</div>"
      ],
      "text/plain": [
       "           file_name                                       file_path  ready  \\\n",
       "0   photo_255771.jpg   ../data/bug_guide/plecoptera/photo_255771.jpg      1   \n",
       "1   photo_255991.jpg   ../data/bug_guide/plecoptera/photo_255991.jpg      0   \n",
       "2   photo_258045.jpg   ../data/bug_guide/plecoptera/photo_258045.jpg      1   \n",
       "3   photo_654326.jpg   ../data/bug_guide/plecoptera/photo_654326.jpg      0   \n",
       "4  photo_1204596.jpg  ../data/bug_guide/plecoptera/photo_1204596.jpg      0   \n",
       "\n",
       "   back_view  side_view  ruler  hand_nature  m_adult  contrast  \\\n",
       "0          0          0      0            0        0         0   \n",
       "1          0          0      0            0        0         0   \n",
       "2          0          0      0            0        0         0   \n",
       "3          0          0      0            1        0         0   \n",
       "4          0          1      0            1        0         0   \n",
       "\n",
       "   noisy_background  other_partial       order  \\\n",
       "0                 0              0  Plecoptera   \n",
       "1                 1              0  Plecoptera   \n",
       "2                 0              0  Plecoptera   \n",
       "3                 1              0  Plecoptera   \n",
       "4                 0              0  Plecoptera   \n",
       "\n",
       "                                 family  \n",
       "0  Winter Stoneflies (Taeniopterygidae)  \n",
       "1  Winter Stoneflies (Taeniopterygidae)  \n",
       "2   Small Winter Stoneflies (Capniidae)  \n",
       "3        Spring Stoneflies (Nemouridae)  \n",
       "4  Winter Stoneflies (Taeniopterygidae)  "
      ]
     },
     "execution_count": 139,
     "metadata": {},
     "output_type": "execute_result"
    }
   ],
   "source": [
    "df.head()"
   ]
  },
  {
   "cell_type": "code",
   "execution_count": 140,
   "metadata": {},
   "outputs": [
    {
     "data": {
      "text/plain": [
       "(5602, 13)"
      ]
     },
     "execution_count": 140,
     "metadata": {},
     "output_type": "execute_result"
    }
   ],
   "source": [
    "df.shape"
   ]
  },
  {
   "cell_type": "code",
   "execution_count": 141,
   "metadata": {},
   "outputs": [
    {
     "data": {
      "text/plain": [
       "array(['Plecoptera', 'Trichoptera', 'Diptera', 'Ephemeroptera'], dtype=object)"
      ]
     },
     "execution_count": 141,
     "metadata": {},
     "output_type": "execute_result"
    }
   ],
   "source": [
    "df.order.unique()"
   ]
  },
  {
   "cell_type": "code",
   "execution_count": 142,
   "metadata": {
    "collapsed": true
   },
   "outputs": [],
   "source": [
    "x = df.file_name\n",
    "y = df.order"
   ]
  },
  {
   "cell_type": "code",
   "execution_count": 143,
   "metadata": {
    "collapsed": true
   },
   "outputs": [],
   "source": [
    "xtrain_val,xtest,ytrain_val,ytest = train_test_split(x,y,test_size = .1,random_state=77)"
   ]
  },
  {
   "cell_type": "code",
   "execution_count": 144,
   "metadata": {},
   "outputs": [
    {
     "data": {
      "text/plain": [
       "5384      picture4176.jpg\n",
       "666      photo_387608.jpg\n",
       "4587      picture2802.jpg\n",
       "1771    photo_1320367.jpg\n",
       "1019     photo_965104.jpg\n",
       "Name: file_name, dtype: object"
      ]
     },
     "execution_count": 144,
     "metadata": {},
     "output_type": "execute_result"
    }
   ],
   "source": [
    "xtrain_val.head()"
   ]
  },
  {
   "cell_type": "code",
   "execution_count": 145,
   "metadata": {},
   "outputs": [],
   "source": [
    "xtrain,xval,ytrain,yval = train_test_split(xtrain_val,ytrain_val,random_state = 42)"
   ]
  },
  {
   "cell_type": "code",
   "execution_count": 146,
   "metadata": {},
   "outputs": [],
   "source": [
    "with open('../data/train/xy.txt','w') as f:\n",
    "    f.write('file_name,order\\n')\n",
    "    for x,y in zip(xtrain,ytrain):\n",
    "        s = '../data/resized/{}'.format(x)\n",
    "        d = '../data/train/{}/{}'.format(y,x)\n",
    "        shutil.copy(s,d)\n",
    "        f.write(x+','+y+'\\n')"
   ]
  },
  {
   "cell_type": "code",
   "execution_count": 147,
   "metadata": {
    "collapsed": true
   },
   "outputs": [],
   "source": [
    "with open('../data/validation/xy.txt','w') as f:\n",
    "    f.write('file_name,order\\n')\n",
    "    for x,y in zip(xval,yval):\n",
    "        s = '../data/resized/{}'.format(x)\n",
    "        d = '../data/validation/{}/{}'.format(y,x)\n",
    "        shutil.copy(s,d)\n",
    "        f.write(x+','+y+'\\n')"
   ]
  },
  {
   "cell_type": "code",
   "execution_count": 148,
   "metadata": {},
   "outputs": [],
   "source": [
    "with open('../data/test/xy.txt','w') as f:\n",
    "    f.write('file_name,order\\n')\n",
    "    for x,y in zip(xtest,ytest):\n",
    "        s = '../data/resized/{}'.format(x)\n",
    "        d = '../data/test/{}/{}'.format(y,x)\n",
    "        shutil.copy(s,d)\n",
    "        f.write(x+','+y+'\\n')"
   ]
  },
  {
   "cell_type": "code",
   "execution_count": 171,
   "metadata": {},
   "outputs": [],
   "source": [
    "df_val = pd.read_csv('../data/validation/xy.txt',sep=',')\n",
    "df_train = pd.read_csv('../data/train/xy.txt',sep=',')\n",
    "df_test = pd.read_csv('../data/test/xy.txt',sep=',')"
   ]
  },
  {
   "cell_type": "code",
   "execution_count": 172,
   "metadata": {},
   "outputs": [
    {
     "data": {
      "text/plain": [
       "(561, 2)"
      ]
     },
     "execution_count": 172,
     "metadata": {},
     "output_type": "execute_result"
    }
   ],
   "source": [
    "df_val.shape\n",
    "df_train.shape\n",
    "df_test.shape"
   ]
  },
  {
   "cell_type": "code",
   "execution_count": null,
   "metadata": {
    "collapsed": true
   },
   "outputs": [],
   "source": []
  }
 ],
 "metadata": {
  "kernelspec": {
   "display_name": "Python 3",
   "language": "python",
   "name": "python3"
  },
  "language_info": {
   "codemirror_mode": {
    "name": "ipython",
    "version": 3
   },
   "file_extension": ".py",
   "mimetype": "text/x-python",
   "name": "python",
   "nbconvert_exporter": "python",
   "pygments_lexer": "ipython3",
   "version": "3.6.2"
  }
 },
 "nbformat": 4,
 "nbformat_minor": 2
}
