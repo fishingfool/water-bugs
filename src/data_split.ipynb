{
 "cells": [
  {
   "cell_type": "code",
   "execution_count": 14,
   "metadata": {},
   "outputs": [],
   "source": [
    "import pandas as pd\n",
    "import numpy as np\n",
    "from sklearn.model_selection import train_test_split\n",
    "import shutil\n",
    "import os"
   ]
  },
  {
   "cell_type": "code",
   "execution_count": 15,
   "metadata": {},
   "outputs": [],
   "source": [
    "df = pd.read_csv('../data/meta.txt',sep=';')"
   ]
  },
  {
   "cell_type": "code",
   "execution_count": 16,
   "metadata": {},
   "outputs": [
    {
     "data": {
      "text/html": [
       "<div>\n",
       "<style scoped>\n",
       "    .dataframe tbody tr th:only-of-type {\n",
       "        vertical-align: middle;\n",
       "    }\n",
       "\n",
       "    .dataframe tbody tr th {\n",
       "        vertical-align: top;\n",
       "    }\n",
       "\n",
       "    .dataframe thead th {\n",
       "        text-align: right;\n",
       "    }\n",
       "</style>\n",
       "<table border=\"1\" class=\"dataframe\">\n",
       "  <thead>\n",
       "    <tr style=\"text-align: right;\">\n",
       "      <th></th>\n",
       "      <th>file_name</th>\n",
       "      <th>file_path</th>\n",
       "      <th>ready</th>\n",
       "      <th>back_view</th>\n",
       "      <th>side_view</th>\n",
       "      <th>ruler</th>\n",
       "      <th>hand_nature</th>\n",
       "      <th>m_adult</th>\n",
       "      <th>contrast</th>\n",
       "      <th>noisy_background</th>\n",
       "      <th>partial</th>\n",
       "      <th>order</th>\n",
       "      <th>family</th>\n",
       "    </tr>\n",
       "  </thead>\n",
       "  <tbody>\n",
       "    <tr>\n",
       "      <th>0</th>\n",
       "      <td>photo_98089.jpg</td>\n",
       "      <td>../data/bug_guide/plecoptera/photo_98089.jpg</td>\n",
       "      <td>1</td>\n",
       "      <td>0</td>\n",
       "      <td>0</td>\n",
       "      <td>0</td>\n",
       "      <td>0</td>\n",
       "      <td>0</td>\n",
       "      <td>0</td>\n",
       "      <td>0</td>\n",
       "      <td>0</td>\n",
       "      <td>Stoneflies (Plecoptera)</td>\n",
       "      <td>Winter Stoneflies (Taeniopterygidae)</td>\n",
       "    </tr>\n",
       "    <tr>\n",
       "      <th>1</th>\n",
       "      <td>photo_255771.jpg</td>\n",
       "      <td>../data/bug_guide/plecoptera/photo_255771.jpg</td>\n",
       "      <td>1</td>\n",
       "      <td>0</td>\n",
       "      <td>0</td>\n",
       "      <td>0</td>\n",
       "      <td>0</td>\n",
       "      <td>0</td>\n",
       "      <td>0</td>\n",
       "      <td>0</td>\n",
       "      <td>0</td>\n",
       "      <td>Stoneflies (Plecoptera)</td>\n",
       "      <td>Winter Stoneflies (Taeniopterygidae)</td>\n",
       "    </tr>\n",
       "    <tr>\n",
       "      <th>2</th>\n",
       "      <td>photo_255991.jpg</td>\n",
       "      <td>../data/bug_guide/plecoptera/photo_255991.jpg</td>\n",
       "      <td>0</td>\n",
       "      <td>0</td>\n",
       "      <td>0</td>\n",
       "      <td>0</td>\n",
       "      <td>0</td>\n",
       "      <td>0</td>\n",
       "      <td>0</td>\n",
       "      <td>1</td>\n",
       "      <td>0</td>\n",
       "      <td>Stoneflies (Plecoptera)</td>\n",
       "      <td>Winter Stoneflies (Taeniopterygidae)</td>\n",
       "    </tr>\n",
       "    <tr>\n",
       "      <th>3</th>\n",
       "      <td>photo_258045.jpg</td>\n",
       "      <td>../data/bug_guide/plecoptera/photo_258045.jpg</td>\n",
       "      <td>1</td>\n",
       "      <td>0</td>\n",
       "      <td>0</td>\n",
       "      <td>0</td>\n",
       "      <td>0</td>\n",
       "      <td>0</td>\n",
       "      <td>0</td>\n",
       "      <td>0</td>\n",
       "      <td>0</td>\n",
       "      <td>Stoneflies (Plecoptera)</td>\n",
       "      <td>Small Winter Stoneflies (Capniidae)</td>\n",
       "    </tr>\n",
       "    <tr>\n",
       "      <th>4</th>\n",
       "      <td>photo_654326.jpg</td>\n",
       "      <td>../data/bug_guide/plecoptera/photo_654326.jpg</td>\n",
       "      <td>0</td>\n",
       "      <td>0</td>\n",
       "      <td>0</td>\n",
       "      <td>0</td>\n",
       "      <td>1</td>\n",
       "      <td>0</td>\n",
       "      <td>0</td>\n",
       "      <td>1</td>\n",
       "      <td>0</td>\n",
       "      <td>Stoneflies (Plecoptera)</td>\n",
       "      <td>Spring Stoneflies (Nemouridae)</td>\n",
       "    </tr>\n",
       "  </tbody>\n",
       "</table>\n",
       "</div>"
      ],
      "text/plain": [
       "          file_name                                      file_path  ready  \\\n",
       "0   photo_98089.jpg   ../data/bug_guide/plecoptera/photo_98089.jpg      1   \n",
       "1  photo_255771.jpg  ../data/bug_guide/plecoptera/photo_255771.jpg      1   \n",
       "2  photo_255991.jpg  ../data/bug_guide/plecoptera/photo_255991.jpg      0   \n",
       "3  photo_258045.jpg  ../data/bug_guide/plecoptera/photo_258045.jpg      1   \n",
       "4  photo_654326.jpg  ../data/bug_guide/plecoptera/photo_654326.jpg      0   \n",
       "\n",
       "   back_view  side_view  ruler  hand_nature  m_adult  contrast  \\\n",
       "0          0          0      0            0        0         0   \n",
       "1          0          0      0            0        0         0   \n",
       "2          0          0      0            0        0         0   \n",
       "3          0          0      0            0        0         0   \n",
       "4          0          0      0            1        0         0   \n",
       "\n",
       "   noisy_background  partial                    order  \\\n",
       "0                 0        0  Stoneflies (Plecoptera)   \n",
       "1                 0        0  Stoneflies (Plecoptera)   \n",
       "2                 1        0  Stoneflies (Plecoptera)   \n",
       "3                 0        0  Stoneflies (Plecoptera)   \n",
       "4                 1        0  Stoneflies (Plecoptera)   \n",
       "\n",
       "                                 family  \n",
       "0  Winter Stoneflies (Taeniopterygidae)  \n",
       "1  Winter Stoneflies (Taeniopterygidae)  \n",
       "2  Winter Stoneflies (Taeniopterygidae)  \n",
       "3   Small Winter Stoneflies (Capniidae)  \n",
       "4        Spring Stoneflies (Nemouridae)  "
      ]
     },
     "execution_count": 16,
     "metadata": {},
     "output_type": "execute_result"
    }
   ],
   "source": [
    "df.head()"
   ]
  },
  {
   "cell_type": "code",
   "execution_count": 17,
   "metadata": {},
   "outputs": [
    {
     "data": {
      "text/plain": [
       "(5603, 13)"
      ]
     },
     "execution_count": 17,
     "metadata": {},
     "output_type": "execute_result"
    }
   ],
   "source": [
    "df.shape"
   ]
  },
  {
   "cell_type": "code",
   "execution_count": 24,
   "metadata": {},
   "outputs": [],
   "source": [
    "order_dict = {'Stoneflies (Plecoptera)':'Plecoptera','Plecoptera (Stoneflies)':'Plecoptera',\n",
    "'Mayflies (Ephemeroptera)':'Ephemeroptera','Ephemeroptera (Mayflies)':'Ephemeroptera',\n",
    "'Caddisflies (Trichoptera)':'Trichoptera','Trichoptera (Caddisflies)':'Trichoptera',\n",
    "'Diptera (True Flies)':'Diptera','Flies (Diptera)':'Diptera'}\n",
    "order_list = []\n",
    "for i in df.order:\n",
    "    order_list.append(order_dict[i])\n",
    "df.order = order_list"
   ]
  },
  {
   "cell_type": "code",
   "execution_count": 25,
   "metadata": {},
   "outputs": [
    {
     "data": {
      "text/plain": [
       "array(['Plecoptera', 'Trichoptera', 'Diptera', 'Ephemeroptera'], dtype=object)"
      ]
     },
     "execution_count": 25,
     "metadata": {},
     "output_type": "execute_result"
    }
   ],
   "source": [
    "df.order.unique()"
   ]
  },
  {
   "cell_type": "code",
   "execution_count": 29,
   "metadata": {},
   "outputs": [
    {
     "data": {
      "text/html": [
       "<div>\n",
       "<style scoped>\n",
       "    .dataframe tbody tr th:only-of-type {\n",
       "        vertical-align: middle;\n",
       "    }\n",
       "\n",
       "    .dataframe tbody tr th {\n",
       "        vertical-align: top;\n",
       "    }\n",
       "\n",
       "    .dataframe thead th {\n",
       "        text-align: right;\n",
       "    }\n",
       "</style>\n",
       "<table border=\"1\" class=\"dataframe\">\n",
       "  <thead>\n",
       "    <tr style=\"text-align: right;\">\n",
       "      <th></th>\n",
       "      <th>file_name</th>\n",
       "      <th>file_path</th>\n",
       "      <th>ready</th>\n",
       "      <th>back_view</th>\n",
       "      <th>side_view</th>\n",
       "      <th>ruler</th>\n",
       "      <th>hand_nature</th>\n",
       "      <th>m_adult</th>\n",
       "      <th>contrast</th>\n",
       "      <th>noisy_background</th>\n",
       "      <th>partial</th>\n",
       "      <th>order</th>\n",
       "      <th>family</th>\n",
       "    </tr>\n",
       "  </thead>\n",
       "  <tbody>\n",
       "    <tr>\n",
       "      <th>0</th>\n",
       "      <td>photo_98089.jpg</td>\n",
       "      <td>../data/bug_guide/plecoptera/photo_98089.jpg</td>\n",
       "      <td>1</td>\n",
       "      <td>0</td>\n",
       "      <td>0</td>\n",
       "      <td>0</td>\n",
       "      <td>0</td>\n",
       "      <td>0</td>\n",
       "      <td>0</td>\n",
       "      <td>0</td>\n",
       "      <td>0</td>\n",
       "      <td>Plecoptera</td>\n",
       "      <td>Winter Stoneflies (Taeniopterygidae)</td>\n",
       "    </tr>\n",
       "    <tr>\n",
       "      <th>1</th>\n",
       "      <td>photo_255771.jpg</td>\n",
       "      <td>../data/bug_guide/plecoptera/photo_255771.jpg</td>\n",
       "      <td>1</td>\n",
       "      <td>0</td>\n",
       "      <td>0</td>\n",
       "      <td>0</td>\n",
       "      <td>0</td>\n",
       "      <td>0</td>\n",
       "      <td>0</td>\n",
       "      <td>0</td>\n",
       "      <td>0</td>\n",
       "      <td>Plecoptera</td>\n",
       "      <td>Winter Stoneflies (Taeniopterygidae)</td>\n",
       "    </tr>\n",
       "    <tr>\n",
       "      <th>2</th>\n",
       "      <td>photo_255991.jpg</td>\n",
       "      <td>../data/bug_guide/plecoptera/photo_255991.jpg</td>\n",
       "      <td>0</td>\n",
       "      <td>0</td>\n",
       "      <td>0</td>\n",
       "      <td>0</td>\n",
       "      <td>0</td>\n",
       "      <td>0</td>\n",
       "      <td>0</td>\n",
       "      <td>1</td>\n",
       "      <td>0</td>\n",
       "      <td>Plecoptera</td>\n",
       "      <td>Winter Stoneflies (Taeniopterygidae)</td>\n",
       "    </tr>\n",
       "    <tr>\n",
       "      <th>3</th>\n",
       "      <td>photo_258045.jpg</td>\n",
       "      <td>../data/bug_guide/plecoptera/photo_258045.jpg</td>\n",
       "      <td>1</td>\n",
       "      <td>0</td>\n",
       "      <td>0</td>\n",
       "      <td>0</td>\n",
       "      <td>0</td>\n",
       "      <td>0</td>\n",
       "      <td>0</td>\n",
       "      <td>0</td>\n",
       "      <td>0</td>\n",
       "      <td>Plecoptera</td>\n",
       "      <td>Small Winter Stoneflies (Capniidae)</td>\n",
       "    </tr>\n",
       "    <tr>\n",
       "      <th>4</th>\n",
       "      <td>photo_654326.jpg</td>\n",
       "      <td>../data/bug_guide/plecoptera/photo_654326.jpg</td>\n",
       "      <td>0</td>\n",
       "      <td>0</td>\n",
       "      <td>0</td>\n",
       "      <td>0</td>\n",
       "      <td>1</td>\n",
       "      <td>0</td>\n",
       "      <td>0</td>\n",
       "      <td>1</td>\n",
       "      <td>0</td>\n",
       "      <td>Plecoptera</td>\n",
       "      <td>Spring Stoneflies (Nemouridae)</td>\n",
       "    </tr>\n",
       "  </tbody>\n",
       "</table>\n",
       "</div>"
      ],
      "text/plain": [
       "          file_name                                      file_path  ready  \\\n",
       "0   photo_98089.jpg   ../data/bug_guide/plecoptera/photo_98089.jpg      1   \n",
       "1  photo_255771.jpg  ../data/bug_guide/plecoptera/photo_255771.jpg      1   \n",
       "2  photo_255991.jpg  ../data/bug_guide/plecoptera/photo_255991.jpg      0   \n",
       "3  photo_258045.jpg  ../data/bug_guide/plecoptera/photo_258045.jpg      1   \n",
       "4  photo_654326.jpg  ../data/bug_guide/plecoptera/photo_654326.jpg      0   \n",
       "\n",
       "   back_view  side_view  ruler  hand_nature  m_adult  contrast  \\\n",
       "0          0          0      0            0        0         0   \n",
       "1          0          0      0            0        0         0   \n",
       "2          0          0      0            0        0         0   \n",
       "3          0          0      0            0        0         0   \n",
       "4          0          0      0            1        0         0   \n",
       "\n",
       "   noisy_background  partial       order                                family  \n",
       "0                 0        0  Plecoptera  Winter Stoneflies (Taeniopterygidae)  \n",
       "1                 0        0  Plecoptera  Winter Stoneflies (Taeniopterygidae)  \n",
       "2                 1        0  Plecoptera  Winter Stoneflies (Taeniopterygidae)  \n",
       "3                 0        0  Plecoptera   Small Winter Stoneflies (Capniidae)  \n",
       "4                 1        0  Plecoptera        Spring Stoneflies (Nemouridae)  "
      ]
     },
     "execution_count": 29,
     "metadata": {},
     "output_type": "execute_result"
    }
   ],
   "source": [
    "df.head()"
   ]
  },
  {
   "cell_type": "code",
   "execution_count": 30,
   "metadata": {},
   "outputs": [],
   "source": [
    "x = df.file_name\n",
    "y = df.order"
   ]
  },
  {
   "cell_type": "code",
   "execution_count": 31,
   "metadata": {},
   "outputs": [],
   "source": [
    "xtrain_val,xtest,ytrain_val,ytest = train_test_split(x,y,test_size = .1,random_state=77)"
   ]
  },
  {
   "cell_type": "code",
   "execution_count": 32,
   "metadata": {},
   "outputs": [
    {
     "data": {
      "text/plain": [
       "1334    photo_916683.jpg\n",
       "2487     picture1371.jpg\n",
       "3732     picture4481.jpg\n",
       "5557     picture4337.jpg\n",
       "4588     picture2802.jpg\n",
       "Name: file_name, dtype: object"
      ]
     },
     "execution_count": 32,
     "metadata": {},
     "output_type": "execute_result"
    }
   ],
   "source": [
    "xtrain_val.head()"
   ]
  },
  {
   "cell_type": "code",
   "execution_count": 33,
   "metadata": {},
   "outputs": [],
   "source": [
    "xtrain,xval,ytrain,yval = train_test_split(xtrain_val,ytrain_val,random_state = 42)"
   ]
  },
  {
   "cell_type": "code",
   "execution_count": 35,
   "metadata": {},
   "outputs": [],
   "source": [
    "with open('../data/train/xy.txt','w') as f:\n",
    "    f.write('file_name,order\\n')\n",
    "    for x,y in zip(xtrain,ytrain):\n",
    "        s = '../data/bug_pics/{}'.format(x)\n",
    "        d = '../data/train/{}/{}'.format(y,x)\n",
    "        shutil.copy(s,d)\n",
    "        f.write(x+','+y+'\\n')"
   ]
  },
  {
   "cell_type": "code",
   "execution_count": 36,
   "metadata": {},
   "outputs": [],
   "source": [
    "with open('../data/validation/xy.txt','w') as f:\n",
    "    f.write('file_name,order\\n')\n",
    "    for x,y in zip(xval,yval):\n",
    "        s = '../data/bug_pics/{}'.format(x)\n",
    "        d = '../data/validation/{}/{}'.format(y,x)\n",
    "        shutil.copy(s,d)\n",
    "        f.write(x+','+y+'\\n')"
   ]
  },
  {
   "cell_type": "code",
   "execution_count": 37,
   "metadata": {},
   "outputs": [],
   "source": [
    "with open('../data/test/xy.txt','w') as f:\n",
    "    f.write('file_name,order\\n')\n",
    "    for x,y in zip(xtest,ytest):\n",
    "        s = '../data/bug_pics/{}'.format(x)\n",
    "        d = '../data/test/{}/{}'.format(y,x)\n",
    "        shutil.copy(s,d)\n",
    "        f.write(x+','+y+'\\n')"
   ]
  },
  {
   "cell_type": "code",
   "execution_count": 38,
   "metadata": {},
   "outputs": [],
   "source": [
    "df_val = pd.read_csv('../data/validation/xy.txt',sep=',')\n",
    "df_train = pd.read_csv('../data/train/xy.txt',sep=',')\n",
    "df_test = pd.read_csv('../data/test/xy.txt',sep=',')"
   ]
  },
  {
   "cell_type": "code",
   "execution_count": 39,
   "metadata": {},
   "outputs": [
    {
     "data": {
      "text/plain": [
       "(561, 2)"
      ]
     },
     "execution_count": 39,
     "metadata": {},
     "output_type": "execute_result"
    }
   ],
   "source": [
    "df_val.shape\n",
    "df_train.shape\n",
    "df_test.shape"
   ]
  },
  {
   "cell_type": "code",
   "execution_count": null,
   "metadata": {},
   "outputs": [],
   "source": []
  },
  {
   "cell_type": "code",
   "execution_count": null,
   "metadata": {},
   "outputs": [],
   "source": []
  }
 ],
 "metadata": {
  "kernelspec": {
   "display_name": "Python 3",
   "language": "python",
   "name": "python3"
  },
  "language_info": {
   "codemirror_mode": {
    "name": "ipython",
    "version": 3
   },
   "file_extension": ".py",
   "mimetype": "text/x-python",
   "name": "python",
   "nbconvert_exporter": "python",
   "pygments_lexer": "ipython3",
   "version": "3.6.3"
  }
 },
 "nbformat": 4,
 "nbformat_minor": 2
}
