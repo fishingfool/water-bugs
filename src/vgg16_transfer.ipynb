{
 "cells": [
  {
   "cell_type": "code",
   "execution_count": 1,
   "metadata": {},
   "outputs": [
    {
     "name": "stderr",
     "output_type": "stream",
     "text": [
      "Using TensorFlow backend.\n"
     ]
    }
   ],
   "source": [
    "from keras import backend as K\n",
    "from keras.applications.imagenet_utils import preprocess_input, decode_predictions\n",
    "import numpy as np\n",
    "import time\n",
    "import os\n",
    "\n",
    "np.random.seed(1337)"
   ]
  },
  {
   "cell_type": "code",
   "execution_count": 2,
   "metadata": {
    "collapsed": true
   },
   "outputs": [],
   "source": [
    "from keras.models import Sequential\n",
    "from keras.layers import Dense, Dropout, Activation, Flatten\n",
    "from keras.layers import Convolution2D, MaxPooling2D\n",
    "from keras.preprocessing.image import ImageDataGenerator\n",
    "from keras.utils import np_utils\n",
    "from keras import backend as K\n",
    "from numpy import nan\n",
    "import sys\n",
    "import datetime\n",
    "\n",
    "now = datetime.datetime.now"
   ]
  },
  {
   "cell_type": "code",
   "execution_count": 3,
   "metadata": {
    "collapsed": true
   },
   "outputs": [],
   "source": [
    "from matplotlib import pyplot as plt\n",
    "\n",
    "%matplotlib inline"
   ]
  },
  {
   "cell_type": "code",
   "execution_count": 4,
   "metadata": {
    "collapsed": true
   },
   "outputs": [],
   "source": [
    "# dimensions of the generated pictures for each filter.\n",
    "IMG_WIDTH = 224\n",
    "IMG_HEIGHT = 224"
   ]
  },
  {
   "cell_type": "code",
   "execution_count": 5,
   "metadata": {
    "collapsed": true
   },
   "outputs": [],
   "source": [
    "img_rows, img_cols = IMG_WIDTH, IMG_HEIGHT\n",
    "\n",
    "if K.image_data_format() == 'channels_first':\n",
    "    shape_ord = (3, img_rows, img_cols)\n",
    "else:  # channel_last\n",
    "    shape_ord = (img_rows, img_cols, 3)\n"
   ]
  },
  {
   "cell_type": "code",
   "execution_count": 6,
   "metadata": {},
   "outputs": [
    {
     "data": {
      "text/plain": [
       "(224, 224, 3)"
      ]
     },
     "execution_count": 6,
     "metadata": {},
     "output_type": "execute_result"
    }
   ],
   "source": [
    "shape_ord"
   ]
  },
  {
   "cell_type": "code",
   "execution_count": 7,
   "metadata": {},
   "outputs": [
    {
     "name": "stdout",
     "output_type": "stream",
     "text": [
      "Model loaded.\n"
     ]
    }
   ],
   "source": [
    "from keras.applications import vgg16\n",
    "from keras.layers import Input\n",
    "\n",
    "# build the VGG16 network with ImageNet weights\n",
    "vgg16 = vgg16.VGG16(weights='imagenet', include_top=False, input_tensor=Input((224, 224, 3)))\n",
    "print('Model loaded.')"
   ]
  },
  {
   "cell_type": "code",
   "execution_count": 8,
   "metadata": {},
   "outputs": [
    {
     "name": "stdout",
     "output_type": "stream",
     "text": [
      "_________________________________________________________________\n",
      "Layer (type)                 Output Shape              Param #   \n",
      "=================================================================\n",
      "input_1 (InputLayer)         (None, 224, 224, 3)       0         \n",
      "_________________________________________________________________\n",
      "block1_conv1 (Conv2D)        (None, 224, 224, 64)      1792      \n",
      "_________________________________________________________________\n",
      "block1_conv2 (Conv2D)        (None, 224, 224, 64)      36928     \n",
      "_________________________________________________________________\n",
      "block1_pool (MaxPooling2D)   (None, 112, 112, 64)      0         \n",
      "_________________________________________________________________\n",
      "block2_conv1 (Conv2D)        (None, 112, 112, 128)     73856     \n",
      "_________________________________________________________________\n",
      "block2_conv2 (Conv2D)        (None, 112, 112, 128)     147584    \n",
      "_________________________________________________________________\n",
      "block2_pool (MaxPooling2D)   (None, 56, 56, 128)       0         \n",
      "_________________________________________________________________\n",
      "block3_conv1 (Conv2D)        (None, 56, 56, 256)       295168    \n",
      "_________________________________________________________________\n",
      "block3_conv2 (Conv2D)        (None, 56, 56, 256)       590080    \n",
      "_________________________________________________________________\n",
      "block3_conv3 (Conv2D)        (None, 56, 56, 256)       590080    \n",
      "_________________________________________________________________\n",
      "block3_pool (MaxPooling2D)   (None, 28, 28, 256)       0         \n",
      "_________________________________________________________________\n",
      "block4_conv1 (Conv2D)        (None, 28, 28, 512)       1180160   \n",
      "_________________________________________________________________\n",
      "block4_conv2 (Conv2D)        (None, 28, 28, 512)       2359808   \n",
      "_________________________________________________________________\n",
      "block4_conv3 (Conv2D)        (None, 28, 28, 512)       2359808   \n",
      "_________________________________________________________________\n",
      "block4_pool (MaxPooling2D)   (None, 14, 14, 512)       0         \n",
      "_________________________________________________________________\n",
      "block5_conv1 (Conv2D)        (None, 14, 14, 512)       2359808   \n",
      "_________________________________________________________________\n",
      "block5_conv2 (Conv2D)        (None, 14, 14, 512)       2359808   \n",
      "_________________________________________________________________\n",
      "block5_conv3 (Conv2D)        (None, 14, 14, 512)       2359808   \n",
      "_________________________________________________________________\n",
      "block5_pool (MaxPooling2D)   (None, 7, 7, 512)         0         \n",
      "=================================================================\n",
      "Total params: 14,714,688\n",
      "Trainable params: 14,714,688\n",
      "Non-trainable params: 0\n",
      "_________________________________________________________________\n"
     ]
    }
   ],
   "source": [
    "vgg16.summary()"
   ]
  },
  {
   "cell_type": "code",
   "execution_count": 9,
   "metadata": {
    "collapsed": true
   },
   "outputs": [],
   "source": [
    "now = datetime.datetime.now\n",
    "\n",
    "batch_size = 32\n",
    "nb_classes = 4\n",
    "nb_epoch = 50\n",
    "\n",
    "# input image dimensions\n",
    "img_rows, img_cols = 224, 224\n",
    "# number of convolutional filters to use\n",
    "nb_filters = 32\n",
    "# size of pooling area for max pooling\n",
    "pool_size = 2\n",
    "# convolution kernel size\n",
    "kernel_size = 3"
   ]
  },
  {
   "cell_type": "code",
   "execution_count": 10,
   "metadata": {
    "collapsed": true
   },
   "outputs": [],
   "source": [
    "# input_shape = (img_rows, img_cols,3)\n",
    "# classification_layers = [\n",
    "#     Flatten(),\n",
    "#     Dense(128),\n",
    "#     Activation('relu'),\n",
    "#     Dropout(0.5),\n",
    "#     Dense(128),\n",
    "#     Activation('relu'),\n",
    "#     Dropout(0.5),\n",
    "#     Dense(nb_classes),\n",
    "#     Activation('softmax')\n",
    "# ]"
   ]
  },
  {
   "cell_type": "code",
   "execution_count": 11,
   "metadata": {
    "collapsed": true
   },
   "outputs": [],
   "source": [
    "# from keras.models import Model\n",
    "# x = vgg16.output\n"
   ]
  },
  {
   "cell_type": "code",
   "execution_count": 12,
   "metadata": {
    "collapsed": true
   },
   "outputs": [],
   "source": [
    "for l in vgg16.layers:\n",
    "    l.trainable = False"
   ]
  },
  {
   "cell_type": "code",
   "execution_count": 13,
   "metadata": {
    "collapsed": true
   },
   "outputs": [],
   "source": [
    "#model = Sequential(vgg16 + classification_layers)"
   ]
  },
  {
   "cell_type": "code",
   "execution_count": 14,
   "metadata": {
    "collapsed": true,
    "scrolled": true
   },
   "outputs": [],
   "source": [
    "from keras.models import Model\n",
    "#model = Model(inputs=vgg16.input,outputs=vgg16.output)"
   ]
  },
  {
   "cell_type": "code",
   "execution_count": 71,
   "metadata": {},
   "outputs": [
    {
     "name": "stdout",
     "output_type": "stream",
     "text": [
      "_________________________________________________________________\n",
      "Layer (type)                 Output Shape              Param #   \n",
      "=================================================================\n",
      "input_4 (InputLayer)         (None, 224, 224, 3)       0         \n",
      "_________________________________________________________________\n",
      "block1_conv1 (Conv2D)        (None, 224, 224, 64)      1792      \n",
      "_________________________________________________________________\n",
      "block1_conv2 (Conv2D)        (None, 224, 224, 64)      36928     \n",
      "_________________________________________________________________\n",
      "block1_pool (MaxPooling2D)   (None, 112, 112, 64)      0         \n",
      "_________________________________________________________________\n",
      "block2_conv1 (Conv2D)        (None, 112, 112, 128)     73856     \n",
      "_________________________________________________________________\n",
      "block2_conv2 (Conv2D)        (None, 112, 112, 128)     147584    \n",
      "_________________________________________________________________\n",
      "block2_pool (MaxPooling2D)   (None, 56, 56, 128)       0         \n",
      "_________________________________________________________________\n",
      "block3_conv1 (Conv2D)        (None, 56, 56, 256)       295168    \n",
      "_________________________________________________________________\n",
      "block3_conv2 (Conv2D)        (None, 56, 56, 256)       590080    \n",
      "_________________________________________________________________\n",
      "block3_conv3 (Conv2D)        (None, 56, 56, 256)       590080    \n",
      "_________________________________________________________________\n",
      "block3_pool (MaxPooling2D)   (None, 28, 28, 256)       0         \n",
      "_________________________________________________________________\n",
      "block4_conv1 (Conv2D)        (None, 28, 28, 512)       1180160   \n",
      "_________________________________________________________________\n",
      "block4_conv2 (Conv2D)        (None, 28, 28, 512)       2359808   \n",
      "_________________________________________________________________\n",
      "block4_conv3 (Conv2D)        (None, 28, 28, 512)       2359808   \n",
      "_________________________________________________________________\n",
      "block4_pool (MaxPooling2D)   (None, 14, 14, 512)       0         \n",
      "_________________________________________________________________\n",
      "block5_conv1 (Conv2D)        (None, 14, 14, 512)       2359808   \n",
      "_________________________________________________________________\n",
      "block5_conv2 (Conv2D)        (None, 14, 14, 512)       2359808   \n",
      "_________________________________________________________________\n",
      "block5_conv3 (Conv2D)        (None, 14, 14, 512)       2359808   \n",
      "_________________________________________________________________\n",
      "block5_pool (MaxPooling2D)   (None, 7, 7, 512)         0         \n",
      "=================================================================\n",
      "Total params: 14,714,688\n",
      "Trainable params: 0\n",
      "Non-trainable params: 14,714,688\n",
      "_________________________________________________________________\n"
     ]
    }
   ],
   "source": [
    "# model = Sequential()\n",
    "# for l in vgg16.layers:\n",
    "#     l.trainable = False\n",
    "#     model.add(l)\n",
    "# model.summary()"
   ]
  },
  {
   "cell_type": "code",
   "execution_count": 15,
   "metadata": {
    "collapsed": true
   },
   "outputs": [],
   "source": [
    "from keras.layers.normalization import BatchNormalization\n",
    "\n",
    "x = Flatten(input_shape=vgg16.output.shape)(vgg16.output)\n",
    "x = Dense(4096, activation='relu', name='ft_fc1')(x)\n",
    "x = Dropout(0.5)(x)\n",
    "x = BatchNormalization()(x)\n",
    "predictions = Dense(4, activation = 'softmax')(x)"
   ]
  },
  {
   "cell_type": "code",
   "execution_count": 16,
   "metadata": {
    "collapsed": true
   },
   "outputs": [],
   "source": [
    "#create graph of your new model\n",
    "model = Model(inputs=vgg16.input, outputs=predictions)\n",
    "\n",
    "#compile the model\n",
    "model.compile(optimizer='rmsprop', loss='categorical_crossentropy', metrics=['accuracy'])"
   ]
  },
  {
   "cell_type": "code",
   "execution_count": 46,
   "metadata": {
    "collapsed": true
   },
   "outputs": [],
   "source": [
    "# model.add()\n",
    "# model.add(Dense(768, activation='relu',input_shape=(512,)))\n",
    "# model.add(Dropout(0.5))\n",
    "# model.add(Dense(768, activation='relu'))\n",
    "# model.add(Dropout(0.2))\n",
    "# model.add(Dense(4, activation='softmax'))"
   ]
  },
  {
   "cell_type": "code",
   "execution_count": 47,
   "metadata": {
    "collapsed": true
   },
   "outputs": [],
   "source": [
    "# out_list = [(None, 224, 224, 3),(None, 224, 224, 64),(None, 224, 224, 64),(None, 112, 112, 64),\n",
    "#  (None, 112, 112, 128),(None, 112, 112, 128),(None, 56, 56, 128),(None, 56, 56, 256),\n",
    "#  (None, 28, 28, 256),(None, 28, 28, 512),(None, 28, 28, 512),(None, 14, 14, 512),\n",
    "#  (None, 14, 14, 512),(None, 14, 14, 512),(None, 14, 14, 512),(None, 7, 7, 512),\n",
    "#  (None, 25088),(None, 768), (None,768),(None,4)]"
   ]
  },
  {
   "cell_type": "code",
   "execution_count": 48,
   "metadata": {
    "collapsed": true
   },
   "outputs": [],
   "source": [
    "\n",
    "# for layer, o in zip(model.layers, out_list):\n",
    "#     layer.Input = o\n",
    "#     print(layer.Output)"
   ]
  },
  {
   "cell_type": "code",
   "execution_count": 17,
   "metadata": {},
   "outputs": [
    {
     "name": "stdout",
     "output_type": "stream",
     "text": [
      "_________________________________________________________________\n",
      "Layer (type)                 Output Shape              Param #   \n",
      "=================================================================\n",
      "input_1 (InputLayer)         (None, 224, 224, 3)       0         \n",
      "_________________________________________________________________\n",
      "block1_conv1 (Conv2D)        (None, 224, 224, 64)      1792      \n",
      "_________________________________________________________________\n",
      "block1_conv2 (Conv2D)        (None, 224, 224, 64)      36928     \n",
      "_________________________________________________________________\n",
      "block1_pool (MaxPooling2D)   (None, 112, 112, 64)      0         \n",
      "_________________________________________________________________\n",
      "block2_conv1 (Conv2D)        (None, 112, 112, 128)     73856     \n",
      "_________________________________________________________________\n",
      "block2_conv2 (Conv2D)        (None, 112, 112, 128)     147584    \n",
      "_________________________________________________________________\n",
      "block2_pool (MaxPooling2D)   (None, 56, 56, 128)       0         \n",
      "_________________________________________________________________\n",
      "block3_conv1 (Conv2D)        (None, 56, 56, 256)       295168    \n",
      "_________________________________________________________________\n",
      "block3_conv2 (Conv2D)        (None, 56, 56, 256)       590080    \n",
      "_________________________________________________________________\n",
      "block3_conv3 (Conv2D)        (None, 56, 56, 256)       590080    \n",
      "_________________________________________________________________\n",
      "block3_pool (MaxPooling2D)   (None, 28, 28, 256)       0         \n",
      "_________________________________________________________________\n",
      "block4_conv1 (Conv2D)        (None, 28, 28, 512)       1180160   \n",
      "_________________________________________________________________\n",
      "block4_conv2 (Conv2D)        (None, 28, 28, 512)       2359808   \n",
      "_________________________________________________________________\n",
      "block4_conv3 (Conv2D)        (None, 28, 28, 512)       2359808   \n",
      "_________________________________________________________________\n",
      "block4_pool (MaxPooling2D)   (None, 14, 14, 512)       0         \n",
      "_________________________________________________________________\n",
      "block5_conv1 (Conv2D)        (None, 14, 14, 512)       2359808   \n",
      "_________________________________________________________________\n",
      "block5_conv2 (Conv2D)        (None, 14, 14, 512)       2359808   \n",
      "_________________________________________________________________\n",
      "block5_conv3 (Conv2D)        (None, 14, 14, 512)       2359808   \n",
      "_________________________________________________________________\n",
      "block5_pool (MaxPooling2D)   (None, 7, 7, 512)         0         \n",
      "_________________________________________________________________\n",
      "flatten_1 (Flatten)          (None, 25088)             0         \n",
      "_________________________________________________________________\n",
      "ft_fc1 (Dense)               (None, 4096)              102764544 \n",
      "_________________________________________________________________\n",
      "dropout_1 (Dropout)          (None, 4096)              0         \n",
      "_________________________________________________________________\n",
      "batch_normalization_1 (Batch (None, 4096)              16384     \n",
      "_________________________________________________________________\n",
      "dense_1 (Dense)              (None, 4)                 16388     \n",
      "=================================================================\n",
      "Total params: 117,512,004\n",
      "Trainable params: 102,789,124\n",
      "Non-trainable params: 14,722,880\n",
      "_________________________________________________________________\n"
     ]
    }
   ],
   "source": [
    "model.summary()"
   ]
  },
  {
   "cell_type": "code",
   "execution_count": 77,
   "metadata": {
    "collapsed": true
   },
   "outputs": [],
   "source": [
    "model.compile(loss='categorical_crossentropy',\n",
    "              optimizer='adadelta',\n",
    "              metrics=['accuracy'])\n",
    "t = now()"
   ]
  },
  {
   "cell_type": "code",
   "execution_count": 18,
   "metadata": {
    "collapsed": true
   },
   "outputs": [],
   "source": [
    "train_datagen = ImageDataGenerator(\n",
    "        zoom_range=0.2,\n",
    "        horizontal_flip=True)"
   ]
  },
  {
   "cell_type": "code",
   "execution_count": 19,
   "metadata": {},
   "outputs": [
    {
     "name": "stdout",
     "output_type": "stream",
     "text": [
      "Found 554 images belonging to 4 classes.\n"
     ]
    }
   ],
   "source": [
    "train_generator = train_datagen.flow_from_directory(\n",
    "        '../data/train',\n",
    "        target_size=(224, 224),\n",
    "        batch_size=32, #changed from 1, change back if needed\n",
    "        class_mode='categorical')"
   ]
  },
  {
   "cell_type": "code",
   "execution_count": 20,
   "metadata": {
    "collapsed": true
   },
   "outputs": [],
   "source": [
    "test_datagen = ImageDataGenerator()"
   ]
  },
  {
   "cell_type": "code",
   "execution_count": 21,
   "metadata": {},
   "outputs": [
    {
     "name": "stdout",
     "output_type": "stream",
     "text": [
      "Found 188 images belonging to 4 classes.\n"
     ]
    }
   ],
   "source": [
    "validation_generator = test_datagen.flow_from_directory(\n",
    "        '../data/validation',\n",
    "        target_size=(224, 224),\n",
    "        batch_size=32,\n",
    "        class_mode='categorical')"
   ]
  },
  {
   "cell_type": "code",
   "execution_count": 84,
   "metadata": {},
   "outputs": [
    {
     "name": "stdout",
     "output_type": "stream",
     "text": [
      "Epoch 1/50\n",
      "24/24 [==============================] - 22s - loss: 0.5421 - acc: 0.8244 - val_loss: 1.7895 - val_acc: 0.6809\n",
      "Epoch 2/50\n",
      "24/24 [==============================] - 19s - loss: 0.3125 - acc: 0.8980 - val_loss: 1.6619 - val_acc: 0.6755\n",
      "Epoch 3/50\n",
      "24/24 [==============================] - 19s - loss: 0.1708 - acc: 0.9399 - val_loss: 1.2496 - val_acc: 0.7021\n",
      "Epoch 4/50\n",
      "24/24 [==============================] - 19s - loss: 0.1547 - acc: 0.9461 - val_loss: 1.3583 - val_acc: 0.6543\n",
      "Epoch 5/50\n",
      "24/24 [==============================] - 19s - loss: 0.0856 - acc: 0.9687 - val_loss: 1.2928 - val_acc: 0.6862\n",
      "Epoch 6/50\n",
      "24/24 [==============================] - 19s - loss: 0.0857 - acc: 0.9751 - val_loss: 1.3173 - val_acc: 0.6968\n",
      "Epoch 7/50\n",
      "24/24 [==============================] - 19s - loss: 0.0524 - acc: 0.9830 - val_loss: 1.3116 - val_acc: 0.6755\n",
      "Epoch 8/50\n",
      "24/24 [==============================] - 20s - loss: 0.0269 - acc: 0.9935 - val_loss: 1.4013 - val_acc: 0.6489\n",
      "Epoch 9/50\n",
      "24/24 [==============================] - 20s - loss: 0.0327 - acc: 0.9894 - val_loss: 1.4602 - val_acc: 0.6277\n",
      "Epoch 10/50\n",
      "24/24 [==============================] - 19s - loss: 0.0390 - acc: 0.9909 - val_loss: 1.1020 - val_acc: 0.6543\n",
      "Epoch 11/50\n",
      "24/24 [==============================] - 20s - loss: 0.0348 - acc: 0.9870 - val_loss: 1.1154 - val_acc: 0.7394\n",
      "Epoch 12/50\n",
      "24/24 [==============================] - 20s - loss: 0.0217 - acc: 0.9974 - val_loss: 1.1796 - val_acc: 0.7021\n",
      "Epoch 13/50\n",
      "24/24 [==============================] - 19s - loss: 0.0114 - acc: 0.9987 - val_loss: 1.1120 - val_acc: 0.7021\n",
      "Epoch 14/50\n",
      "24/24 [==============================] - 20s - loss: 0.0132 - acc: 0.9961 - val_loss: 1.5854 - val_acc: 0.6223\n",
      "Epoch 15/50\n",
      "24/24 [==============================] - 20s - loss: 0.0205 - acc: 0.9948 - val_loss: 1.3358 - val_acc: 0.6809\n",
      "Epoch 16/50\n",
      "24/24 [==============================] - 19s - loss: 0.0471 - acc: 0.9854 - val_loss: 1.2211 - val_acc: 0.7021\n",
      "Epoch 17/50\n",
      "24/24 [==============================] - 20s - loss: 0.0091 - acc: 0.9987 - val_loss: 1.4052 - val_acc: 0.6436\n",
      "Epoch 18/50\n",
      "24/24 [==============================] - 20s - loss: 0.0209 - acc: 0.9935 - val_loss: 1.2837 - val_acc: 0.7074\n",
      "Epoch 19/50\n",
      "24/24 [==============================] - 19s - loss: 0.0132 - acc: 0.9974 - val_loss: 1.1208 - val_acc: 0.7234\n",
      "Epoch 20/50\n",
      "24/24 [==============================] - 20s - loss: 0.0199 - acc: 0.9920 - val_loss: 1.4237 - val_acc: 0.6117\n",
      "Epoch 21/50\n",
      "24/24 [==============================] - 20s - loss: 0.0120 - acc: 0.9959 - val_loss: 0.8523 - val_acc: 0.7872\n",
      "Epoch 22/50\n",
      "24/24 [==============================] - 19s - loss: 0.0113 - acc: 0.9961 - val_loss: 1.1867 - val_acc: 0.7181\n",
      "Epoch 23/50\n",
      "24/24 [==============================] - 20s - loss: 0.0153 - acc: 0.9948 - val_loss: 1.6843 - val_acc: 0.6277\n",
      "Epoch 24/50\n",
      "24/24 [==============================] - 20s - loss: 0.0045 - acc: 1.0000 - val_loss: 1.1797 - val_acc: 0.7074\n",
      "Epoch 25/50\n",
      "24/24 [==============================] - 19s - loss: 0.0061 - acc: 1.0000 - val_loss: 1.3020 - val_acc: 0.6968\n",
      "Epoch 26/50\n",
      "24/24 [==============================] - 20s - loss: 0.0031 - acc: 1.0000 - val_loss: 1.1812 - val_acc: 0.7074\n",
      "Epoch 27/50\n",
      "24/24 [==============================] - 20s - loss: 0.0089 - acc: 0.9987 - val_loss: 1.0973 - val_acc: 0.7287\n",
      "Epoch 28/50\n",
      "24/24 [==============================] - 19s - loss: 0.0117 - acc: 0.9961 - val_loss: 1.1699 - val_acc: 0.7340\n",
      "Epoch 29/50\n",
      "24/24 [==============================] - 20s - loss: 0.0037 - acc: 1.0000 - val_loss: 1.2196 - val_acc: 0.6862\n",
      "Epoch 30/50\n",
      "24/24 [==============================] - 20s - loss: 0.0039 - acc: 1.0000 - val_loss: 0.7944 - val_acc: 0.7872\n",
      "Epoch 31/50\n",
      "24/24 [==============================] - 19s - loss: 0.0037 - acc: 1.0000 - val_loss: 1.0099 - val_acc: 0.7287\n",
      "Epoch 32/50\n",
      "24/24 [==============================] - 20s - loss: 0.0071 - acc: 0.9974 - val_loss: 1.0249 - val_acc: 0.7128\n",
      "Epoch 33/50\n",
      "24/24 [==============================] - 20s - loss: 0.0031 - acc: 0.9987 - val_loss: 1.0024 - val_acc: 0.7500\n",
      "Epoch 34/50\n",
      "24/24 [==============================] - 19s - loss: 0.0039 - acc: 1.0000 - val_loss: 1.0152 - val_acc: 0.7394\n",
      "Epoch 35/50\n",
      "24/24 [==============================] - 20s - loss: 0.0022 - acc: 1.0000 - val_loss: 1.3814 - val_acc: 0.7021\n",
      "Epoch 36/50\n",
      "24/24 [==============================] - 20s - loss: 0.0066 - acc: 0.9974 - val_loss: 1.0432 - val_acc: 0.7074\n",
      "Epoch 37/50\n",
      "24/24 [==============================] - 19s - loss: 0.0373 - acc: 0.9946 - val_loss: 1.0656 - val_acc: 0.7394\n",
      "Epoch 38/50\n",
      "24/24 [==============================] - 20s - loss: 0.0024 - acc: 1.0000 - val_loss: 1.0991 - val_acc: 0.7500\n",
      "Epoch 39/50\n",
      "24/24 [==============================] - 20s - loss: 0.0014 - acc: 1.0000 - val_loss: 1.0874 - val_acc: 0.7606\n",
      "Epoch 40/50\n",
      "24/24 [==============================] - 19s - loss: 0.0044 - acc: 1.0000 - val_loss: 1.1056 - val_acc: 0.7606\n",
      "Epoch 41/50\n",
      "24/24 [==============================] - 20s - loss: 0.0066 - acc: 0.9987 - val_loss: 1.1872 - val_acc: 0.7553\n",
      "Epoch 42/50\n",
      "24/24 [==============================] - 20s - loss: 0.0021 - acc: 1.0000 - val_loss: 1.0956 - val_acc: 0.7660\n",
      "Epoch 43/50\n",
      "24/24 [==============================] - 19s - loss: 0.0022 - acc: 1.0000 - val_loss: 1.1464 - val_acc: 0.7447\n",
      "Epoch 44/50\n",
      "24/24 [==============================] - 20s - loss: 0.0024 - acc: 1.0000 - val_loss: 1.1964 - val_acc: 0.7713\n",
      "Epoch 45/50\n",
      "24/24 [==============================] - 20s - loss: 9.3249e-04 - acc: 1.0000 - val_loss: 1.2719 - val_acc: 0.7447\n",
      "Epoch 46/50\n",
      "24/24 [==============================] - 19s - loss: 0.0011 - acc: 1.0000 - val_loss: 1.1207 - val_acc: 0.7500\n",
      "Epoch 47/50\n",
      "24/24 [==============================] - 20s - loss: 7.8279e-04 - acc: 1.0000 - val_loss: 0.9869 - val_acc: 0.7606\n",
      "Epoch 48/50\n",
      "24/24 [==============================] - 20s - loss: 7.7894e-04 - acc: 1.0000 - val_loss: 1.2840 - val_acc: 0.7287\n",
      "Epoch 49/50\n",
      "24/24 [==============================] - 19s - loss: 0.0055 - acc: 1.0000 - val_loss: 1.1134 - val_acc: 0.7553\n",
      "Epoch 50/50\n",
      "24/24 [==============================] - 20s - loss: 0.0031 - acc: 1.0000 - val_loss: 1.1479 - val_acc: 0.7606\n"
     ]
    },
    {
     "data": {
      "text/plain": [
       "<keras.callbacks.History at 0x7f842d889cc0>"
      ]
     },
     "execution_count": 84,
     "metadata": {},
     "output_type": "execute_result"
    }
   ],
   "source": [
    "model.fit_generator(\n",
    "        train_generator,\n",
    "        steps_per_epoch=24,\n",
    "        epochs=50,\n",
    "        validation_data=validation_generator,\n",
    "        validation_steps=6)"
   ]
  },
  {
   "cell_type": "code",
   "execution_count": 56,
   "metadata": {},
   "outputs": [
    {
     "name": "stdout",
     "output_type": "stream",
     "text": [
      "_________________________________________________________________\n",
      "Layer (type)                 Output Shape              Param #   \n",
      "=================================================================\n",
      "input_3 (InputLayer)         (None, 224, 224, 3)       0         \n",
      "_________________________________________________________________\n",
      "block1_conv1 (Conv2D)        (None, 224, 224, 64)      1792      \n",
      "_________________________________________________________________\n",
      "block1_conv2 (Conv2D)        (None, 224, 224, 64)      36928     \n",
      "_________________________________________________________________\n",
      "block1_pool (MaxPooling2D)   (None, 112, 112, 64)      0         \n",
      "_________________________________________________________________\n",
      "block2_conv1 (Conv2D)        (None, 112, 112, 128)     73856     \n",
      "_________________________________________________________________\n",
      "block2_conv2 (Conv2D)        (None, 112, 112, 128)     147584    \n",
      "_________________________________________________________________\n",
      "block2_pool (MaxPooling2D)   (None, 56, 56, 128)       0         \n",
      "_________________________________________________________________\n",
      "block3_conv1 (Conv2D)        (None, 56, 56, 256)       295168    \n",
      "_________________________________________________________________\n",
      "block3_conv2 (Conv2D)        (None, 56, 56, 256)       590080    \n",
      "_________________________________________________________________\n",
      "block3_conv3 (Conv2D)        (None, 56, 56, 256)       590080    \n",
      "_________________________________________________________________\n",
      "block3_pool (MaxPooling2D)   (None, 28, 28, 256)       0         \n",
      "_________________________________________________________________\n",
      "block4_conv1 (Conv2D)        (None, 28, 28, 512)       1180160   \n",
      "_________________________________________________________________\n",
      "block4_conv2 (Conv2D)        (None, 28, 28, 512)       2359808   \n",
      "_________________________________________________________________\n",
      "block4_conv3 (Conv2D)        (None, 28, 28, 512)       2359808   \n",
      "_________________________________________________________________\n",
      "block4_pool (MaxPooling2D)   (None, 14, 14, 512)       0         \n",
      "_________________________________________________________________\n",
      "block5_conv1 (Conv2D)        (None, 14, 14, 512)       2359808   \n",
      "_________________________________________________________________\n",
      "block5_conv2 (Conv2D)        (None, 14, 14, 512)       2359808   \n",
      "_________________________________________________________________\n",
      "block5_conv3 (Conv2D)        (None, 14, 14, 512)       2359808   \n",
      "_________________________________________________________________\n",
      "block5_pool (MaxPooling2D)   (None, 7, 7, 512)         0         \n",
      "_________________________________________________________________\n",
      "dense_10 (Dense)             (None, 7, 7, 768)         393984    \n",
      "_________________________________________________________________\n",
      "dropout_7 (Dropout)          (None, 7, 7, 768)         0         \n",
      "_________________________________________________________________\n",
      "dense_11 (Dense)             (None, 7, 7, 768)         590592    \n",
      "_________________________________________________________________\n",
      "dropout_8 (Dropout)          (None, 7, 7, 768)         0         \n",
      "_________________________________________________________________\n",
      "dense_12 (Dense)             (None, 7, 7, 4)           3076      \n",
      "=================================================================\n",
      "Total params: 15,702,340\n",
      "Trainable params: 987,652\n",
      "Non-trainable params: 14,714,688\n",
      "_________________________________________________________________\n"
     ]
    }
   ],
   "source": [
    "model.summary()"
   ]
  },
  {
   "cell_type": "code",
   "execution_count": null,
   "metadata": {
    "collapsed": true
   },
   "outputs": [],
   "source": []
  }
 ],
 "metadata": {
  "kernelspec": {
   "display_name": "Python 3",
   "language": "python",
   "name": "python3"
  },
  "language_info": {
   "codemirror_mode": {
    "name": "ipython",
    "version": 3
   },
   "file_extension": ".py",
   "mimetype": "text/x-python",
   "name": "python",
   "nbconvert_exporter": "python",
   "pygments_lexer": "ipython3",
   "version": "3.6.3"
  }
 },
 "nbformat": 4,
 "nbformat_minor": 2
}
