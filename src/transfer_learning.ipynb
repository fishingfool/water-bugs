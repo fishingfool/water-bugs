{
 "cells": [
  {
   "cell_type": "code",
   "execution_count": 12,
   "metadata": {
    "collapsed": true
   },
   "outputs": [],
   "source": [
    "import numpy as np\n",
    "import datetime\n",
    "\n",
    "np.random.seed(1337)  # for reproducibility"
   ]
  },
  {
   "cell_type": "code",
   "execution_count": 14,
   "metadata": {
    "collapsed": true
   },
   "outputs": [],
   "source": [
    "from keras.datasets import mnist\n",
    "from keras.models import Sequential\n",
    "from keras.layers import Dense, Dropout, Activation, Flatten\n",
    "from keras.layers import Convolution2D, MaxPooling2D\n",
    "from keras.preprocessing.image import ImageDataGenerator\n",
    "from keras.utils import np_utils\n",
    "from keras import backend as K\n",
    "from numpy import nan\n",
    "import sys\n",
    "\n",
    "now = datetime.datetime.now"
   ]
  },
  {
   "cell_type": "code",
   "execution_count": 34,
   "metadata": {
    "collapsed": true
   },
   "outputs": [],
   "source": [
    "now = datetime.datetime.now\n",
    "\n",
    "batch_size = 32\n",
    "nb_classes = 4\n",
    "nb_epoch = 50\n",
    "\n",
    "# input image dimensions\n",
    "img_rows, img_cols = 150, 150\n",
    "# number of convolutional filters to use\n",
    "nb_filters = 32\n",
    "# size of pooling area for max pooling\n",
    "pool_size = 2\n",
    "# convolution kernel size\n",
    "kernel_size = 3"
   ]
  },
  {
   "cell_type": "code",
   "execution_count": 35,
   "metadata": {
    "collapsed": true
   },
   "outputs": [],
   "source": [
    "if K.image_data_format() == 'channels_first':\n",
    "    input_shape = (3, img_rows, img_cols)\n",
    "else:\n",
    "    input_shape = (img_rows, img_cols, 1)"
   ]
  },
  {
   "cell_type": "code",
   "execution_count": 63,
   "metadata": {},
   "outputs": [
    {
     "data": {
      "text/plain": [
       "'channels_last'"
      ]
     },
     "execution_count": 63,
     "metadata": {},
     "output_type": "execute_result"
    }
   ],
   "source": [
    "K.image_data_format()"
   ]
  },
  {
   "cell_type": "code",
   "execution_count": 46,
   "metadata": {
    "collapsed": true
   },
   "outputs": [],
   "source": [
    "def train_model(model, train, test, nb_classes):\n",
    "    \n",
    "    X_train = train[0].reshape((train[0].shape[0],) + input_shape)\n",
    "    X_test = test[0].reshape((test[0].shape[0],) + input_shape)\n",
    "    X_train = X_train.astype('float32')\n",
    "    X_test = X_test.astype('float32')\n",
    "    X_train /= 255\n",
    "    X_test /= 255\n",
    "    \n",
    "    print('X_train shape:', X_train.shape)\n",
    "    print(X_train.shape[0], 'train samples')\n",
    "    print(X_test.shape[0], 'test samples')\n",
    "\n",
    "    # convert class vectors to binary class matrices\n",
    "    Y_train = np_utils.to_categorical(train[1], nb_classes)\n",
    "    Y_test = np_utils.to_categorical(test[1], nb_classes)\n",
    "\n",
    "    model.compile(loss='categorical_crossentropy',\n",
    "                  optimizer='adadelta',\n",
    "                  metrics=['accuracy'])\n",
    "\n",
    "    t = now()\n",
    "    model.fit_generator(X_train, Y_train,\n",
    "              batch_size=batch_size, nb_epoch=nb_epoch,\n",
    "              verbose=1,\n",
    "              validation_data=(X_test, Y_test))\n",
    "    print('Training time: %s' % (now() - t))\n",
    "    score = model.evaluate(X_test, Y_test, verbose=0)\n",
    "    print('Test score:', score[0])\n",
    "    print('Test accuracy:', score[1])"
   ]
  },
  {
   "cell_type": "code",
   "execution_count": 64,
   "metadata": {},
   "outputs": [
    {
     "name": "stderr",
     "output_type": "stream",
     "text": [
      "/home/ubuntu/anaconda3/lib/python3.6/site-packages/ipykernel_launcher.py:6: UserWarning: Update your `Conv2D` call to the Keras 2 API: `Conv2D(32, (3, 3), input_shape=(150, 150,..., padding=\"valid\")`\n",
      "  \n",
      "/home/ubuntu/anaconda3/lib/python3.6/site-packages/ipykernel_launcher.py:8: UserWarning: Update your `Conv2D` call to the Keras 2 API: `Conv2D(32, (3, 3))`\n",
      "  \n"
     ]
    }
   ],
   "source": [
    "# define two groups of layers: feature (convolutions) and classification (dense)\n",
    "input_shape = (img_rows, img_cols,3)\n",
    "feature_layers = [\n",
    "    Convolution2D(nb_filters, kernel_size, kernel_size,\n",
    "                  border_mode='valid',\n",
    "                  input_shape=input_shape),\n",
    "    Activation('relu'),\n",
    "    Convolution2D(nb_filters, kernel_size, kernel_size),\n",
    "    Activation('relu'),\n",
    "    MaxPooling2D(pool_size=(pool_size, pool_size)),\n",
    "    Dropout(0.25),\n",
    "    Flatten(),\n",
    "]\n",
    "classification_layers = [\n",
    "    Dense(128),\n",
    "    Activation('relu'),\n",
    "    Dropout(0.5),\n",
    "    Dense(nb_classes),\n",
    "    Activation('softmax')\n",
    "]"
   ]
  },
  {
   "cell_type": "code",
   "execution_count": 65,
   "metadata": {
    "collapsed": true
   },
   "outputs": [],
   "source": [
    "train_datagen = ImageDataGenerator(\n",
    "        zoom_range=0.2,\n",
    "        horizontal_flip=True)"
   ]
  },
  {
   "cell_type": "code",
   "execution_count": 66,
   "metadata": {
    "collapsed": true
   },
   "outputs": [],
   "source": [
    "test_datagen = ImageDataGenerator()"
   ]
  },
  {
   "cell_type": "code",
   "execution_count": 67,
   "metadata": {},
   "outputs": [
    {
     "name": "stdout",
     "output_type": "stream",
     "text": [
      "train  validation\r\n"
     ]
    }
   ],
   "source": [
    "!ls ../data"
   ]
  },
  {
   "cell_type": "code",
   "execution_count": 68,
   "metadata": {},
   "outputs": [
    {
     "name": "stdout",
     "output_type": "stream",
     "text": [
      "Found 554 images belonging to 4 classes.\n"
     ]
    }
   ],
   "source": [
    "train_generator = train_datagen.flow_from_directory(\n",
    "        '../data/train',\n",
    "        target_size=(150, 150),\n",
    "        batch_size=1,\n",
    "        class_mode='categorical')"
   ]
  },
  {
   "cell_type": "code",
   "execution_count": 69,
   "metadata": {},
   "outputs": [
    {
     "name": "stdout",
     "output_type": "stream",
     "text": [
      "Found 188 images belonging to 4 classes.\n"
     ]
    }
   ],
   "source": [
    "validation_generator = test_datagen.flow_from_directory(\n",
    "        '../data/validation',\n",
    "        target_size=(150, 150),\n",
    "        batch_size=1,\n",
    "        class_mode='categorical')"
   ]
  },
  {
   "cell_type": "code",
   "execution_count": 70,
   "metadata": {
    "collapsed": true
   },
   "outputs": [],
   "source": [
    "model = Sequential(feature_layers + classification_layers)"
   ]
  },
  {
   "cell_type": "code",
   "execution_count": 71,
   "metadata": {
    "collapsed": true
   },
   "outputs": [],
   "source": [
    "model.compile(loss='categorical_crossentropy',\n",
    "              optimizer='adadelta',\n",
    "              metrics=['accuracy'])\n",
    "t = now()"
   ]
  },
  {
   "cell_type": "code",
   "execution_count": 74,
   "metadata": {
    "collapsed": true
   },
   "outputs": [
    {
     "name": "stdout",
     "output_type": "stream",
     "text": [
      "Epoch 1/1\n",
      "24/24 [==============================] - 1s - loss: 10.7454 - acc: 0.3333 - val_loss: 13.4317 - val_acc: 0.1667\n"
     ]
    },
    {
     "data": {
      "text/plain": [
       "<keras.callbacks.History at 0x7f0896e47fd0>"
      ]
     },
     "execution_count": 74,
     "metadata": {},
     "output_type": "execute_result"
    }
   ],
   "source": [
    "model.fit_generator(generator = train_generator,\n",
    "                    steps_per_epoch = 24,\n",
    "                    validation_data = validation_generator,\n",
    "                    validation_steps = 6)"
   ]
  },
  {
   "cell_type": "code",
   "execution_count": 76,
   "metadata": {},
   "outputs": [
    {
     "name": "stdout",
     "output_type": "stream",
     "text": [
      "Epoch 1/50\n",
      "24/24 [==============================] - 1s - loss: 12.0886 - acc: 0.2500 - val_loss: 16.1181 - val_acc: 0.0000e+00\n",
      "Epoch 2/50\n",
      "24/24 [==============================] - 1s - loss: 14.7749 - acc: 0.0833 - val_loss: 5.3727 - val_acc: 0.6667\n",
      "Epoch 3/50\n",
      "24/24 [==============================] - 1s - loss: 12.0886 - acc: 0.2500 - val_loss: 16.1181 - val_acc: 0.0000e+00\n",
      "Epoch 4/50\n",
      "24/24 [==============================] - 1s - loss: 10.7454 - acc: 0.3333 - val_loss: 8.0590 - val_acc: 0.5000\n",
      "Epoch 5/50\n",
      "24/24 [==============================] - 1s - loss: 10.7454 - acc: 0.3333 - val_loss: 8.0590 - val_acc: 0.5000\n",
      "Epoch 6/50\n",
      "24/24 [==============================] - 1s - loss: 10.0738 - acc: 0.3750 - val_loss: 13.4317 - val_acc: 0.1667\n",
      "Epoch 7/50\n",
      "24/24 [==============================] - 1s - loss: 10.7454 - acc: 0.3333 - val_loss: 5.3727 - val_acc: 0.6667\n",
      "Epoch 8/50\n",
      "24/24 [==============================] - 1s - loss: 11.4170 - acc: 0.2917 - val_loss: 10.7454 - val_acc: 0.3333\n",
      "Epoch 9/50\n",
      "24/24 [==============================] - 1s - loss: 11.4170 - acc: 0.2917 - val_loss: 13.4317 - val_acc: 0.1667\n",
      "Epoch 10/50\n",
      "24/24 [==============================] - 1s - loss: 12.0886 - acc: 0.2500 - val_loss: 13.4317 - val_acc: 0.1667\n",
      "Epoch 11/50\n",
      "24/24 [==============================] - 1s - loss: 8.7306 - acc: 0.4583 - val_loss: 8.0590 - val_acc: 0.5000\n",
      "Epoch 12/50\n",
      "24/24 [==============================] - 1s - loss: 9.4022 - acc: 0.4167 - val_loss: 10.7454 - val_acc: 0.3333\n",
      "Epoch 13/50\n",
      "24/24 [==============================] - 1s - loss: 10.7454 - acc: 0.3333 - val_loss: 8.0590 - val_acc: 0.5000\n",
      "Epoch 14/50\n",
      "24/24 [==============================] - 1s - loss: 7.3875 - acc: 0.5417 - val_loss: 13.4317 - val_acc: 0.1667\n",
      "Epoch 15/50\n",
      "24/24 [==============================] - 1s - loss: 10.7454 - acc: 0.3333 - val_loss: 10.7454 - val_acc: 0.3333\n",
      "Epoch 16/50\n",
      "24/24 [==============================] - 1s - loss: 10.7454 - acc: 0.3333 - val_loss: 13.4317 - val_acc: 0.1667\n",
      "Epoch 17/50\n",
      "24/24 [==============================] - 1s - loss: 12.0886 - acc: 0.2500 - val_loss: 10.7454 - val_acc: 0.3333\n",
      "Epoch 18/50\n",
      "24/24 [==============================] - 1s - loss: 12.0886 - acc: 0.2500 - val_loss: 10.7454 - val_acc: 0.3333\n",
      "Epoch 19/50\n",
      "24/24 [==============================] - 1s - loss: 12.7602 - acc: 0.2083 - val_loss: 8.0590 - val_acc: 0.5000\n",
      "Epoch 20/50\n",
      "24/24 [==============================] - 1s - loss: 11.4170 - acc: 0.2917 - val_loss: 16.1181 - val_acc: 0.0000e+00\n",
      "Epoch 21/50\n",
      "24/24 [==============================] - 1s - loss: 12.0886 - acc: 0.2500 - val_loss: 10.7454 - val_acc: 0.3333\n",
      "Epoch 22/50\n",
      "24/24 [==============================] - 1s - loss: 11.4170 - acc: 0.2917 - val_loss: 10.7454 - val_acc: 0.3333\n",
      "Epoch 23/50\n",
      "24/24 [==============================] - 1s - loss: 9.4022 - acc: 0.4167 - val_loss: 13.4317 - val_acc: 0.1667\n",
      "Epoch 24/50\n",
      "24/24 [==============================] - 1s - loss: 8.7306 - acc: 0.4583 - val_loss: 13.4317 - val_acc: 0.1667\n",
      "Epoch 25/50\n",
      "24/24 [==============================] - 1s - loss: 10.7454 - acc: 0.3333 - val_loss: 13.4317 - val_acc: 0.1667\n",
      "Epoch 26/50\n",
      "24/24 [==============================] - 1s - loss: 12.7602 - acc: 0.2083 - val_loss: 8.0590 - val_acc: 0.5000\n",
      "Epoch 27/50\n",
      "24/24 [==============================] - 1s - loss: 8.7306 - acc: 0.4583 - val_loss: 8.0590 - val_acc: 0.5000\n",
      "Epoch 28/50\n",
      "24/24 [==============================] - 1s - loss: 12.7602 - acc: 0.2083 - val_loss: 13.4317 - val_acc: 0.1667\n",
      "Epoch 29/50\n",
      "24/24 [==============================] - 1s - loss: 10.0738 - acc: 0.3750 - val_loss: 13.4317 - val_acc: 0.1667\n",
      "Epoch 30/50\n",
      "24/24 [==============================] - 1s - loss: 14.1033 - acc: 0.1250 - val_loss: 8.0590 - val_acc: 0.5000\n",
      "Epoch 31/50\n",
      "24/24 [==============================] - 1s - loss: 12.0886 - acc: 0.2500 - val_loss: 16.1181 - val_acc: 0.0000e+00\n",
      "Epoch 32/50\n",
      "24/24 [==============================] - 1s - loss: 9.4022 - acc: 0.4167 - val_loss: 10.7454 - val_acc: 0.3333\n",
      "Epoch 33/50\n",
      "24/24 [==============================] - 1s - loss: 10.7454 - acc: 0.3333 - val_loss: 13.4317 - val_acc: 0.1667\n",
      "Epoch 34/50\n",
      "24/24 [==============================] - 1s - loss: 10.7454 - acc: 0.3333 - val_loss: 5.3727 - val_acc: 0.6667\n",
      "Epoch 35/50\n",
      "24/24 [==============================] - 1s - loss: 10.0738 - acc: 0.3750 - val_loss: 8.0590 - val_acc: 0.5000\n",
      "Epoch 36/50\n",
      "24/24 [==============================] - 1s - loss: 11.4170 - acc: 0.2917 - val_loss: 13.4317 - val_acc: 0.1667\n",
      "Epoch 37/50\n",
      "24/24 [==============================] - 1s - loss: 10.0738 - acc: 0.3750 - val_loss: 16.1181 - val_acc: 0.0000e+00\n",
      "Epoch 38/50\n",
      "24/24 [==============================] - 1s - loss: 12.0886 - acc: 0.2500 - val_loss: 8.0590 - val_acc: 0.5000\n",
      "Epoch 39/50\n",
      "24/24 [==============================] - 1s - loss: 12.0886 - acc: 0.2500 - val_loss: 16.1181 - val_acc: 0.0000e+00\n",
      "Epoch 40/50\n",
      "24/24 [==============================] - 1s - loss: 10.7454 - acc: 0.3333 - val_loss: 8.0590 - val_acc: 0.5000\n",
      "Epoch 41/50\n",
      "24/24 [==============================] - 1s - loss: 10.0738 - acc: 0.3750 - val_loss: 5.3727 - val_acc: 0.6667\n",
      "Epoch 42/50\n",
      "24/24 [==============================] - 1s - loss: 13.4317 - acc: 0.1667 - val_loss: 8.0590 - val_acc: 0.5000\n",
      "Epoch 43/50\n",
      "24/24 [==============================] - 1s - loss: 10.7454 - acc: 0.3333 - val_loss: 13.4317 - val_acc: 0.1667\n",
      "Epoch 44/50\n",
      "24/24 [==============================] - 1s - loss: 9.4022 - acc: 0.4167 - val_loss: 13.4317 - val_acc: 0.1667\n",
      "Epoch 45/50\n",
      "24/24 [==============================] - 1s - loss: 11.4170 - acc: 0.2917 - val_loss: 13.4317 - val_acc: 0.1667\n",
      "Epoch 46/50\n",
      "24/24 [==============================] - 1s - loss: 13.4317 - acc: 0.1667 - val_loss: 10.7454 - val_acc: 0.3333\n",
      "Epoch 47/50\n",
      "24/24 [==============================] - 1s - loss: 8.0590 - acc: 0.5000 - val_loss: 13.4317 - val_acc: 0.1667\n",
      "Epoch 48/50\n",
      "24/24 [==============================] - 1s - loss: 12.7602 - acc: 0.2083 - val_loss: 10.7454 - val_acc: 0.3333\n",
      "Epoch 49/50\n",
      "24/24 [==============================] - 1s - loss: 10.7454 - acc: 0.3333 - val_loss: 10.7454 - val_acc: 0.3333\n",
      "Epoch 50/50\n",
      "24/24 [==============================] - 1s - loss: 11.4170 - acc: 0.2917 - val_loss: 16.1181 - val_acc: 0.0000e+00\n"
     ]
    },
    {
     "data": {
      "text/plain": [
       "<keras.callbacks.History at 0x7f0896c9f828>"
      ]
     },
     "execution_count": 76,
     "metadata": {},
     "output_type": "execute_result"
    }
   ],
   "source": [
    "model.fit_generator(\n",
    "        train_generator,\n",
    "        steps_per_epoch=24,\n",
    "        epochs=50,\n",
    "        validation_data=validation_generator,\n",
    "        validation_steps=6)"
   ]
  },
  {
   "cell_type": "code",
   "execution_count": 77,
   "metadata": {
    "scrolled": true
   },
   "outputs": [
    {
     "data": {
      "text/plain": [
       "<keras.preprocessing.image.DirectoryIterator at 0x7f089720cf98>"
      ]
     },
     "execution_count": 77,
     "metadata": {},
     "output_type": "execute_result"
    }
   ],
   "source": [
    "train_generator"
   ]
  },
  {
   "cell_type": "code",
   "execution_count": 78,
   "metadata": {},
   "outputs": [
    {
     "data": {
      "text/plain": [
       "<keras.models.Sequential at 0x7f089729d7b8>"
      ]
     },
     "execution_count": 78,
     "metadata": {},
     "output_type": "execute_result"
    }
   ],
   "source": [
    "model"
   ]
  },
  {
   "cell_type": "code",
   "execution_count": 79,
   "metadata": {},
   "outputs": [
    {
     "name": "stdout",
     "output_type": "stream",
     "text": [
      "_________________________________________________________________\n",
      "Layer (type)                 Output Shape              Param #   \n",
      "=================================================================\n",
      "conv2d_9 (Conv2D)            (None, 148, 148, 32)      896       \n",
      "_________________________________________________________________\n",
      "activation_17 (Activation)   (None, 148, 148, 32)      0         \n",
      "_________________________________________________________________\n",
      "conv2d_10 (Conv2D)           (None, 146, 146, 32)      9248      \n",
      "_________________________________________________________________\n",
      "activation_18 (Activation)   (None, 146, 146, 32)      0         \n",
      "_________________________________________________________________\n",
      "max_pooling2d_5 (MaxPooling2 (None, 73, 73, 32)        0         \n",
      "_________________________________________________________________\n",
      "dropout_9 (Dropout)          (None, 73, 73, 32)        0         \n",
      "_________________________________________________________________\n",
      "flatten_5 (Flatten)          (None, 170528)            0         \n",
      "_________________________________________________________________\n",
      "dense_9 (Dense)              (None, 128)               21827712  \n",
      "_________________________________________________________________\n",
      "activation_19 (Activation)   (None, 128)               0         \n",
      "_________________________________________________________________\n",
      "dropout_10 (Dropout)         (None, 128)               0         \n",
      "_________________________________________________________________\n",
      "dense_10 (Dense)             (None, 4)                 516       \n",
      "_________________________________________________________________\n",
      "activation_20 (Activation)   (None, 4)                 0         \n",
      "=================================================================\n",
      "Total params: 21,838,372\n",
      "Trainable params: 21,838,372\n",
      "Non-trainable params: 0\n",
      "_________________________________________________________________\n"
     ]
    }
   ],
   "source": [
    "model.summary()"
   ]
  },
  {
   "cell_type": "code",
   "execution_count": 80,
   "metadata": {
    "collapsed": true
   },
   "outputs": [],
   "source": [
    "from keras.applications import VGG16\n",
    "from keras.applications.imagenet_utils import preprocess_input, decode_predictions\n",
    "import os"
   ]
  },
  {
   "cell_type": "code",
   "execution_count": null,
   "metadata": {
    "collapsed": true
   },
   "outputs": [],
   "source": []
  }
 ],
 "metadata": {
  "kernelspec": {
   "display_name": "Python 3",
   "language": "python",
   "name": "python3"
  },
  "language_info": {
   "codemirror_mode": {
    "name": "ipython",
    "version": 3
   },
   "file_extension": ".py",
   "mimetype": "text/x-python",
   "name": "python",
   "nbconvert_exporter": "python",
   "pygments_lexer": "ipython3",
   "version": "3.6.2"
  }
 },
 "nbformat": 4,
 "nbformat_minor": 2
}
