{
 "cells": [
  {
   "cell_type": "code",
   "execution_count": 1,
   "metadata": {},
   "outputs": [
    {
     "name": "stderr",
     "output_type": "stream",
     "text": [
      "/home/ubuntu/anaconda3/envs/tensorflow_p36/lib/python3.6/importlib/_bootstrap.py:219: RuntimeWarning: compiletime version 3.5 of module 'tensorflow.python.framework.fast_tensor_util' does not match runtime version 3.6\n",
      "  return f(*args, **kwds)\n"
     ]
    },
    {
     "data": {
      "text/plain": [
       "'1.4.0'"
      ]
     },
     "execution_count": 1,
     "metadata": {},
     "output_type": "execute_result"
    }
   ],
   "source": [
    "import tensorflow as tf\n",
    "tf.__version__"
   ]
  },
  {
   "cell_type": "code",
   "execution_count": 2,
   "metadata": {},
   "outputs": [],
   "source": [
    "from tensorflow.contrib import keras"
   ]
  },
  {
   "cell_type": "code",
   "execution_count": 3,
   "metadata": {},
   "outputs": [
    {
     "name": "stderr",
     "output_type": "stream",
     "text": [
      "Using TensorFlow backend.\n"
     ]
    }
   ],
   "source": [
    "from keras import backend as K\n",
    "from keras.applications.imagenet_utils import preprocess_input, decode_predictions\n",
    "import numpy as np\n",
    "import time\n",
    "import os\n",
    "\n",
    "np.random.seed(1337)"
   ]
  },
  {
   "cell_type": "code",
   "execution_count": 4,
   "metadata": {},
   "outputs": [],
   "source": [
    "from keras.models import Sequential\n",
    "#from keras.layers import Dense, Dropout, Activation, Flatten\n",
    "from keras.layers import Convolution2D, MaxPooling2D\n",
    "from keras.preprocessing.image import ImageDataGenerator\n",
    "from keras.utils import np_utils\n",
    "from keras import backend as K\n",
    "from numpy import nan\n",
    "import sys\n",
    "import datetime\n",
    "\n",
    "now = datetime.datetime.now"
   ]
  },
  {
   "cell_type": "code",
   "execution_count": 5,
   "metadata": {},
   "outputs": [],
   "source": [
    "from matplotlib import pyplot as plt\n",
    "\n",
    "%matplotlib inline"
   ]
  },
  {
   "cell_type": "code",
   "execution_count": 6,
   "metadata": {},
   "outputs": [],
   "source": [
    "IMG_WIDTH = 224\n",
    "IMG_HEIGHT = 224"
   ]
  },
  {
   "cell_type": "code",
   "execution_count": 7,
   "metadata": {},
   "outputs": [],
   "source": [
    "img_rows, img_cols = IMG_WIDTH, IMG_HEIGHT\n",
    "\n",
    "if K.image_data_format() == 'channels_first':\n",
    "    shape_ord = (3, img_rows, img_cols)\n",
    "else:  # channel_last\n",
    "    shape_ord = (img_rows, img_cols, 3)"
   ]
  },
  {
   "cell_type": "code",
   "execution_count": 8,
   "metadata": {},
   "outputs": [
    {
     "name": "stdout",
     "output_type": "stream",
     "text": [
      "Model loaded.\n"
     ]
    }
   ],
   "source": [
    "from keras.applications import vgg16\n",
    "from keras.layers import Input\n",
    "\n",
    "# build the VGG16 network with ImageNet weights\n",
    "vgg16 = vgg16.VGG16(weights='imagenet', include_top=False, input_tensor=Input((224, 224, 3)),classes=5)\n",
    "print('Model loaded.')"
   ]
  },
  {
   "cell_type": "code",
   "execution_count": 9,
   "metadata": {},
   "outputs": [],
   "source": [
    "from keras.layers.core import Dense, Dropout, Flatten\n",
    "from keras.layers.normalization import BatchNormalization"
   ]
  },
  {
   "cell_type": "code",
   "execution_count": 10,
   "metadata": {},
   "outputs": [],
   "source": [
    "for l in vgg16.layers:\n",
    "    l.trainable = False"
   ]
  },
  {
   "cell_type": "code",
   "execution_count": 11,
   "metadata": {},
   "outputs": [],
   "source": [
    "x = Flatten(input_shape=vgg16.output.shape)(vgg16.output)\n",
    "x = Dense(2048, activation='relu', name='ft_fc1')(x)\n",
    "x = Dropout(0.5)(x)\n",
    "x = Dense(1024, activation='relu', name='ft_fc2')(x)\n",
    "x = Dropout(0.5)(x)\n",
    "x = BatchNormalization()(x)\n",
    "predictions = Dense(5, activation = 'softmax')(x)"
   ]
  },
  {
   "cell_type": "code",
   "execution_count": 12,
   "metadata": {},
   "outputs": [],
   "source": [
    "from keras.models import Model\n",
    "\n",
    "model = Model(inputs=vgg16.input, outputs=predictions)\n",
    "\n",
    "#compile the model\n",
    "model.compile(optimizer='adadelta', loss='categorical_crossentropy', metrics=['accuracy'])"
   ]
  },
  {
   "cell_type": "code",
   "execution_count": 13,
   "metadata": {},
   "outputs": [],
   "source": [
    "train_datagen = ImageDataGenerator(\n",
    "        zoom_range=0.2,\n",
    "        horizontal_flip=True,\n",
    "        vertical_flip=True)"
   ]
  },
  {
   "cell_type": "code",
   "execution_count": 14,
   "metadata": {},
   "outputs": [
    {
     "name": "stdout",
     "output_type": "stream",
     "text": [
      "Found 1506 images belonging to 5 classes.\n"
     ]
    }
   ],
   "source": [
    "train_generator = train_datagen.flow_from_directory(\n",
    "        '../data/train2',\n",
    "        target_size=(224, 224),\n",
    "        batch_size=32, #changed from 1, change back if needed\n",
    "        class_mode='categorical')"
   ]
  },
  {
   "cell_type": "code",
   "execution_count": 33,
   "metadata": {},
   "outputs": [],
   "source": [
    "validation_datagen = ImageDataGenerator()"
   ]
  },
  {
   "cell_type": "code",
   "execution_count": 34,
   "metadata": {},
   "outputs": [
    {
     "name": "stdout",
     "output_type": "stream",
     "text": [
      "Found 502 images belonging to 5 classes.\n"
     ]
    }
   ],
   "source": [
    "validation_generator = validation_datagen.flow_from_directory(\n",
    "        '../data/validation2',\n",
    "        target_size=(224, 224),\n",
    "        batch_size=32,\n",
    "        class_mode='categorical')"
   ]
  },
  {
   "cell_type": "code",
   "execution_count": 35,
   "metadata": {},
   "outputs": [],
   "source": [
    "test_datagen = ImageDataGenerator()"
   ]
  },
  {
   "cell_type": "code",
   "execution_count": 36,
   "metadata": {},
   "outputs": [
    {
     "name": "stdout",
     "output_type": "stream",
     "text": [
      "Found 224 images belonging to 5 classes.\n"
     ]
    }
   ],
   "source": [
    "test_generator = test_datagen.flow_from_directory(\n",
    "        '../data/test2',\n",
    "        target_size=(224,224),\n",
    "        batch_size=32,\n",
    "        class_mode='categorical')"
   ]
  },
  {
   "cell_type": "code",
   "execution_count": null,
   "metadata": {},
   "outputs": [],
   "source": []
  },
  {
   "cell_type": "code",
   "execution_count": null,
   "metadata": {},
   "outputs": [],
   "source": []
  },
  {
   "cell_type": "code",
   "execution_count": null,
   "metadata": {},
   "outputs": [],
   "source": []
  },
  {
   "cell_type": "code",
   "execution_count": null,
   "metadata": {},
   "outputs": [],
   "source": []
  },
  {
   "cell_type": "code",
   "execution_count": 37,
   "metadata": {},
   "outputs": [],
   "source": [
    "from keras.preprocessing import image\n",
    "from keras.callbacks import TensorBoard"
   ]
  },
  {
   "cell_type": "code",
   "execution_count": 38,
   "metadata": {},
   "outputs": [
    {
     "name": "stdout",
     "output_type": "stream",
     "text": [
      "Epoch 1/40\n",
      "48/47 [==============================] - 61s 1s/step - loss: 0.3562 - acc: 0.8681 - val_loss: 1.0876 - val_acc: 0.6693\n",
      "Epoch 2/40\n",
      "48/47 [==============================] - 52s 1s/step - loss: 0.3803 - acc: 0.8580 - val_loss: 0.9935 - val_acc: 0.6793\n",
      "Epoch 3/40\n",
      "48/47 [==============================] - 53s 1s/step - loss: 0.4386 - acc: 0.8188 - val_loss: 0.9975 - val_acc: 0.6693\n",
      "Epoch 4/40\n",
      "48/47 [==============================] - 52s 1s/step - loss: 0.3332 - acc: 0.8784 - val_loss: 0.9632 - val_acc: 0.6912\n",
      "Epoch 5/40\n",
      "48/47 [==============================] - 51s 1s/step - loss: 0.4216 - acc: 0.8638 - val_loss: 0.9805 - val_acc: 0.6952\n",
      "Epoch 6/40\n",
      "48/47 [==============================] - 52s 1s/step - loss: 0.3253 - acc: 0.8810 - val_loss: 1.0033 - val_acc: 0.6614\n",
      "Epoch 7/40\n",
      "48/47 [==============================] - 51s 1s/step - loss: 0.3797 - acc: 0.8660 - val_loss: 1.0472 - val_acc: 0.6833\n",
      "Epoch 8/40\n",
      "48/47 [==============================] - 51s 1s/step - loss: 0.3650 - acc: 0.8728 - val_loss: 1.1336 - val_acc: 0.6514\n",
      "Epoch 9/40\n",
      "48/47 [==============================] - 51s 1s/step - loss: 0.2760 - acc: 0.8956 - val_loss: 1.0569 - val_acc: 0.6713\n",
      "Epoch 10/40\n",
      "48/47 [==============================] - 51s 1s/step - loss: 0.3045 - acc: 0.8891 - val_loss: 1.0004 - val_acc: 0.6773\n",
      "Epoch 11/40\n",
      "48/47 [==============================] - 51s 1s/step - loss: 0.2786 - acc: 0.8999 - val_loss: 1.0722 - val_acc: 0.6793\n",
      "Epoch 12/40\n",
      "48/47 [==============================] - 51s 1s/step - loss: 0.2785 - acc: 0.9111 - val_loss: 1.0109 - val_acc: 0.6853\n",
      "Epoch 13/40\n",
      "48/47 [==============================] - 52s 1s/step - loss: 0.3511 - acc: 0.8898 - val_loss: 1.1312 - val_acc: 0.6614\n",
      "Epoch 14/40\n",
      "48/47 [==============================] - 51s 1s/step - loss: 0.2595 - acc: 0.9084 - val_loss: 1.0633 - val_acc: 0.6853\n",
      "Epoch 15/40\n",
      "48/47 [==============================] - 52s 1s/step - loss: 0.2652 - acc: 0.9022 - val_loss: 1.0873 - val_acc: 0.6773\n",
      "Epoch 16/40\n",
      "48/47 [==============================] - 51s 1s/step - loss: 0.3128 - acc: 0.8876 - val_loss: 1.0615 - val_acc: 0.6673\n",
      "Epoch 17/40\n",
      "48/47 [==============================] - 51s 1s/step - loss: 0.2618 - acc: 0.9068 - val_loss: 1.1076 - val_acc: 0.6594\n",
      "Epoch 18/40\n",
      "48/47 [==============================] - 52s 1s/step - loss: 0.1917 - acc: 0.9368 - val_loss: 1.1185 - val_acc: 0.6813\n",
      "Epoch 19/40\n",
      "48/47 [==============================] - 51s 1s/step - loss: 0.2193 - acc: 0.9299 - val_loss: 1.1403 - val_acc: 0.6693\n",
      "Epoch 20/40\n",
      "48/47 [==============================] - 52s 1s/step - loss: 0.2226 - acc: 0.9318 - val_loss: 1.1726 - val_acc: 0.6673\n",
      "Epoch 21/40\n",
      "48/47 [==============================] - 52s 1s/step - loss: 0.2052 - acc: 0.9172 - val_loss: 1.1874 - val_acc: 0.6733\n",
      "Epoch 22/40\n",
      "48/47 [==============================] - 51s 1s/step - loss: 0.2310 - acc: 0.9196 - val_loss: 1.1726 - val_acc: 0.6773\n",
      "Epoch 23/40\n",
      "48/47 [==============================] - 51s 1s/step - loss: 0.1997 - acc: 0.9263 - val_loss: 1.1461 - val_acc: 0.6693\n",
      "Epoch 24/40\n",
      "48/47 [==============================] - 51s 1s/step - loss: 0.1918 - acc: 0.9362 - val_loss: 1.1402 - val_acc: 0.6873\n",
      "Epoch 25/40\n",
      "48/47 [==============================] - 52s 1s/step - loss: 0.2081 - acc: 0.9282 - val_loss: 1.3155 - val_acc: 0.6713\n",
      "Epoch 26/40\n",
      "48/47 [==============================] - 51s 1s/step - loss: 0.1903 - acc: 0.9266 - val_loss: 1.1918 - val_acc: 0.6733\n",
      "Epoch 27/40\n",
      "48/47 [==============================] - 51s 1s/step - loss: 0.2179 - acc: 0.9100 - val_loss: 1.2664 - val_acc: 0.6713\n",
      "Epoch 28/40\n",
      "48/47 [==============================] - 54s 1s/step - loss: 0.1921 - acc: 0.9309 - val_loss: 1.2486 - val_acc: 0.6693\n",
      "Epoch 29/40\n",
      "48/47 [==============================] - 51s 1s/step - loss: 0.1321 - acc: 0.9605 - val_loss: 1.2067 - val_acc: 0.6833\n",
      "Epoch 30/40\n",
      "48/47 [==============================] - 52s 1s/step - loss: 0.1813 - acc: 0.9363 - val_loss: 1.2555 - val_acc: 0.6713\n",
      "Epoch 31/40\n",
      "48/47 [==============================] - 51s 1s/step - loss: 0.1372 - acc: 0.9481 - val_loss: 1.2222 - val_acc: 0.6972\n",
      "Epoch 32/40\n",
      "48/47 [==============================] - 52s 1s/step - loss: 0.2057 - acc: 0.9210 - val_loss: 1.2767 - val_acc: 0.6753\n",
      "Epoch 33/40\n",
      "48/47 [==============================] - 53s 1s/step - loss: 0.1864 - acc: 0.9297 - val_loss: 1.1807 - val_acc: 0.6992\n",
      "Epoch 34/40\n",
      "48/47 [==============================] - 51s 1s/step - loss: 0.1646 - acc: 0.9421 - val_loss: 1.2386 - val_acc: 0.6853\n",
      "Epoch 35/40\n",
      "48/47 [==============================] - 52s 1s/step - loss: 0.1709 - acc: 0.9365 - val_loss: 1.1914 - val_acc: 0.6892\n",
      "Epoch 36/40\n",
      "48/47 [==============================] - 51s 1s/step - loss: 0.2339 - acc: 0.9331 - val_loss: 1.2626 - val_acc: 0.6932\n",
      "Epoch 37/40\n",
      "48/47 [==============================] - 52s 1s/step - loss: 0.1616 - acc: 0.9415 - val_loss: 1.2610 - val_acc: 0.6793\n",
      "Epoch 38/40\n",
      "48/47 [==============================] - 52s 1s/step - loss: 0.1409 - acc: 0.9409 - val_loss: 1.2184 - val_acc: 0.6873\n",
      "Epoch 39/40\n",
      "48/47 [==============================] - 52s 1s/step - loss: 0.1384 - acc: 0.9569 - val_loss: 1.3580 - val_acc: 0.6693\n",
      "Epoch 40/40\n",
      "48/47 [==============================] - 51s 1s/step - loss: 0.2080 - acc: 0.9441 - val_loss: 1.3126 - val_acc: 0.6773\n"
     ]
    },
    {
     "data": {
      "text/plain": [
       "<keras.callbacks.History at 0x7fd8b8a275c0>"
      ]
     },
     "execution_count": 38,
     "metadata": {},
     "output_type": "execute_result"
    }
   ],
   "source": [
    "model.fit_generator(\n",
    "        train_generator,\n",
    "        steps_per_epoch=47,\n",
    "        epochs=40,\n",
    "        validation_data=validation_generator,\n",
    "        validation_steps=16,\n",
    "        use_multiprocessing=True)\n",
    "#         callbacks=[TensorBoard(log_dir='./tf_logs', histogram_freq=0, \n",
    "#                                write_graph=True, write_images=True, \n",
    "#                                embeddings_freq=10, \n",
    "#                                embeddings_layer_names=['block1_conv2', \n",
    "#                                                        'block5_conv1', \n",
    "#                                                        'ft_fc1'], \n",
    "#                                embeddings_metadata=None)])"
   ]
  },
  {
   "cell_type": "code",
   "execution_count": 21,
   "metadata": {},
   "outputs": [],
   "source": [
    "model_history = _"
   ]
  },
  {
   "cell_type": "code",
   "execution_count": 39,
   "metadata": {},
   "outputs": [
    {
     "data": {
      "text/plain": [
       "[1.3126184980707813, 0.67729083760326125]"
      ]
     },
     "execution_count": 39,
     "metadata": {},
     "output_type": "execute_result"
    }
   ],
   "source": [
    "model.evaluate_generator(validation_generator,steps=15)"
   ]
  },
  {
   "cell_type": "code",
   "execution_count": 23,
   "metadata": {},
   "outputs": [],
   "source": [
    "import cv2"
   ]
  },
  {
   "cell_type": "code",
   "execution_count": 24,
   "metadata": {},
   "outputs": [
    {
     "data": {
      "text/html": [
       "<div>\n",
       "<style scoped>\n",
       "    .dataframe tbody tr th:only-of-type {\n",
       "        vertical-align: middle;\n",
       "    }\n",
       "\n",
       "    .dataframe tbody tr th {\n",
       "        vertical-align: top;\n",
       "    }\n",
       "\n",
       "    .dataframe thead th {\n",
       "        text-align: right;\n",
       "    }\n",
       "</style>\n",
       "<table border=\"1\" class=\"dataframe\">\n",
       "  <thead>\n",
       "    <tr style=\"text-align: right;\">\n",
       "      <th></th>\n",
       "      <th>file_name</th>\n",
       "      <th>order</th>\n",
       "    </tr>\n",
       "  </thead>\n",
       "  <tbody>\n",
       "    <tr>\n",
       "      <th>0</th>\n",
       "      <td>picture194.jpg</td>\n",
       "      <td>Ephemeridae</td>\n",
       "    </tr>\n",
       "    <tr>\n",
       "      <th>1</th>\n",
       "      <td>picture1600.jpg</td>\n",
       "      <td>Heptageniidae</td>\n",
       "    </tr>\n",
       "    <tr>\n",
       "      <th>2</th>\n",
       "      <td>photo_1344371.jpg</td>\n",
       "      <td>Ephemeridae</td>\n",
       "    </tr>\n",
       "    <tr>\n",
       "      <th>3</th>\n",
       "      <td>picture383.jpg</td>\n",
       "      <td>Ephemerellidae</td>\n",
       "    </tr>\n",
       "    <tr>\n",
       "      <th>4</th>\n",
       "      <td>picture814.jpg</td>\n",
       "      <td>Heptageniidae</td>\n",
       "    </tr>\n",
       "  </tbody>\n",
       "</table>\n",
       "</div>"
      ],
      "text/plain": [
       "           file_name           order\n",
       "0     picture194.jpg     Ephemeridae\n",
       "1    picture1600.jpg   Heptageniidae\n",
       "2  photo_1344371.jpg     Ephemeridae\n",
       "3     picture383.jpg  Ephemerellidae\n",
       "4     picture814.jpg   Heptageniidae"
      ]
     },
     "execution_count": 24,
     "metadata": {},
     "output_type": "execute_result"
    }
   ],
   "source": [
    "import pandas as pd\n",
    "df = pd.read_csv('../data/test2/xy.txt')\n",
    "df.head()"
   ]
  },
  {
   "cell_type": "code",
   "execution_count": 25,
   "metadata": {},
   "outputs": [],
   "source": [
    "t = test_generator.class_indices"
   ]
  },
  {
   "cell_type": "code",
   "execution_count": 26,
   "metadata": {},
   "outputs": [
    {
     "data": {
      "text/plain": [
       "array([[ 0.,  0.,  1.,  0.,  0.],\n",
       "       [ 0.,  0.,  0.,  1.,  0.],\n",
       "       [ 0.,  0.,  1.,  0.,  0.],\n",
       "       ..., \n",
       "       [ 0.,  0.,  0.,  1.,  0.],\n",
       "       [ 0.,  0.,  0.,  1.,  0.],\n",
       "       [ 0.,  0.,  1.,  0.,  0.]])"
      ]
     },
     "execution_count": 26,
     "metadata": {},
     "output_type": "execute_result"
    }
   ],
   "source": [
    "y_cat = np_utils.to_categorical([t[i] for i in df.order], 5)\n",
    "y_cat"
   ]
  },
  {
   "cell_type": "code",
   "execution_count": 27,
   "metadata": {},
   "outputs": [],
   "source": [
    "iml = []\n",
    "for f,o in zip(df.file_name,df.order):\n",
    "    i_path = '../data/test2/{}/{}'.format(o,f)\n",
    "    iml.append(cv2.resize(cv2.imread(i_path,1),(224,224),interpolation = cv2.INTER_AREA))"
   ]
  },
  {
   "cell_type": "code",
   "execution_count": 28,
   "metadata": {},
   "outputs": [],
   "source": [
    "y_cat = np.array(y_cat)\n",
    "y_true = []\n",
    "y_pred = []\n",
    "\n",
    "\n",
    "iml = np.stack(iml)\n",
    "\n",
    "test_datagen = ImageDataGenerator()\n",
    "test_generator = test_datagen.flow(iml,y_cat,\n",
    "        batch_size=32)"
   ]
  },
  {
   "cell_type": "code",
   "execution_count": 29,
   "metadata": {},
   "outputs": [],
   "source": [
    "pred = model.predict(iml)"
   ]
  },
  {
   "cell_type": "code",
   "execution_count": 30,
   "metadata": {},
   "outputs": [],
   "source": [
    "inv_map = {v: k for k, v in t.items()}\n",
    "y_pred = [inv_map[np.argmax(i)] for i in pred]"
   ]
  },
  {
   "cell_type": "code",
   "execution_count": 31,
   "metadata": {},
   "outputs": [],
   "source": [
    "y_true = [inv_map[np.argmax(i)] for i in y_cat]"
   ]
  },
  {
   "cell_type": "code",
   "execution_count": 32,
   "metadata": {},
   "outputs": [
    {
     "name": "stdout",
     "output_type": "stream",
     "text": [
      "                precision    recall  f1-score   support\n",
      "\n",
      "      Baetidae       0.41      0.29      0.34        31\n",
      "Ephemerellidae       0.72      0.74      0.73        80\n",
      "   Ephemeridae       0.81      0.75      0.78        28\n",
      " Heptageniidae       0.60      0.59      0.60        64\n",
      " Leptohyphidae       0.29      0.43      0.35        21\n",
      "\n",
      "   avg / total       0.61      0.61      0.61       224\n",
      "\n"
     ]
    }
   ],
   "source": [
    "from sklearn.metrics import classification_report\n",
    "print(classification_report(y_true,y_pred))"
   ]
  },
  {
   "cell_type": "code",
   "execution_count": null,
   "metadata": {},
   "outputs": [],
   "source": []
  }
 ],
 "metadata": {
  "kernelspec": {
   "display_name": "Environment (conda_tensorflow_p36)",
   "language": "python",
   "name": "conda_tensorflow_p36"
  },
  "language_info": {
   "codemirror_mode": {
    "name": "ipython",
    "version": 3
   },
   "file_extension": ".py",
   "mimetype": "text/x-python",
   "name": "python",
   "nbconvert_exporter": "python",
   "pygments_lexer": "ipython3",
   "version": "3.6.3"
  }
 },
 "nbformat": 4,
 "nbformat_minor": 2
}
