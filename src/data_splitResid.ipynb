{
 "cells": [
  {
   "cell_type": "code",
   "execution_count": 1,
   "metadata": {},
   "outputs": [],
   "source": [
    "import pandas as pd\n",
    "import numpy as np\n",
    "from sklearn.model_selection import train_test_split\n",
    "import shutil\n",
    "import os"
   ]
  },
  {
   "cell_type": "code",
   "execution_count": 2,
   "metadata": {},
   "outputs": [],
   "source": [
    "df = pd.read_csv('../data/meta.txt',sep=';')"
   ]
  },
  {
   "cell_type": "code",
   "execution_count": 3,
   "metadata": {},
   "outputs": [
    {
     "data": {
      "text/html": [
       "<div>\n",
       "<style scoped>\n",
       "    .dataframe tbody tr th:only-of-type {\n",
       "        vertical-align: middle;\n",
       "    }\n",
       "\n",
       "    .dataframe tbody tr th {\n",
       "        vertical-align: top;\n",
       "    }\n",
       "\n",
       "    .dataframe thead th {\n",
       "        text-align: right;\n",
       "    }\n",
       "</style>\n",
       "<table border=\"1\" class=\"dataframe\">\n",
       "  <thead>\n",
       "    <tr style=\"text-align: right;\">\n",
       "      <th></th>\n",
       "      <th>file_name</th>\n",
       "      <th>file_path</th>\n",
       "      <th>ready</th>\n",
       "      <th>back_view</th>\n",
       "      <th>side_view</th>\n",
       "      <th>ruler</th>\n",
       "      <th>hand_nature</th>\n",
       "      <th>m_adult</th>\n",
       "      <th>contrast</th>\n",
       "      <th>noisy_background</th>\n",
       "      <th>partial</th>\n",
       "      <th>order</th>\n",
       "      <th>family</th>\n",
       "    </tr>\n",
       "  </thead>\n",
       "  <tbody>\n",
       "    <tr>\n",
       "      <th>0</th>\n",
       "      <td>photo_98089.jpg</td>\n",
       "      <td>../data/bug_guide/plecoptera/photo_98089.jpg</td>\n",
       "      <td>1</td>\n",
       "      <td>0</td>\n",
       "      <td>0</td>\n",
       "      <td>0</td>\n",
       "      <td>0</td>\n",
       "      <td>0</td>\n",
       "      <td>0</td>\n",
       "      <td>0</td>\n",
       "      <td>0</td>\n",
       "      <td>Stoneflies (Plecoptera)</td>\n",
       "      <td>Winter Stoneflies (Taeniopterygidae)</td>\n",
       "    </tr>\n",
       "    <tr>\n",
       "      <th>1</th>\n",
       "      <td>photo_255771.jpg</td>\n",
       "      <td>../data/bug_guide/plecoptera/photo_255771.jpg</td>\n",
       "      <td>1</td>\n",
       "      <td>0</td>\n",
       "      <td>0</td>\n",
       "      <td>0</td>\n",
       "      <td>0</td>\n",
       "      <td>0</td>\n",
       "      <td>0</td>\n",
       "      <td>0</td>\n",
       "      <td>0</td>\n",
       "      <td>Stoneflies (Plecoptera)</td>\n",
       "      <td>Winter Stoneflies (Taeniopterygidae)</td>\n",
       "    </tr>\n",
       "    <tr>\n",
       "      <th>2</th>\n",
       "      <td>photo_255991.jpg</td>\n",
       "      <td>../data/bug_guide/plecoptera/photo_255991.jpg</td>\n",
       "      <td>0</td>\n",
       "      <td>0</td>\n",
       "      <td>0</td>\n",
       "      <td>0</td>\n",
       "      <td>0</td>\n",
       "      <td>0</td>\n",
       "      <td>0</td>\n",
       "      <td>1</td>\n",
       "      <td>0</td>\n",
       "      <td>Stoneflies (Plecoptera)</td>\n",
       "      <td>Winter Stoneflies (Taeniopterygidae)</td>\n",
       "    </tr>\n",
       "    <tr>\n",
       "      <th>3</th>\n",
       "      <td>photo_258045.jpg</td>\n",
       "      <td>../data/bug_guide/plecoptera/photo_258045.jpg</td>\n",
       "      <td>1</td>\n",
       "      <td>0</td>\n",
       "      <td>0</td>\n",
       "      <td>0</td>\n",
       "      <td>0</td>\n",
       "      <td>0</td>\n",
       "      <td>0</td>\n",
       "      <td>0</td>\n",
       "      <td>0</td>\n",
       "      <td>Stoneflies (Plecoptera)</td>\n",
       "      <td>Small Winter Stoneflies (Capniidae)</td>\n",
       "    </tr>\n",
       "    <tr>\n",
       "      <th>4</th>\n",
       "      <td>photo_654326.jpg</td>\n",
       "      <td>../data/bug_guide/plecoptera/photo_654326.jpg</td>\n",
       "      <td>0</td>\n",
       "      <td>0</td>\n",
       "      <td>0</td>\n",
       "      <td>0</td>\n",
       "      <td>1</td>\n",
       "      <td>0</td>\n",
       "      <td>0</td>\n",
       "      <td>1</td>\n",
       "      <td>0</td>\n",
       "      <td>Stoneflies (Plecoptera)</td>\n",
       "      <td>Spring Stoneflies (Nemouridae)</td>\n",
       "    </tr>\n",
       "  </tbody>\n",
       "</table>\n",
       "</div>"
      ],
      "text/plain": [
       "          file_name                                      file_path  ready  \\\n",
       "0   photo_98089.jpg   ../data/bug_guide/plecoptera/photo_98089.jpg      1   \n",
       "1  photo_255771.jpg  ../data/bug_guide/plecoptera/photo_255771.jpg      1   \n",
       "2  photo_255991.jpg  ../data/bug_guide/plecoptera/photo_255991.jpg      0   \n",
       "3  photo_258045.jpg  ../data/bug_guide/plecoptera/photo_258045.jpg      1   \n",
       "4  photo_654326.jpg  ../data/bug_guide/plecoptera/photo_654326.jpg      0   \n",
       "\n",
       "   back_view  side_view  ruler  hand_nature  m_adult  contrast  \\\n",
       "0          0          0      0            0        0         0   \n",
       "1          0          0      0            0        0         0   \n",
       "2          0          0      0            0        0         0   \n",
       "3          0          0      0            0        0         0   \n",
       "4          0          0      0            1        0         0   \n",
       "\n",
       "   noisy_background  partial                    order  \\\n",
       "0                 0        0  Stoneflies (Plecoptera)   \n",
       "1                 0        0  Stoneflies (Plecoptera)   \n",
       "2                 1        0  Stoneflies (Plecoptera)   \n",
       "3                 0        0  Stoneflies (Plecoptera)   \n",
       "4                 1        0  Stoneflies (Plecoptera)   \n",
       "\n",
       "                                 family  \n",
       "0  Winter Stoneflies (Taeniopterygidae)  \n",
       "1  Winter Stoneflies (Taeniopterygidae)  \n",
       "2  Winter Stoneflies (Taeniopterygidae)  \n",
       "3   Small Winter Stoneflies (Capniidae)  \n",
       "4        Spring Stoneflies (Nemouridae)  "
      ]
     },
     "execution_count": 3,
     "metadata": {},
     "output_type": "execute_result"
    }
   ],
   "source": [
    "df.head()"
   ]
  },
  {
   "cell_type": "code",
   "execution_count": 79,
   "metadata": {},
   "outputs": [
    {
     "data": {
      "text/plain": [
       "(5603, 13)"
      ]
     },
     "execution_count": 79,
     "metadata": {},
     "output_type": "execute_result"
    }
   ],
   "source": [
    "df.shape"
   ]
  },
  {
   "cell_type": "code",
   "execution_count": 80,
   "metadata": {},
   "outputs": [],
   "source": [
    "order_dict = {'Stoneflies (Plecoptera)':'Plecoptera','Plecoptera (Stoneflies)':'Plecoptera',\n",
    "'Mayflies (Ephemeroptera)':'Ephemeroptera','Ephemeroptera (Mayflies)':'Ephemeroptera',\n",
    "'Caddisflies (Trichoptera)':'Trichoptera','Trichoptera (Caddisflies)':'Trichoptera',\n",
    "'Diptera (True Flies)':'Diptera','Flies (Diptera)':'Diptera'}\n",
    "order_list = []\n",
    "for i in df.order:\n",
    "    order_list.append(order_dict[i])\n",
    "df.order = order_list"
   ]
  },
  {
   "cell_type": "code",
   "execution_count": 81,
   "metadata": {},
   "outputs": [],
   "source": [
    "df = df[df.order == 'Ephemeroptera']"
   ]
  },
  {
   "cell_type": "code",
   "execution_count": 82,
   "metadata": {},
   "outputs": [],
   "source": [
    "family_dict = {\n",
    "                'Common Burrower Mayflies (Ephemeridae)':'Ephemeridae',\n",
    "                'Ephemeridae (Hexes and Big Drakes)':'Ephemeridae',\n",
    "                'Spiny Crawler Mayflies (Ephemerellidae)':'Ephemerellidae',\n",
    "                'Ephemerellidae (Hendricksons, Sulphurs, PMDs, BWOs)':'Ephemerellidae',\n",
    "                'Flatheaded Mayflies (Heptageniidae)':'Heptageniidae',\n",
    "                'Heptageniidae (March Browns, Cahills, Quill Gordons)':'Heptageniidae',\n",
    "                'Small Minnow Mayflies (Baetidae)':'Baetidae',\n",
    "                'Baetidae (Blue-Winged Olives)':'Baetidae',\n",
    "                'Small Squaregilled Mayflies (Caenidae)':'Caenidae',\n",
    "                \"Caenidae (Angler's Curses)\":'Caenidae',\n",
    "                'Little Stout Crawler Mayflies (Leptohyphidae)':'Leptohyphidae',\n",
    "                'Leptophlebiidae (Blue Quills and Mahogany Duns)':'Leptohyphidae',\n",
    "                'Pale Burrower Mayflies (Polymitarcyidae)':'Polymitarcyidae',\n",
    "                'Armored Mayflies (Baetiscidae)':'Baetiscidae',\n",
    "                'Baetiscidae (Armored Mayflies)':'Baetiscidae',\n",
    "                'Riverbed Burrower Mayflies (Palingeniidae)':'Palingeniidae',\n",
    "                'Hacklegilled Burrower Mayflies (Potamanthidae)':'Potamanthidae',\n",
    "                'Pronggilled Mayflies (Leptophlebiidae)':'Leptophlebiidae',\n",
    "                'Isonychiidae (Slate Drakes)':'Isonychiidae',\n",
    "                'Ameletidae (Brown Duns)':'Ameletidae',\n",
    "                'Siphlonuridae (Gray Drakes)':'Siphlonuridae',\n",
    "                'Metretopodidae (Pseudo-Gray Drakes)':'Metretopodidae',\n",
    "                'Neoephemeridae':'Neoephemeridae',\n",
    "                'Leptohyphidae (Tricos)':'Leptohyphidae',\n",
    "                'nan':'nan'\n",
    "              }\n",
    "family_list = []\n",
    "for i in df.family.astype(str):\n",
    "    family_list.append(family_dict[i])\n",
    "df.family = family_list"
   ]
  },
  {
   "cell_type": "code",
   "execution_count": 83,
   "metadata": {},
   "outputs": [
    {
     "data": {
      "text/html": [
       "<div>\n",
       "<style scoped>\n",
       "    .dataframe tbody tr th:only-of-type {\n",
       "        vertical-align: middle;\n",
       "    }\n",
       "\n",
       "    .dataframe tbody tr th {\n",
       "        vertical-align: top;\n",
       "    }\n",
       "\n",
       "    .dataframe thead th {\n",
       "        text-align: right;\n",
       "    }\n",
       "</style>\n",
       "<table border=\"1\" class=\"dataframe\">\n",
       "  <thead>\n",
       "    <tr style=\"text-align: right;\">\n",
       "      <th></th>\n",
       "      <th>file_name</th>\n",
       "      <th>file_path</th>\n",
       "      <th>ready</th>\n",
       "      <th>back_view</th>\n",
       "      <th>side_view</th>\n",
       "      <th>ruler</th>\n",
       "      <th>hand_nature</th>\n",
       "      <th>m_adult</th>\n",
       "      <th>contrast</th>\n",
       "      <th>noisy_background</th>\n",
       "      <th>partial</th>\n",
       "      <th>order</th>\n",
       "      <th>family</th>\n",
       "    </tr>\n",
       "  </thead>\n",
       "  <tbody>\n",
       "    <tr>\n",
       "      <th>2119</th>\n",
       "      <td>photo_238799.jpg</td>\n",
       "      <td>../data/bug_guide/plecoptera/photo_238799.jpg</td>\n",
       "      <td>0</td>\n",
       "      <td>0</td>\n",
       "      <td>0</td>\n",
       "      <td>0</td>\n",
       "      <td>0</td>\n",
       "      <td>0</td>\n",
       "      <td>0</td>\n",
       "      <td>1</td>\n",
       "      <td>0</td>\n",
       "      <td>Ephemeroptera</td>\n",
       "      <td>Ephemeridae</td>\n",
       "    </tr>\n",
       "    <tr>\n",
       "      <th>2120</th>\n",
       "      <td>photo_268284.jpg</td>\n",
       "      <td>../data/bug_guide/plecoptera/photo_268284.jpg</td>\n",
       "      <td>0</td>\n",
       "      <td>0</td>\n",
       "      <td>0</td>\n",
       "      <td>0</td>\n",
       "      <td>0</td>\n",
       "      <td>0</td>\n",
       "      <td>0</td>\n",
       "      <td>1</td>\n",
       "      <td>0</td>\n",
       "      <td>Ephemeroptera</td>\n",
       "      <td>Ephemerellidae</td>\n",
       "    </tr>\n",
       "    <tr>\n",
       "      <th>2121</th>\n",
       "      <td>photo_698790.jpg</td>\n",
       "      <td>../data/bug_guide/plecoptera/photo_698790.jpg</td>\n",
       "      <td>0</td>\n",
       "      <td>0</td>\n",
       "      <td>0</td>\n",
       "      <td>0</td>\n",
       "      <td>1</td>\n",
       "      <td>0</td>\n",
       "      <td>1</td>\n",
       "      <td>1</td>\n",
       "      <td>0</td>\n",
       "      <td>Ephemeroptera</td>\n",
       "      <td>Heptageniidae</td>\n",
       "    </tr>\n",
       "    <tr>\n",
       "      <th>2122</th>\n",
       "      <td>photo_762232.jpg</td>\n",
       "      <td>../data/bug_guide/plecoptera/photo_762232.jpg</td>\n",
       "      <td>0</td>\n",
       "      <td>0</td>\n",
       "      <td>1</td>\n",
       "      <td>0</td>\n",
       "      <td>1</td>\n",
       "      <td>0</td>\n",
       "      <td>1</td>\n",
       "      <td>0</td>\n",
       "      <td>0</td>\n",
       "      <td>Ephemeroptera</td>\n",
       "      <td>Heptageniidae</td>\n",
       "    </tr>\n",
       "    <tr>\n",
       "      <th>2123</th>\n",
       "      <td>photo_971406.jpg</td>\n",
       "      <td>../data/bug_guide/plecoptera/photo_971406.jpg</td>\n",
       "      <td>0</td>\n",
       "      <td>0</td>\n",
       "      <td>0</td>\n",
       "      <td>0</td>\n",
       "      <td>0</td>\n",
       "      <td>0</td>\n",
       "      <td>0</td>\n",
       "      <td>1</td>\n",
       "      <td>0</td>\n",
       "      <td>Ephemeroptera</td>\n",
       "      <td>Heptageniidae</td>\n",
       "    </tr>\n",
       "  </tbody>\n",
       "</table>\n",
       "</div>"
      ],
      "text/plain": [
       "             file_name                                      file_path  ready  \\\n",
       "2119  photo_238799.jpg  ../data/bug_guide/plecoptera/photo_238799.jpg      0   \n",
       "2120  photo_268284.jpg  ../data/bug_guide/plecoptera/photo_268284.jpg      0   \n",
       "2121  photo_698790.jpg  ../data/bug_guide/plecoptera/photo_698790.jpg      0   \n",
       "2122  photo_762232.jpg  ../data/bug_guide/plecoptera/photo_762232.jpg      0   \n",
       "2123  photo_971406.jpg  ../data/bug_guide/plecoptera/photo_971406.jpg      0   \n",
       "\n",
       "      back_view  side_view  ruler  hand_nature  m_adult  contrast  \\\n",
       "2119          0          0      0            0        0         0   \n",
       "2120          0          0      0            0        0         0   \n",
       "2121          0          0      0            1        0         1   \n",
       "2122          0          1      0            1        0         1   \n",
       "2123          0          0      0            0        0         0   \n",
       "\n",
       "      noisy_background  partial          order          family  \n",
       "2119                 1        0  Ephemeroptera     Ephemeridae  \n",
       "2120                 1        0  Ephemeroptera  Ephemerellidae  \n",
       "2121                 1        0  Ephemeroptera   Heptageniidae  \n",
       "2122                 0        0  Ephemeroptera   Heptageniidae  \n",
       "2123                 1        0  Ephemeroptera   Heptageniidae  "
      ]
     },
     "execution_count": 83,
     "metadata": {},
     "output_type": "execute_result"
    }
   ],
   "source": [
    "df.head()"
   ]
  },
  {
   "cell_type": "code",
   "execution_count": 56,
   "metadata": {},
   "outputs": [
    {
     "name": "stdout",
     "output_type": "stream",
     "text": [
      "['Ephemerellidae' 'Heptageniidae' 'Ephemeridae' 'Baetidae' 'Leptohyphidae'\n",
      " 'Baetiscidae' 'Isonychiidae' 'Caenidae' 'Leptophlebiidae' 'Metretopodidae'\n",
      " 'Siphlonuridae' 'Ameletidae' 'nan' 'Polymitarcyidae' 'Palingeniidae'\n",
      " 'Potamanthidae' 'Neoephemeridae'] [761 681 297 266 227 108  79  53  40  36  36  35  18   5   4   4   3]\n"
     ]
    }
   ],
   "source": [
    "family_counts = np.unique(df.family,return_counts=True)\n",
    "a = np.flip(np.argsort(family_counts[1]),axis=0)\n",
    "print(family_counts[0][a],family_counts[1][a])"
   ]
  },
  {
   "cell_type": "code",
   "execution_count": 57,
   "metadata": {},
   "outputs": [],
   "source": [
    "family_list = ['Ephemerellidae', 'Heptageniidae', 'Ephemeridae', 'Baetidae', 'Leptohyphidae']"
   ]
  },
  {
   "cell_type": "code",
   "execution_count": 58,
   "metadata": {},
   "outputs": [],
   "source": [
    "b = [i in family_list for i in df.family]"
   ]
  },
  {
   "cell_type": "code",
   "execution_count": 67,
   "metadata": {},
   "outputs": [],
   "source": [
    "df.head()\n",
    "x = df[b].file_name\n",
    "y = df[b].family"
   ]
  },
  {
   "cell_type": "code",
   "execution_count": null,
   "metadata": {},
   "outputs": [],
   "source": []
  },
  {
   "cell_type": "code",
   "execution_count": 69,
   "metadata": {},
   "outputs": [],
   "source": [
    "xtrain_val,xtest,ytrain_val,ytest = train_test_split(x,y,test_size = .1)"
   ]
  },
  {
   "cell_type": "code",
   "execution_count": 70,
   "metadata": {},
   "outputs": [
    {
     "data": {
      "text/plain": [
       "(2008,)"
      ]
     },
     "execution_count": 70,
     "metadata": {},
     "output_type": "execute_result"
    }
   ],
   "source": [
    "ytrain_val.shape"
   ]
  },
  {
   "cell_type": "code",
   "execution_count": 71,
   "metadata": {},
   "outputs": [],
   "source": [
    "xtrain,xval,ytrain,yval = train_test_split(xtrain_val,ytrain_val)"
   ]
  },
  {
   "cell_type": "code",
   "execution_count": 73,
   "metadata": {},
   "outputs": [],
   "source": [
    "with open('../data/train2/xy.txt','w') as f:\n",
    "    f.write('file_name,order\\n')\n",
    "    for x,y in zip(xtrain,ytrain):\n",
    "        s = '../data/bug_pics/{}'.format(x)\n",
    "        d = '../data/train2/{}/{}'.format(y,x)\n",
    "        shutil.copy(s,d)\n",
    "        f.write(x+','+y+'\\n')"
   ]
  },
  {
   "cell_type": "code",
   "execution_count": 74,
   "metadata": {},
   "outputs": [],
   "source": [
    "with open('../data/test2/xy.txt','w') as f:\n",
    "    f.write('file_name,order\\n')\n",
    "    for x,y in zip(xtest,ytest):\n",
    "        s = '../data/bug_pics/{}'.format(x)\n",
    "        d = '../data/test2/{}/{}'.format(y,x)\n",
    "        shutil.copy(s,d)\n",
    "        f.write(x+','+y+'\\n')"
   ]
  },
  {
   "cell_type": "code",
   "execution_count": 75,
   "metadata": {},
   "outputs": [],
   "source": [
    "with open('../data/validation2/xy.txt','w') as f:\n",
    "    f.write('file_name,order\\n')\n",
    "    for x,y in zip(xval,yval):\n",
    "        s = '../data/bug_pics/{}'.format(x)\n",
    "        d = '../data/validation2/{}/{}'.format(y,x)\n",
    "        shutil.copy(s,d)\n",
    "        f.write(x+','+y+'\\n')"
   ]
  },
  {
   "cell_type": "code",
   "execution_count": null,
   "metadata": {},
   "outputs": [],
   "source": []
  },
  {
   "cell_type": "code",
   "execution_count": null,
   "metadata": {},
   "outputs": [],
   "source": []
  },
  {
   "cell_type": "code",
   "execution_count": null,
   "metadata": {},
   "outputs": [],
   "source": []
  },
  {
   "cell_type": "code",
   "execution_count": null,
   "metadata": {},
   "outputs": [],
   "source": []
  },
  {
   "cell_type": "code",
   "execution_count": null,
   "metadata": {},
   "outputs": [],
   "source": []
  },
  {
   "cell_type": "code",
   "execution_count": null,
   "metadata": {},
   "outputs": [],
   "source": []
  },
  {
   "cell_type": "code",
   "execution_count": null,
   "metadata": {},
   "outputs": [],
   "source": []
  },
  {
   "cell_type": "code",
   "execution_count": null,
   "metadata": {},
   "outputs": [],
   "source": []
  },
  {
   "cell_type": "code",
   "execution_count": null,
   "metadata": {},
   "outputs": [],
   "source": []
  },
  {
   "cell_type": "code",
   "execution_count": null,
   "metadata": {},
   "outputs": [],
   "source": []
  },
  {
   "cell_type": "code",
   "execution_count": null,
   "metadata": {},
   "outputs": [],
   "source": []
  },
  {
   "cell_type": "code",
   "execution_count": null,
   "metadata": {},
   "outputs": [],
   "source": []
  },
  {
   "cell_type": "code",
   "execution_count": null,
   "metadata": {},
   "outputs": [],
   "source": []
  },
  {
   "cell_type": "code",
   "execution_count": 5,
   "metadata": {},
   "outputs": [],
   "source": [
    "order_dict = {'Stoneflies (Plecoptera)':'Plecoptera','Plecoptera (Stoneflies)':'Plecoptera',\n",
    "'Mayflies (Ephemeroptera)':'Ephemeroptera','Ephemeroptera (Mayflies)':'Ephemeroptera',\n",
    "'Caddisflies (Trichoptera)':'Trichoptera','Trichoptera (Caddisflies)':'Trichoptera',\n",
    "'Diptera (True Flies)':'Diptera','Flies (Diptera)':'Diptera'}\n",
    "order_list = []\n",
    "for i in df.order:\n",
    "    order_list.append(order_dict[i])\n",
    "df.order = order_list"
   ]
  },
  {
   "cell_type": "code",
   "execution_count": 6,
   "metadata": {},
   "outputs": [
    {
     "data": {
      "text/plain": [
       "array(['Plecoptera', 'Trichoptera', 'Diptera', 'Ephemeroptera'], dtype=object)"
      ]
     },
     "execution_count": 6,
     "metadata": {},
     "output_type": "execute_result"
    }
   ],
   "source": [
    "df.order.unique()"
   ]
  },
  {
   "cell_type": "code",
   "execution_count": 7,
   "metadata": {},
   "outputs": [
    {
     "data": {
      "text/html": [
       "<div>\n",
       "<style scoped>\n",
       "    .dataframe tbody tr th:only-of-type {\n",
       "        vertical-align: middle;\n",
       "    }\n",
       "\n",
       "    .dataframe tbody tr th {\n",
       "        vertical-align: top;\n",
       "    }\n",
       "\n",
       "    .dataframe thead th {\n",
       "        text-align: right;\n",
       "    }\n",
       "</style>\n",
       "<table border=\"1\" class=\"dataframe\">\n",
       "  <thead>\n",
       "    <tr style=\"text-align: right;\">\n",
       "      <th></th>\n",
       "      <th>file_name</th>\n",
       "      <th>file_path</th>\n",
       "      <th>ready</th>\n",
       "      <th>back_view</th>\n",
       "      <th>side_view</th>\n",
       "      <th>ruler</th>\n",
       "      <th>hand_nature</th>\n",
       "      <th>m_adult</th>\n",
       "      <th>contrast</th>\n",
       "      <th>noisy_background</th>\n",
       "      <th>partial</th>\n",
       "      <th>order</th>\n",
       "      <th>family</th>\n",
       "    </tr>\n",
       "  </thead>\n",
       "  <tbody>\n",
       "    <tr>\n",
       "      <th>0</th>\n",
       "      <td>photo_98089.jpg</td>\n",
       "      <td>../data/bug_guide/plecoptera/photo_98089.jpg</td>\n",
       "      <td>1</td>\n",
       "      <td>0</td>\n",
       "      <td>0</td>\n",
       "      <td>0</td>\n",
       "      <td>0</td>\n",
       "      <td>0</td>\n",
       "      <td>0</td>\n",
       "      <td>0</td>\n",
       "      <td>0</td>\n",
       "      <td>Plecoptera</td>\n",
       "      <td>Winter Stoneflies (Taeniopterygidae)</td>\n",
       "    </tr>\n",
       "    <tr>\n",
       "      <th>1</th>\n",
       "      <td>photo_255771.jpg</td>\n",
       "      <td>../data/bug_guide/plecoptera/photo_255771.jpg</td>\n",
       "      <td>1</td>\n",
       "      <td>0</td>\n",
       "      <td>0</td>\n",
       "      <td>0</td>\n",
       "      <td>0</td>\n",
       "      <td>0</td>\n",
       "      <td>0</td>\n",
       "      <td>0</td>\n",
       "      <td>0</td>\n",
       "      <td>Plecoptera</td>\n",
       "      <td>Winter Stoneflies (Taeniopterygidae)</td>\n",
       "    </tr>\n",
       "    <tr>\n",
       "      <th>2</th>\n",
       "      <td>photo_255991.jpg</td>\n",
       "      <td>../data/bug_guide/plecoptera/photo_255991.jpg</td>\n",
       "      <td>0</td>\n",
       "      <td>0</td>\n",
       "      <td>0</td>\n",
       "      <td>0</td>\n",
       "      <td>0</td>\n",
       "      <td>0</td>\n",
       "      <td>0</td>\n",
       "      <td>1</td>\n",
       "      <td>0</td>\n",
       "      <td>Plecoptera</td>\n",
       "      <td>Winter Stoneflies (Taeniopterygidae)</td>\n",
       "    </tr>\n",
       "    <tr>\n",
       "      <th>3</th>\n",
       "      <td>photo_258045.jpg</td>\n",
       "      <td>../data/bug_guide/plecoptera/photo_258045.jpg</td>\n",
       "      <td>1</td>\n",
       "      <td>0</td>\n",
       "      <td>0</td>\n",
       "      <td>0</td>\n",
       "      <td>0</td>\n",
       "      <td>0</td>\n",
       "      <td>0</td>\n",
       "      <td>0</td>\n",
       "      <td>0</td>\n",
       "      <td>Plecoptera</td>\n",
       "      <td>Small Winter Stoneflies (Capniidae)</td>\n",
       "    </tr>\n",
       "    <tr>\n",
       "      <th>4</th>\n",
       "      <td>photo_654326.jpg</td>\n",
       "      <td>../data/bug_guide/plecoptera/photo_654326.jpg</td>\n",
       "      <td>0</td>\n",
       "      <td>0</td>\n",
       "      <td>0</td>\n",
       "      <td>0</td>\n",
       "      <td>1</td>\n",
       "      <td>0</td>\n",
       "      <td>0</td>\n",
       "      <td>1</td>\n",
       "      <td>0</td>\n",
       "      <td>Plecoptera</td>\n",
       "      <td>Spring Stoneflies (Nemouridae)</td>\n",
       "    </tr>\n",
       "  </tbody>\n",
       "</table>\n",
       "</div>"
      ],
      "text/plain": [
       "          file_name                                      file_path  ready  \\\n",
       "0   photo_98089.jpg   ../data/bug_guide/plecoptera/photo_98089.jpg      1   \n",
       "1  photo_255771.jpg  ../data/bug_guide/plecoptera/photo_255771.jpg      1   \n",
       "2  photo_255991.jpg  ../data/bug_guide/plecoptera/photo_255991.jpg      0   \n",
       "3  photo_258045.jpg  ../data/bug_guide/plecoptera/photo_258045.jpg      1   \n",
       "4  photo_654326.jpg  ../data/bug_guide/plecoptera/photo_654326.jpg      0   \n",
       "\n",
       "   back_view  side_view  ruler  hand_nature  m_adult  contrast  \\\n",
       "0          0          0      0            0        0         0   \n",
       "1          0          0      0            0        0         0   \n",
       "2          0          0      0            0        0         0   \n",
       "3          0          0      0            0        0         0   \n",
       "4          0          0      0            1        0         0   \n",
       "\n",
       "   noisy_background  partial       order                                family  \n",
       "0                 0        0  Plecoptera  Winter Stoneflies (Taeniopterygidae)  \n",
       "1                 0        0  Plecoptera  Winter Stoneflies (Taeniopterygidae)  \n",
       "2                 1        0  Plecoptera  Winter Stoneflies (Taeniopterygidae)  \n",
       "3                 0        0  Plecoptera   Small Winter Stoneflies (Capniidae)  \n",
       "4                 1        0  Plecoptera        Spring Stoneflies (Nemouridae)  "
      ]
     },
     "execution_count": 7,
     "metadata": {},
     "output_type": "execute_result"
    }
   ],
   "source": [
    "df.head()"
   ]
  },
  {
   "cell_type": "code",
   "execution_count": 8,
   "metadata": {},
   "outputs": [
    {
     "data": {
      "text/plain": [
       "(5092,)"
      ]
     },
     "execution_count": 8,
     "metadata": {},
     "output_type": "execute_result"
    }
   ],
   "source": [
    "np.where(df.partial != 1)[0].shape"
   ]
  },
  {
   "cell_type": "code",
   "execution_count": 9,
   "metadata": {},
   "outputs": [
    {
     "data": {
      "text/plain": [
       "(5092, 13)"
      ]
     },
     "execution_count": 9,
     "metadata": {},
     "output_type": "execute_result"
    }
   ],
   "source": [
    "df.iloc[np.where(df.partial != 1)[0]].shape"
   ]
  },
  {
   "cell_type": "code",
   "execution_count": 10,
   "metadata": {},
   "outputs": [],
   "source": [
    "df = df.iloc[np.where(df.partial != 1)[0]]"
   ]
  },
  {
   "cell_type": "code",
   "execution_count": null,
   "metadata": {},
   "outputs": [],
   "source": []
  },
  {
   "cell_type": "code",
   "execution_count": null,
   "metadata": {},
   "outputs": [],
   "source": []
  },
  {
   "cell_type": "code",
   "execution_count": null,
   "metadata": {},
   "outputs": [],
   "source": []
  },
  {
   "cell_type": "code",
   "execution_count": 11,
   "metadata": {},
   "outputs": [],
   "source": [
    "x = df.file_name\n",
    "y = df.order"
   ]
  },
  {
   "cell_type": "code",
   "execution_count": 12,
   "metadata": {},
   "outputs": [],
   "source": [
    "xtrain_val,xtest,ytrain_val,ytest = train_test_split(x,y,test_size = .1,random_state=77)"
   ]
  },
  {
   "cell_type": "code",
   "execution_count": 13,
   "metadata": {},
   "outputs": [
    {
     "data": {
      "text/plain": [
       "1721    photo_990553.jpg\n",
       "460     photo_517331.jpg\n",
       "822     photo_363659.jpg\n",
       "1200    photo_752908.jpg\n",
       "635     photo_842999.jpg\n",
       "Name: file_name, dtype: object"
      ]
     },
     "execution_count": 13,
     "metadata": {},
     "output_type": "execute_result"
    }
   ],
   "source": [
    "xtrain_val.head()"
   ]
  },
  {
   "cell_type": "code",
   "execution_count": 14,
   "metadata": {},
   "outputs": [],
   "source": [
    "xtrain,xval,ytrain,yval = train_test_split(xtrain_val,ytrain_val,random_state = 42)"
   ]
  },
  {
   "cell_type": "code",
   "execution_count": 15,
   "metadata": {},
   "outputs": [],
   "source": [
    "with open('../data/train/xy.txt','w') as f:\n",
    "    f.write('file_name,order\\n')\n",
    "    for x,y in zip(xtrain,ytrain):\n",
    "        s = '../data/bug_pics/{}'.format(x)\n",
    "        d = '../data/train/{}/{}'.format(y,x)\n",
    "        shutil.copy(s,d)\n",
    "        f.write(x+','+y+'\\n')"
   ]
  },
  {
   "cell_type": "code",
   "execution_count": 16,
   "metadata": {},
   "outputs": [],
   "source": [
    "with open('../data/validation/xy.txt','w') as f:\n",
    "    f.write('file_name,order\\n')\n",
    "    for x,y in zip(xval,yval):\n",
    "        s = '../data/bug_pics/{}'.format(x)\n",
    "        d = '../data/validation/{}/{}'.format(y,x)\n",
    "        shutil.copy(s,d)\n",
    "        f.write(x+','+y+'\\n')"
   ]
  },
  {
   "cell_type": "code",
   "execution_count": 17,
   "metadata": {},
   "outputs": [],
   "source": [
    "with open('../data/test/xy.txt','w') as f:\n",
    "    f.write('file_name,order\\n')\n",
    "    for x,y in zip(xtest,ytest):\n",
    "        s = '../data/bug_pics/{}'.format(x)\n",
    "        d = '../data/test/{}/{}'.format(y,x)\n",
    "        shutil.copy(s,d)\n",
    "        f.write(x+','+y+'\\n')"
   ]
  },
  {
   "cell_type": "code",
   "execution_count": 18,
   "metadata": {},
   "outputs": [],
   "source": [
    "df_val = pd.read_csv('../data/validation/xy.txt',sep=',')\n",
    "df_train = pd.read_csv('../data/train/xy.txt',sep=',')\n",
    "df_test = pd.read_csv('../data/test/xy.txt',sep=',')"
   ]
  },
  {
   "cell_type": "code",
   "execution_count": 22,
   "metadata": {},
   "outputs": [
    {
     "name": "stdout",
     "output_type": "stream",
     "text": [
      "(1146, 2) (3436, 2) (510, 2)\n"
     ]
    }
   ],
   "source": [
    "print(df_val.shape, df_train.shape, df_test.shape)"
   ]
  },
  {
   "cell_type": "code",
   "execution_count": null,
   "metadata": {},
   "outputs": [],
   "source": []
  },
  {
   "cell_type": "code",
   "execution_count": null,
   "metadata": {},
   "outputs": [],
   "source": []
  }
 ],
 "metadata": {
  "kernelspec": {
   "display_name": "Python 3",
   "language": "python",
   "name": "python3"
  },
  "language_info": {
   "codemirror_mode": {
    "name": "ipython",
    "version": 3
   },
   "file_extension": ".py",
   "mimetype": "text/x-python",
   "name": "python",
   "nbconvert_exporter": "python",
   "pygments_lexer": "ipython3",
   "version": "3.6.3"
  }
 },
 "nbformat": 4,
 "nbformat_minor": 2
}
