{
 "cells": [
  {
   "cell_type": "code",
   "execution_count": 1,
   "metadata": {},
   "outputs": [
    {
     "name": "stderr",
     "output_type": "stream",
     "text": [
      "/home/ubuntu/anaconda3/envs/tensorflow_p36/lib/python3.6/importlib/_bootstrap.py:219: RuntimeWarning: compiletime version 3.5 of module 'tensorflow.python.framework.fast_tensor_util' does not match runtime version 3.6\n",
      "  return f(*args, **kwds)\n"
     ]
    },
    {
     "data": {
      "text/plain": [
       "'1.4.0'"
      ]
     },
     "execution_count": 1,
     "metadata": {},
     "output_type": "execute_result"
    }
   ],
   "source": [
    "import tensorflow as tf\n",
    "tf.__version__"
   ]
  },
  {
   "cell_type": "code",
   "execution_count": 2,
   "metadata": {},
   "outputs": [],
   "source": [
    "from tensorflow.contrib import keras"
   ]
  },
  {
   "cell_type": "code",
   "execution_count": 3,
   "metadata": {},
   "outputs": [
    {
     "name": "stderr",
     "output_type": "stream",
     "text": [
      "Using TensorFlow backend.\n"
     ]
    }
   ],
   "source": [
    "from keras import backend as K\n",
    "from keras.regularizers import l2\n",
    "from keras.applications.imagenet_utils import preprocess_input, decode_predictions\n",
    "import numpy as np\n",
    "import time\n",
    "import os\n",
    "\n",
    "np.random.seed(1337)"
   ]
  },
  {
   "cell_type": "code",
   "execution_count": 4,
   "metadata": {},
   "outputs": [],
   "source": [
    "from keras.models import Sequential\n",
    "#from keras.layers import Dense, Dropout, Activation, Flatten\n",
    "from keras.layers import Convolution2D, MaxPooling2D\n",
    "from keras.preprocessing.image import ImageDataGenerator\n",
    "from keras.utils import np_utils\n",
    "from keras import backend as K\n",
    "from numpy import nan\n",
    "import sys\n",
    "import datetime\n",
    "\n",
    "now = datetime.datetime.now"
   ]
  },
  {
   "cell_type": "code",
   "execution_count": 5,
   "metadata": {},
   "outputs": [],
   "source": [
    "from matplotlib import pyplot as plt\n",
    "\n",
    "%matplotlib inline"
   ]
  },
  {
   "cell_type": "code",
   "execution_count": 6,
   "metadata": {},
   "outputs": [],
   "source": [
    "from keras.applications import ResNet50\n",
    "from keras.layers import Input"
   ]
  },
  {
   "cell_type": "code",
   "execution_count": 7,
   "metadata": {},
   "outputs": [],
   "source": [
    "resnet = ResNet50(include_top = True,weights=None,classes=4)"
   ]
  },
  {
   "cell_type": "code",
   "execution_count": 8,
   "metadata": {},
   "outputs": [],
   "source": [
    "train_datagen = ImageDataGenerator(\n",
    "        zca_whitening=True,\n",
    "        featurewise_center=True,\n",
    "        featurewise_std_normalization=True,\n",
    "        rotation_range=20,\n",
    "        width_shift_range=0.2,\n",
    "        height_shift_range=0.2,\n",
    "        zoom_range=0.1,\n",
    "        horizontal_flip=True,\n",
    "        vertical_flip=True)"
   ]
  },
  {
   "cell_type": "code",
   "execution_count": 9,
   "metadata": {},
   "outputs": [
    {
     "data": {
      "text/plain": [
       "['train2',\n",
       " 'meta.txt',\n",
       " 'test2',\n",
       " 'validation',\n",
       " 'train',\n",
       " 'validation2',\n",
       " 'test',\n",
       " 'bug_pics']"
      ]
     },
     "execution_count": 9,
     "metadata": {},
     "output_type": "execute_result"
    }
   ],
   "source": [
    "os.listdir(path='../data')"
   ]
  },
  {
   "cell_type": "code",
   "execution_count": 10,
   "metadata": {},
   "outputs": [],
   "source": [
    "import os\n",
    "n = []\n",
    "for d in ['Ephemeroptera', 'Trichoptera', 'Diptera', 'Plecoptera']:\n",
    "    for i in os.listdir(path='../data/train/{}'.format(d)):\n",
    "        n.append((d,i))\n",
    "n = np.array(n)"
   ]
  },
  {
   "cell_type": "code",
   "execution_count": 11,
   "metadata": {},
   "outputs": [
    {
     "data": {
      "text/plain": [
       "array([['Ephemeroptera', 'picture838.jpg'],\n",
       "       ['Ephemeroptera', 'picture1960.jpg'],\n",
       "       ['Ephemeroptera', 'picture1805.jpg'],\n",
       "       ..., \n",
       "       ['Plecoptera', 'picture2754.jpg'],\n",
       "       ['Plecoptera', 'photo_598797.jpg'],\n",
       "       ['Plecoptera', 'picture1640.jpg']],\n",
       "      dtype='<U17')"
      ]
     },
     "execution_count": 11,
     "metadata": {},
     "output_type": "execute_result"
    }
   ],
   "source": [
    "n"
   ]
  },
  {
   "cell_type": "code",
   "execution_count": 16,
   "metadata": {},
   "outputs": [],
   "source": [
    "r = np.random.choice(n.shape[0],100)\n",
    "import cv2\n",
    "iml = []\n",
    "for i in r:\n",
    "    i_path = '../data/train/{}/{}'.format(n[i][0],n[i][1])\n",
    "    iml.append(cv2.resize(cv2.imread(i_path,1),(224,224),interpolation = cv2.INTER_AREA))"
   ]
  },
  {
   "cell_type": "code",
   "execution_count": 17,
   "metadata": {},
   "outputs": [
    {
     "ename": "MemoryError",
     "evalue": "",
     "output_type": "error",
     "traceback": [
      "\u001b[0;31m---------------------------------------------------------------------------\u001b[0m",
      "\u001b[0;31mMemoryError\u001b[0m                               Traceback (most recent call last)",
      "\u001b[0;32m<ipython-input-17-35b2ddab109f>\u001b[0m in \u001b[0;36m<module>\u001b[0;34m()\u001b[0m\n\u001b[0;32m----> 1\u001b[0;31m \u001b[0mtrain_datagen\u001b[0m\u001b[0;34m.\u001b[0m\u001b[0mfit\u001b[0m\u001b[0;34m(\u001b[0m\u001b[0miml\u001b[0m\u001b[0;34m)\u001b[0m\u001b[0;34m\u001b[0m\u001b[0m\n\u001b[0m",
      "\u001b[0;32m~/anaconda3/envs/tensorflow_p36/lib/python3.6/site-packages/keras/preprocessing/image.py\u001b[0m in \u001b[0;36mfit\u001b[0;34m(self, x, augment, rounds, seed)\u001b[0m\n\u001b[1;32m    710\u001b[0m         \u001b[0;32mif\u001b[0m \u001b[0mself\u001b[0m\u001b[0;34m.\u001b[0m\u001b[0mzca_whitening\u001b[0m\u001b[0;34m:\u001b[0m\u001b[0;34m\u001b[0m\u001b[0m\n\u001b[1;32m    711\u001b[0m             \u001b[0mflat_x\u001b[0m \u001b[0;34m=\u001b[0m \u001b[0mnp\u001b[0m\u001b[0;34m.\u001b[0m\u001b[0mreshape\u001b[0m\u001b[0;34m(\u001b[0m\u001b[0mx\u001b[0m\u001b[0;34m,\u001b[0m \u001b[0;34m(\u001b[0m\u001b[0mx\u001b[0m\u001b[0;34m.\u001b[0m\u001b[0mshape\u001b[0m\u001b[0;34m[\u001b[0m\u001b[0;36m0\u001b[0m\u001b[0;34m]\u001b[0m\u001b[0;34m,\u001b[0m \u001b[0mx\u001b[0m\u001b[0;34m.\u001b[0m\u001b[0mshape\u001b[0m\u001b[0;34m[\u001b[0m\u001b[0;36m1\u001b[0m\u001b[0;34m]\u001b[0m \u001b[0;34m*\u001b[0m \u001b[0mx\u001b[0m\u001b[0;34m.\u001b[0m\u001b[0mshape\u001b[0m\u001b[0;34m[\u001b[0m\u001b[0;36m2\u001b[0m\u001b[0;34m]\u001b[0m \u001b[0;34m*\u001b[0m \u001b[0mx\u001b[0m\u001b[0;34m.\u001b[0m\u001b[0mshape\u001b[0m\u001b[0;34m[\u001b[0m\u001b[0;36m3\u001b[0m\u001b[0;34m]\u001b[0m\u001b[0;34m)\u001b[0m\u001b[0;34m)\u001b[0m\u001b[0;34m\u001b[0m\u001b[0m\n\u001b[0;32m--> 712\u001b[0;31m             \u001b[0msigma\u001b[0m \u001b[0;34m=\u001b[0m \u001b[0mnp\u001b[0m\u001b[0;34m.\u001b[0m\u001b[0mdot\u001b[0m\u001b[0;34m(\u001b[0m\u001b[0mflat_x\u001b[0m\u001b[0;34m.\u001b[0m\u001b[0mT\u001b[0m\u001b[0;34m,\u001b[0m \u001b[0mflat_x\u001b[0m\u001b[0;34m)\u001b[0m \u001b[0;34m/\u001b[0m \u001b[0mflat_x\u001b[0m\u001b[0;34m.\u001b[0m\u001b[0mshape\u001b[0m\u001b[0;34m[\u001b[0m\u001b[0;36m0\u001b[0m\u001b[0;34m]\u001b[0m\u001b[0;34m\u001b[0m\u001b[0m\n\u001b[0m\u001b[1;32m    713\u001b[0m             \u001b[0mu\u001b[0m\u001b[0;34m,\u001b[0m \u001b[0ms\u001b[0m\u001b[0;34m,\u001b[0m \u001b[0m_\u001b[0m \u001b[0;34m=\u001b[0m \u001b[0mlinalg\u001b[0m\u001b[0;34m.\u001b[0m\u001b[0msvd\u001b[0m\u001b[0;34m(\u001b[0m\u001b[0msigma\u001b[0m\u001b[0;34m)\u001b[0m\u001b[0;34m\u001b[0m\u001b[0m\n\u001b[1;32m    714\u001b[0m             \u001b[0mself\u001b[0m\u001b[0;34m.\u001b[0m\u001b[0mprincipal_components\u001b[0m \u001b[0;34m=\u001b[0m \u001b[0mnp\u001b[0m\u001b[0;34m.\u001b[0m\u001b[0mdot\u001b[0m\u001b[0;34m(\u001b[0m\u001b[0mnp\u001b[0m\u001b[0;34m.\u001b[0m\u001b[0mdot\u001b[0m\u001b[0;34m(\u001b[0m\u001b[0mu\u001b[0m\u001b[0;34m,\u001b[0m \u001b[0mnp\u001b[0m\u001b[0;34m.\u001b[0m\u001b[0mdiag\u001b[0m\u001b[0;34m(\u001b[0m\u001b[0;36m1.\u001b[0m \u001b[0;34m/\u001b[0m \u001b[0mnp\u001b[0m\u001b[0;34m.\u001b[0m\u001b[0msqrt\u001b[0m\u001b[0;34m(\u001b[0m\u001b[0ms\u001b[0m \u001b[0;34m+\u001b[0m \u001b[0mself\u001b[0m\u001b[0;34m.\u001b[0m\u001b[0mzca_epsilon\u001b[0m\u001b[0;34m)\u001b[0m\u001b[0;34m)\u001b[0m\u001b[0;34m)\u001b[0m\u001b[0;34m,\u001b[0m \u001b[0mu\u001b[0m\u001b[0;34m.\u001b[0m\u001b[0mT\u001b[0m\u001b[0;34m)\u001b[0m\u001b[0;34m\u001b[0m\u001b[0m\n",
      "\u001b[0;31mMemoryError\u001b[0m: "
     ]
    }
   ],
   "source": [
    "train_datagen.fit(iml)"
   ]
  },
  {
   "cell_type": "code",
   "execution_count": null,
   "metadata": {},
   "outputs": [],
   "source": [
    "train_generator = train_datagen.flow_from_directory(\n",
    "        '../data/train',\n",
    "        target_size=(224, 224),\n",
    "        batch_size=32, #changed from 1, change back if needed\n",
    "        class_mode='categorical')"
   ]
  },
  {
   "cell_type": "code",
   "execution_count": 15,
   "metadata": {},
   "outputs": [],
   "source": [
    "#validation_datagen = ImageDataGenerator()\n",
    "validation_datagen = ImageDataGenerator(\n",
    "        zca_whitening=True,\n",
    "        featurewise_center=True,\n",
    "        featurewise_std_normalization=True,\n",
    "        rotation_range=20,\n",
    "        width_shift_range=0.2,\n",
    "        height_shift_range=0.2,\n",
    "        zoom_range=0.1,\n",
    "        horizontal_flip=True,\n",
    "        vertical_flip=True)"
   ]
  },
  {
   "cell_type": "code",
   "execution_count": null,
   "metadata": {},
   "outputs": [],
   "source": [
    "# n = []\n",
    "# for d in ['Ephemeroptera', 'Trichoptera', 'Diptera', 'Plecoptera']:\n",
    "#     for i in os.listdir(path='../data/validation/{}'.format(d)):\n",
    "#         n.append((d,i))\n",
    "# n = np.array(n)"
   ]
  },
  {
   "cell_type": "code",
   "execution_count": null,
   "metadata": {},
   "outputs": [],
   "source": [
    "# r = np.random.choice(n.shape[0],400)\n",
    "# import cv2\n",
    "# iml = []\n",
    "# for i in r:\n",
    "#     i_path = '../data/validation/{}/{}'.format(n[i][0],n[i][1])\n",
    "#     iml.append(cv2.resize(cv2.imread(i_path,1),(224,224),interpolation = cv2.INTER_AREA))"
   ]
  },
  {
   "cell_type": "code",
   "execution_count": null,
   "metadata": {},
   "outputs": [],
   "source": [
    "validation_datagen.fit(iml)"
   ]
  },
  {
   "cell_type": "code",
   "execution_count": 16,
   "metadata": {},
   "outputs": [
    {
     "name": "stdout",
     "output_type": "stream",
     "text": [
      "Found 1146 images belonging to 4 classes.\n"
     ]
    }
   ],
   "source": [
    "validation_generator = validation_datagen.flow_from_directory(\n",
    "        '../data/validation',\n",
    "        target_size=(224, 224),\n",
    "        batch_size=32,\n",
    "        class_mode='categorical')"
   ]
  },
  {
   "cell_type": "code",
   "execution_count": 17,
   "metadata": {},
   "outputs": [],
   "source": [
    "test_datagen = ImageDataGenerator()"
   ]
  },
  {
   "cell_type": "code",
   "execution_count": 18,
   "metadata": {},
   "outputs": [
    {
     "name": "stdout",
     "output_type": "stream",
     "text": [
      "Found 510 images belonging to 4 classes.\n"
     ]
    }
   ],
   "source": [
    "test_generator = test_datagen.flow_from_directory(\n",
    "        '../data/test',\n",
    "        target_size=(224,224),\n",
    "        batch_size=32,\n",
    "        class_mode='categorical')"
   ]
  },
  {
   "cell_type": "code",
   "execution_count": 19,
   "metadata": {},
   "outputs": [],
   "source": [
    "resnet.compile(optimizer='adam', loss='categorical_crossentropy', metrics=['accuracy'])"
   ]
  },
  {
   "cell_type": "code",
   "execution_count": 20,
   "metadata": {},
   "outputs": [],
   "source": [
    "from keras.preprocessing import image\n",
    "from keras.callbacks import TensorBoard"
   ]
  },
  {
   "cell_type": "code",
   "execution_count": 21,
   "metadata": {
    "scrolled": false
   },
   "outputs": [
    {
     "name": "stdout",
     "output_type": "stream",
     "text": [
      "Epoch 1/100\n",
      "108/108 [==============================] - 173s 2s/step - loss: 1.6199 - acc: 0.3926 - val_loss: 7.4385 - val_acc: 0.4625\n",
      "Epoch 2/100\n",
      "108/108 [==============================] - 148s 1s/step - loss: 1.5499 - acc: 0.4060 - val_loss: 8.6439 - val_acc: 0.4634\n",
      "Epoch 3/100\n",
      "108/108 [==============================] - 148s 1s/step - loss: 1.4874 - acc: 0.4191 - val_loss: 12.9535 - val_acc: 0.1963\n",
      "Epoch 4/100\n",
      "108/108 [==============================] - 147s 1s/step - loss: 1.4724 - acc: 0.4197 - val_loss: 12.9535 - val_acc: 0.1963\n",
      "Epoch 5/100\n",
      "108/108 [==============================] - 148s 1s/step - loss: 1.4657 - acc: 0.4119 - val_loss: 12.9535 - val_acc: 0.1963\n",
      "Epoch 6/100\n",
      "108/108 [==============================] - 147s 1s/step - loss: 1.4098 - acc: 0.4363 - val_loss: 12.9535 - val_acc: 0.1963\n",
      "Epoch 7/100\n",
      "108/108 [==============================] - 147s 1s/step - loss: 1.3479 - acc: 0.4559 - val_loss: 13.6990 - val_acc: 0.1501\n",
      "Epoch 8/100\n",
      "108/108 [==============================] - 147s 1s/step - loss: 1.3444 - acc: 0.4571 - val_loss: 9.3530 - val_acc: 0.4110\n",
      "Epoch 9/100\n",
      "108/108 [==============================] - 148s 1s/step - loss: 1.2525 - acc: 0.4967 - val_loss: 8.5418 - val_acc: 0.4625\n",
      "Epoch 10/100\n",
      "108/108 [==============================] - 148s 1s/step - loss: 1.2139 - acc: 0.5129 - val_loss: 12.4028 - val_acc: 0.2260\n",
      "Epoch 11/100\n",
      "108/108 [==============================] - 147s 1s/step - loss: 1.2068 - acc: 0.5030 - val_loss: 13.1092 - val_acc: 0.1798\n",
      "Epoch 12/100\n",
      "108/108 [==============================] - 147s 1s/step - loss: 1.1818 - acc: 0.5163 - val_loss: 12.9535 - val_acc: 0.1963\n",
      "Epoch 13/100\n",
      "108/108 [==============================] - 147s 1s/step - loss: 1.1567 - acc: 0.5350 - val_loss: 8.4035 - val_acc: 0.4651\n",
      "Epoch 14/100\n",
      "108/108 [==============================] - 148s 1s/step - loss: 1.1264 - acc: 0.5505 - val_loss: 12.9424 - val_acc: 0.1963\n",
      "Epoch 15/100\n",
      "108/108 [==============================] - 148s 1s/step - loss: 1.0942 - acc: 0.5682 - val_loss: 12.9288 - val_acc: 0.1972\n",
      "Epoch 16/100\n",
      "108/108 [==============================] - 147s 1s/step - loss: 1.0554 - acc: 0.5826 - val_loss: 12.9535 - val_acc: 0.1963\n",
      "Epoch 17/100\n",
      "108/108 [==============================] - 147s 1s/step - loss: 1.0587 - acc: 0.5824 - val_loss: 12.9395 - val_acc: 0.1972\n",
      "Epoch 18/100\n",
      "108/108 [==============================] - 147s 1s/step - loss: 1.0215 - acc: 0.5926 - val_loss: 12.9535 - val_acc: 0.1963\n",
      "Epoch 19/100\n",
      "108/108 [==============================] - 148s 1s/step - loss: 0.9719 - acc: 0.6195 - val_loss: 12.9535 - val_acc: 0.1963\n",
      "Epoch 21/100\n",
      "108/108 [==============================] - 148s 1s/step - loss: 0.9573 - acc: 0.6269 - val_loss: 12.9535 - val_acc: 0.1963\n",
      "Epoch 22/100\n",
      "108/108 [==============================] - 148s 1s/step - loss: 0.9084 - acc: 0.6309 - val_loss: 12.9535 - val_acc: 0.1963\n",
      "Epoch 23/100\n",
      "108/108 [==============================] - 148s 1s/step - loss: 0.8803 - acc: 0.6556 - val_loss: 12.9535 - val_acc: 0.1963\n",
      "Epoch 24/100\n",
      "108/108 [==============================] - 148s 1s/step - loss: 0.8854 - acc: 0.6476 - val_loss: 12.9535 - val_acc: 0.1963\n",
      "Epoch 25/100\n",
      "108/108 [==============================] - 148s 1s/step - loss: 0.8870 - acc: 0.6501 - val_loss: 12.9535 - val_acc: 0.1963\n",
      "Epoch 26/100\n",
      "108/108 [==============================] - 148s 1s/step - loss: 0.8540 - acc: 0.6731 - val_loss: 12.9535 - val_acc: 0.1963\n",
      "Epoch 27/100\n",
      "108/108 [==============================] - 147s 1s/step - loss: 0.8398 - acc: 0.6781 - val_loss: 12.2280 - val_acc: 0.2295\n",
      "Epoch 28/100\n",
      "108/108 [==============================] - 147s 1s/step - loss: 0.8170 - acc: 0.6892 - val_loss: 12.9535 - val_acc: 0.1963\n",
      "Epoch 29/100\n",
      "108/108 [==============================] - 148s 1s/step - loss: 0.7920 - acc: 0.7026 - val_loss: 12.9535 - val_acc: 0.1963\n",
      "Epoch 30/100\n",
      "108/108 [==============================] - 147s 1s/step - loss: 0.7779 - acc: 0.7014 - val_loss: 12.9535 - val_acc: 0.1963\n",
      "Epoch 31/100\n",
      "108/108 [==============================] - 147s 1s/step - loss: 0.7811 - acc: 0.7052 - val_loss: 12.9535 - val_acc: 0.1963\n",
      "Epoch 32/100\n",
      "108/108 [==============================] - 148s 1s/step - loss: 0.7578 - acc: 0.7083 - val_loss: 12.9535 - val_acc: 0.1963\n",
      "Epoch 33/100\n",
      "108/108 [==============================] - 148s 1s/step - loss: 0.7444 - acc: 0.7183 - val_loss: 12.9535 - val_acc: 0.1963\n",
      "Epoch 34/100\n",
      "108/108 [==============================] - 148s 1s/step - loss: 0.7333 - acc: 0.7278 - val_loss: 12.9535 - val_acc: 0.1963\n",
      "Epoch 35/100\n",
      "108/108 [==============================] - 148s 1s/step - loss: 0.7327 - acc: 0.7224 - val_loss: 12.9535 - val_acc: 0.1963\n",
      "Epoch 36/100\n",
      "108/108 [==============================] - 148s 1s/step - loss: 0.7178 - acc: 0.7290 - val_loss: 12.9535 - val_acc: 0.1963\n",
      "Epoch 37/100\n",
      "108/108 [==============================] - 147s 1s/step - loss: 0.6961 - acc: 0.7333 - val_loss: 12.9535 - val_acc: 0.1963\n",
      "Epoch 38/100\n",
      "108/108 [==============================] - 147s 1s/step - loss: 0.6867 - acc: 0.7489 - val_loss: 12.9535 - val_acc: 0.1963\n",
      "Epoch 39/100\n",
      "108/108 [==============================] - 148s 1s/step - loss: 0.6845 - acc: 0.7444 - val_loss: 12.9535 - val_acc: 0.1963\n",
      "Epoch 40/100\n",
      "108/108 [==============================] - 148s 1s/step - loss: 0.6499 - acc: 0.7568 - val_loss: 12.9535 - val_acc: 0.1963\n",
      "Epoch 41/100\n",
      "108/108 [==============================] - 147s 1s/step - loss: 0.6784 - acc: 0.7406 - val_loss: 13.4187 - val_acc: 0.1632\n",
      "Epoch 42/100\n",
      "108/108 [==============================] - 147s 1s/step - loss: 0.6640 - acc: 0.7414 - val_loss: 12.9535 - val_acc: 0.1963\n",
      "Epoch 43/100\n",
      "108/108 [==============================] - 147s 1s/step - loss: 0.6494 - acc: 0.7553 - val_loss: 12.9535 - val_acc: 0.1963\n",
      "Epoch 44/100\n",
      "108/108 [==============================] - 147s 1s/step - loss: 0.6178 - acc: 0.7705 - val_loss: 12.9535 - val_acc: 0.1963\n",
      "Epoch 45/100\n",
      "108/108 [==============================] - 147s 1s/step - loss: 0.6188 - acc: 0.7695 - val_loss: 12.9535 - val_acc: 0.1963\n",
      "Epoch 46/100\n",
      "108/108 [==============================] - 148s 1s/step - loss: 0.6073 - acc: 0.7705 - val_loss: 12.9186 - val_acc: 0.1972\n",
      "Epoch 47/100\n",
      "108/108 [==============================] - 148s 1s/step - loss: 0.5935 - acc: 0.7819 - val_loss: 12.9535 - val_acc: 0.1963\n",
      "Epoch 48/100\n",
      "108/108 [==============================] - 148s 1s/step - loss: 0.5875 - acc: 0.7811 - val_loss: 12.9395 - val_acc: 0.1972\n",
      "Epoch 49/100\n",
      "108/108 [==============================] - 148s 1s/step - loss: 0.5872 - acc: 0.7846 - val_loss: 12.9535 - val_acc: 0.1963\n",
      "Epoch 50/100\n",
      "108/108 [==============================] - 148s 1s/step - loss: 0.5987 - acc: 0.7728 - val_loss: 12.9535 - val_acc: 0.1963\n",
      "Epoch 51/100\n",
      "108/108 [==============================] - 148s 1s/step - loss: 0.5337 - acc: 0.8036 - val_loss: 12.9535 - val_acc: 0.1963\n",
      "Epoch 52/100\n",
      "108/108 [==============================] - 147s 1s/step - loss: 0.5519 - acc: 0.7920 - val_loss: 12.9253 - val_acc: 0.1972\n",
      "Epoch 53/100\n",
      "108/108 [==============================] - 147s 1s/step - loss: 0.5564 - acc: 0.7938 - val_loss: 12.9535 - val_acc: 0.1963\n",
      "Epoch 54/100\n",
      "108/108 [==============================] - 148s 1s/step - loss: 0.5398 - acc: 0.7995 - val_loss: 12.9535 - val_acc: 0.1963\n",
      "Epoch 55/100\n",
      "108/108 [==============================] - 148s 1s/step - loss: 0.5241 - acc: 0.8072 - val_loss: 12.9535 - val_acc: 0.1963\n",
      "Epoch 56/100\n",
      "108/108 [==============================] - 148s 1s/step - loss: 0.5032 - acc: 0.8145 - val_loss: 12.9535 - val_acc: 0.1963\n",
      "Epoch 57/100\n",
      "108/108 [==============================] - 147s 1s/step - loss: 0.5064 - acc: 0.8080 - val_loss: 12.9395 - val_acc: 0.1972\n",
      "Epoch 58/100\n",
      "108/108 [==============================] - 147s 1s/step - loss: 0.4975 - acc: 0.8104 - val_loss: 12.9535 - val_acc: 0.1963\n",
      "Epoch 59/100\n",
      "108/108 [==============================] - 148s 1s/step - loss: 0.5036 - acc: 0.8103 - val_loss: 12.9535 - val_acc: 0.1963\n",
      "Epoch 60/100\n",
      "108/108 [==============================] - 148s 1s/step - loss: 0.4907 - acc: 0.8207 - val_loss: 12.9535 - val_acc: 0.1963\n",
      "Epoch 61/100\n",
      "108/108 [==============================] - 147s 1s/step - loss: 0.4986 - acc: 0.8128 - val_loss: 12.9535 - val_acc: 0.1963\n",
      "Epoch 62/100\n",
      "108/108 [==============================] - 147s 1s/step - loss: 0.4646 - acc: 0.8245 - val_loss: 12.9535 - val_acc: 0.1963\n",
      "Epoch 63/100\n",
      "108/108 [==============================] - 148s 1s/step - loss: 0.4643 - acc: 0.8305 - val_loss: 12.9535 - val_acc: 0.1963\n",
      "Epoch 64/100\n",
      "108/108 [==============================] - 148s 1s/step - loss: 0.4864 - acc: 0.8221 - val_loss: 12.9535 - val_acc: 0.1963\n",
      "Epoch 65/100\n",
      "108/108 [==============================] - 147s 1s/step - loss: 0.4445 - acc: 0.8335 - val_loss: 12.9535 - val_acc: 0.1963\n",
      "Epoch 66/100\n",
      "108/108 [==============================] - 148s 1s/step - loss: 0.4412 - acc: 0.8319 - val_loss: 12.9535 - val_acc: 0.1963\n",
      "Epoch 67/100\n",
      "108/108 [==============================] - 147s 1s/step - loss: 0.4328 - acc: 0.8439 - val_loss: 12.9535 - val_acc: 0.1963\n",
      "Epoch 68/100\n",
      "108/108 [==============================] - 147s 1s/step - loss: 0.4254 - acc: 0.8415 - val_loss: 12.9535 - val_acc: 0.1963\n",
      "Epoch 69/100\n",
      "108/108 [==============================] - 147s 1s/step - loss: 0.4354 - acc: 0.8353 - val_loss: 12.9535 - val_acc: 0.1963\n",
      "Epoch 70/100\n",
      "108/108 [==============================] - 148s 1s/step - loss: 0.4368 - acc: 0.8381 - val_loss: 12.9535 - val_acc: 0.1963\n",
      "Epoch 71/100\n",
      "108/108 [==============================] - 147s 1s/step - loss: 0.4231 - acc: 0.8430 - val_loss: 12.9535 - val_acc: 0.1963\n",
      "Epoch 72/100\n",
      "108/108 [==============================] - 147s 1s/step - loss: 0.4092 - acc: 0.8531 - val_loss: 12.9535 - val_acc: 0.1963\n",
      "Epoch 73/100\n",
      "108/108 [==============================] - 148s 1s/step - loss: 0.4124 - acc: 0.8507 - val_loss: 12.9535 - val_acc: 0.1963\n",
      "Epoch 74/100\n",
      "108/108 [==============================] - 147s 1s/step - loss: 0.3912 - acc: 0.8605 - val_loss: 12.9535 - val_acc: 0.1963\n",
      "Epoch 75/100\n",
      "108/108 [==============================] - 148s 1s/step - loss: 0.4058 - acc: 0.8485 - val_loss: 12.9535 - val_acc: 0.1963\n",
      "Epoch 76/100\n",
      "108/108 [==============================] - 147s 1s/step - loss: 0.3704 - acc: 0.8684 - val_loss: 12.9535 - val_acc: 0.1963\n",
      "Epoch 77/100\n",
      "108/108 [==============================] - 148s 1s/step - loss: 0.3908 - acc: 0.8513 - val_loss: 12.9535 - val_acc: 0.1963\n",
      "Epoch 78/100\n",
      "108/108 [==============================] - 147s 1s/step - loss: 0.3782 - acc: 0.8554 - val_loss: 12.9535 - val_acc: 0.1963\n",
      "Epoch 79/100\n",
      "108/108 [==============================] - 147s 1s/step - loss: 0.3748 - acc: 0.8598 - val_loss: 12.9535 - val_acc: 0.1963\n",
      "Epoch 80/100\n",
      "108/108 [==============================] - 147s 1s/step - loss: 0.3590 - acc: 0.8635 - val_loss: 12.9535 - val_acc: 0.1963\n",
      "Epoch 81/100\n",
      "108/108 [==============================] - 148s 1s/step - loss: 0.3759 - acc: 0.8638 - val_loss: 12.9535 - val_acc: 0.1963\n",
      "Epoch 82/100\n",
      "108/108 [==============================] - 147s 1s/step - loss: 0.3389 - acc: 0.8770 - val_loss: 12.9535 - val_acc: 0.1963\n",
      "Epoch 83/100\n",
      "108/108 [==============================] - 148s 1s/step - loss: 0.3458 - acc: 0.8703 - val_loss: 12.9535 - val_acc: 0.1963\n",
      "Epoch 84/100\n",
      "108/108 [==============================] - 147s 1s/step - loss: 0.3531 - acc: 0.8659 - val_loss: 12.9535 - val_acc: 0.1963\n",
      "Epoch 85/100\n",
      "108/108 [==============================] - 148s 1s/step - loss: 0.3477 - acc: 0.8715 - val_loss: 12.9535 - val_acc: 0.1963\n",
      "Epoch 86/100\n",
      "108/108 [==============================] - 147s 1s/step - loss: 0.3410 - acc: 0.8673 - val_loss: 12.9535 - val_acc: 0.1963\n",
      "Epoch 87/100\n",
      "108/108 [==============================] - 147s 1s/step - loss: 0.3254 - acc: 0.8792 - val_loss: 12.9535 - val_acc: 0.1963\n",
      "Epoch 88/100\n",
      "108/108 [==============================] - 147s 1s/step - loss: 0.3302 - acc: 0.8766 - val_loss: 12.9535 - val_acc: 0.1963\n",
      "Epoch 89/100\n",
      "108/108 [==============================] - 147s 1s/step - loss: 0.3290 - acc: 0.8815 - val_loss: 12.9535 - val_acc: 0.1963\n",
      "Epoch 90/100\n",
      "108/108 [==============================] - 147s 1s/step - loss: 0.3098 - acc: 0.8953 - val_loss: 12.9535 - val_acc: 0.1963\n",
      "Epoch 91/100\n",
      "108/108 [==============================] - 147s 1s/step - loss: 0.3111 - acc: 0.8826 - val_loss: 12.9535 - val_acc: 0.1963\n",
      "Epoch 92/100\n",
      "108/108 [==============================] - 148s 1s/step - loss: 0.3154 - acc: 0.8805 - val_loss: 12.9535 - val_acc: 0.1963\n",
      "Epoch 93/100\n",
      "108/108 [==============================] - 147s 1s/step - loss: 0.3227 - acc: 0.8858 - val_loss: 12.9535 - val_acc: 0.1963\n",
      "Epoch 94/100\n",
      "108/108 [==============================] - 148s 1s/step - loss: 0.2836 - acc: 0.8932 - val_loss: 12.9535 - val_acc: 0.1963\n",
      "Epoch 95/100\n",
      "108/108 [==============================] - 147s 1s/step - loss: 0.2945 - acc: 0.8887 - val_loss: 12.9535 - val_acc: 0.1963\n",
      "Epoch 96/100\n",
      "108/108 [==============================] - 147s 1s/step - loss: 0.2970 - acc: 0.8931 - val_loss: 12.9535 - val_acc: 0.1963\n",
      "Epoch 97/100\n",
      "108/108 [==============================] - 148s 1s/step - loss: 0.2608 - acc: 0.9080 - val_loss: 12.9535 - val_acc: 0.1963\n",
      "Epoch 98/100\n",
      "108/108 [==============================] - 147s 1s/step - loss: 0.2730 - acc: 0.8980 - val_loss: 12.9535 - val_acc: 0.1963\n",
      "Epoch 99/100\n",
      "108/108 [==============================] - 147s 1s/step - loss: 0.2837 - acc: 0.8975 - val_loss: 12.9535 - val_acc: 0.1963\n",
      "Epoch 100/100\n",
      "108/108 [==============================] - 147s 1s/step - loss: 0.2648 - acc: 0.9058 - val_loss: 12.9535 - val_acc: 0.1963\n"
     ]
    },
    {
     "data": {
      "text/plain": [
       "<keras.callbacks.History at 0x7fe8bde9aa20>"
      ]
     },
     "execution_count": 21,
     "metadata": {},
     "output_type": "execute_result"
    }
   ],
   "source": [
    "resnet.fit_generator(train_generator,\n",
    "        steps_per_epoch=108,\n",
    "        epochs=25,\n",
    "        validation_data=validation_generator,\n",
    "        validation_steps=36)\n",
    "#         callbacks=[TensorBoard(log_dir='./tf_logs', histogram_freq=0, \n",
    "#                                    write_graph=True, write_images=True, \n",
    "#                                    embeddings_freq=10, \n",
    "#                                    embeddings_layer_names=['block1_conv2', \n",
    "#                                                            'block5_conv1'], \n",
    "#                                    embeddings_metadata=None)])                   "
   ]
  },
  {
   "cell_type": "code",
   "execution_count": 22,
   "metadata": {},
   "outputs": [],
   "source": [
    "model_history = _"
   ]
  },
  {
   "cell_type": "code",
   "execution_count": 18,
   "metadata": {},
   "outputs": [
    {
     "name": "stdout",
     "output_type": "stream",
     "text": [
      "Epoch 1/15\n",
      "108/118 [==========================>...] - ETA: 13s - loss: 0.3148 - acc: 0.8819 - val_loss: 0.0000e+00 - val_acc: 0.0000e+00Epoch 2/15\n",
      "108/118 [==========================>...] - ETA: 13s - loss: 0.3242 - acc: 0.8843 - val_loss: 0.0000e+00 - val_acc: 0.0000e+00Epoch 3/15\n",
      "108/118 [==========================>...] - ETA: 13s - loss: 0.2988 - acc: 0.8903 - val_loss: 0.0000e+00 - val_acc: 0.0000e+00Epoch 4/15\n",
      "108/118 [==========================>...] - ETA: 13s - loss: 0.3094 - acc: 0.8881 - val_loss: 0.0000e+00 - val_acc: 0.0000e+00Epoch 5/15\n",
      "108/118 [==========================>...] - ETA: 13s - loss: 0.2965 - acc: 0.8883 - val_loss: 0.0000e+00 - val_acc: 0.0000e+00Epoch 6/15\n",
      "108/118 [==========================>...] - ETA: 13s - loss: 0.2975 - acc: 0.8943 - val_loss: 0.0000e+00 - val_acc: 0.0000e+00Epoch 7/15\n",
      "108/118 [==========================>...] - ETA: 13s - loss: 0.2869 - acc: 0.8951 - val_loss: 0.0000e+00 - val_acc: 0.0000e+00Epoch 8/15\n",
      "108/118 [==========================>...] - ETA: 13s - loss: 0.2846 - acc: 0.8962 - val_loss: 0.0000e+00 - val_acc: 0.0000e+00Epoch 9/15\n",
      "108/118 [==========================>...] - ETA: 13s - loss: 0.2344 - acc: 0.9184 - val_loss: 0.0000e+00 - val_acc: 0.0000e+00Epoch 10/15\n",
      "108/118 [==========================>...] - ETA: 13s - loss: 0.2554 - acc: 0.9021 - val_loss: 0.0000e+00 - val_acc: 0.0000e+00Epoch 11/15\n",
      "108/118 [==========================>...] - ETA: 13s - loss: 0.2434 - acc: 0.9077 - val_loss: 0.0000e+00 - val_acc: 0.0000e+00Epoch 12/15\n",
      "108/118 [==========================>...] - ETA: 13s - loss: 0.2235 - acc: 0.9216 - val_loss: 0.0000e+00 - val_acc: 0.0000e+00Epoch 13/15\n",
      "108/118 [==========================>...] - ETA: 13s - loss: 0.2431 - acc: 0.9149 - val_loss: 0.0000e+00 - val_acc: 0.0000e+00Epoch 14/15\n",
      "108/118 [==========================>...] - ETA: 13s - loss: 0.2231 - acc: 0.9198 - val_loss: 0.0000e+00 - val_acc: 0.0000e+00Epoch 15/15\n",
      "108/118 [==========================>...] - ETA: 13s - loss: 0.2017 - acc: 0.9267 - val_loss: 0.0000e+00 - val_acc: 0.0000e+00"
     ]
    },
    {
     "data": {
      "text/plain": [
       "<keras.callbacks.History at 0x7f85edf25a20>"
      ]
     },
     "execution_count": 18,
     "metadata": {},
     "output_type": "execute_result"
    }
   ],
   "source": [
    "# resnet.fit_generator(train_generator,\n",
    "#         steps_per_epoch=118,\n",
    "#         epochs=15,\n",
    "#         validation_data=validation_generator,\n",
    "#         validation_steps=30)"
   ]
  },
  {
   "cell_type": "code",
   "execution_count": 23,
   "metadata": {},
   "outputs": [],
   "source": [
    "import cv2"
   ]
  },
  {
   "cell_type": "code",
   "execution_count": 24,
   "metadata": {},
   "outputs": [],
   "source": [
    "t = test_generator.class_indices"
   ]
  },
  {
   "cell_type": "code",
   "execution_count": 25,
   "metadata": {},
   "outputs": [
    {
     "data": {
      "text/html": [
       "<div>\n",
       "<style scoped>\n",
       "    .dataframe tbody tr th:only-of-type {\n",
       "        vertical-align: middle;\n",
       "    }\n",
       "\n",
       "    .dataframe tbody tr th {\n",
       "        vertical-align: top;\n",
       "    }\n",
       "\n",
       "    .dataframe thead th {\n",
       "        text-align: right;\n",
       "    }\n",
       "</style>\n",
       "<table border=\"1\" class=\"dataframe\">\n",
       "  <thead>\n",
       "    <tr style=\"text-align: right;\">\n",
       "      <th></th>\n",
       "      <th>file_name</th>\n",
       "      <th>order</th>\n",
       "    </tr>\n",
       "  </thead>\n",
       "  <tbody>\n",
       "    <tr>\n",
       "      <th>0</th>\n",
       "      <td>picture407.jpg</td>\n",
       "      <td>Ephemeroptera</td>\n",
       "    </tr>\n",
       "    <tr>\n",
       "      <th>1</th>\n",
       "      <td>photo_1354193.jpg</td>\n",
       "      <td>Diptera</td>\n",
       "    </tr>\n",
       "    <tr>\n",
       "      <th>2</th>\n",
       "      <td>photo_1406082.jpg</td>\n",
       "      <td>Trichoptera</td>\n",
       "    </tr>\n",
       "    <tr>\n",
       "      <th>3</th>\n",
       "      <td>photo_763057.jpg</td>\n",
       "      <td>Plecoptera</td>\n",
       "    </tr>\n",
       "    <tr>\n",
       "      <th>4</th>\n",
       "      <td>photo_602090.jpg</td>\n",
       "      <td>Trichoptera</td>\n",
       "    </tr>\n",
       "  </tbody>\n",
       "</table>\n",
       "</div>"
      ],
      "text/plain": [
       "           file_name          order\n",
       "0     picture407.jpg  Ephemeroptera\n",
       "1  photo_1354193.jpg        Diptera\n",
       "2  photo_1406082.jpg    Trichoptera\n",
       "3   photo_763057.jpg     Plecoptera\n",
       "4   photo_602090.jpg    Trichoptera"
      ]
     },
     "execution_count": 25,
     "metadata": {},
     "output_type": "execute_result"
    }
   ],
   "source": [
    "import pandas as pd\n",
    "df = pd.read_csv('../data/test/xy.txt')\n",
    "df.head()"
   ]
  },
  {
   "cell_type": "code",
   "execution_count": 26,
   "metadata": {},
   "outputs": [
    {
     "data": {
      "text/plain": [
       "array([[ 0.,  1.,  0.,  0.],\n",
       "       [ 1.,  0.,  0.,  0.],\n",
       "       [ 0.,  0.,  0.,  1.],\n",
       "       ..., \n",
       "       [ 1.,  0.,  0.,  0.],\n",
       "       [ 1.,  0.,  0.,  0.],\n",
       "       [ 1.,  0.,  0.,  0.]])"
      ]
     },
     "execution_count": 26,
     "metadata": {},
     "output_type": "execute_result"
    }
   ],
   "source": [
    "y_cat = np_utils.to_categorical([t[i] for i in df.order], 4)\n",
    "y_cat"
   ]
  },
  {
   "cell_type": "code",
   "execution_count": 27,
   "metadata": {},
   "outputs": [],
   "source": [
    "iml = []\n",
    "for f,o in zip(df.file_name,df.order):\n",
    "    i_path = '../data/test/{}/{}'.format(o,f)\n",
    "    iml.append(cv2.resize(cv2.imread(i_path,1),(224,224),interpolation = cv2.INTER_AREA))"
   ]
  },
  {
   "cell_type": "code",
   "execution_count": 28,
   "metadata": {},
   "outputs": [],
   "source": [
    "y_cat = np.array(y_cat)\n",
    "y_true = []\n",
    "y_pred = []\n",
    "iml = np.stack(iml)"
   ]
  },
  {
   "cell_type": "code",
   "execution_count": 29,
   "metadata": {},
   "outputs": [],
   "source": [
    "pred = resnet.predict(iml)"
   ]
  },
  {
   "cell_type": "code",
   "execution_count": 30,
   "metadata": {},
   "outputs": [],
   "source": [
    "inv_map = {v: k for k, v in t.items()}\n",
    "y_pred = [inv_map[np.argmax(i)] for i in pred]\n",
    "y_true = [inv_map[np.argmax(i)] for i in y_cat]"
   ]
  },
  {
   "cell_type": "code",
   "execution_count": 31,
   "metadata": {},
   "outputs": [
    {
     "name": "stdout",
     "output_type": "stream",
     "text": [
      "               precision    recall  f1-score   support\n",
      "\n",
      "      Diptera       0.22      1.00      0.36       113\n",
      "Ephemeroptera       0.00      0.00      0.00       214\n",
      "   Plecoptera       0.00      0.00      0.00        83\n",
      "  Trichoptera       0.00      0.00      0.00       100\n",
      "\n",
      "  avg / total       0.05      0.22      0.08       510\n",
      "\n"
     ]
    },
    {
     "name": "stderr",
     "output_type": "stream",
     "text": [
      "/home/ubuntu/anaconda3/envs/tensorflow_p36/lib/python3.6/site-packages/sklearn/metrics/classification.py:1135: UndefinedMetricWarning: Precision and F-score are ill-defined and being set to 0.0 in labels with no predicted samples.\n",
      "  'precision', 'predicted', average, warn_for)\n"
     ]
    }
   ],
   "source": [
    "from sklearn.metrics import classification_report\n",
    "print(classification_report(y_true,y_pred))"
   ]
  },
  {
   "cell_type": "code",
   "execution_count": 36,
   "metadata": {},
   "outputs": [
    {
     "name": "stdout",
     "output_type": "stream",
     "text": [
      "[0.38940628637951108, 0.40104772993585702, 0.42520372519254407, 0.43422584403935077, 0.45168800938254322, 0.46507566938300349, 0.48690337605332051, 0.51193247969686217, 0.52153667058184205, 0.55442374854481957, 0.56781140864936241, 0.57625145511105391, 0.58701979045401631, 0.60826542484330082, 0.61263096630920211, 0.62514551797484907, 0.64289871944121069, 0.65075669389942337, 0.67578579736949396, 0.67782305012759558, 0.68771827706635624, 0.68800931308544278, 0.70867287536716572, 0.71769499410988979, 0.72497089646054091, 0.7403958090109376, 0.74476135040745051, 0.75407450516926122, 0.76484284051222351, 0.76396973217741015, 0.77648428398183389, 0.78521536670547143, 0.78783469143235785, 0.80005820728708343, 0.79481955769453394, 0.80587892891780599, 0.8236321303841676, 0.82450523864959258, 0.82945285215366704, 0.83701979045401631, 0.82683352742678073, 0.83731082654249123, 0.83934807923120447, 0.84662398130430194, 0.84953434225844005, 0.86525029103608853, 0.86059371355110048, 0.86554132712456344, 0.87689173464447567, 0.87136204889406288]\n"
     ]
    }
   ],
   "source": [
    "print(model_history.history['acc'])"
   ]
  },
  {
   "cell_type": "code",
   "execution_count": 34,
   "metadata": {},
   "outputs": [
    {
     "data": {
      "text/plain": [
       "[12.953548043602217, 0.19633507861204796]"
      ]
     },
     "execution_count": 34,
     "metadata": {},
     "output_type": "execute_result"
    }
   ],
   "source": [
    "resnet.evaluate_generator(validation_generator,steps=36)"
   ]
  },
  {
   "cell_type": "code",
   "execution_count": null,
   "metadata": {},
   "outputs": [],
   "source": []
  },
  {
   "cell_type": "code",
   "execution_count": null,
   "metadata": {},
   "outputs": [],
   "source": []
  },
  {
   "cell_type": "code",
   "execution_count": null,
   "metadata": {},
   "outputs": [],
   "source": []
  },
  {
   "cell_type": "code",
   "execution_count": null,
   "metadata": {},
   "outputs": [],
   "source": []
  }
 ],
 "metadata": {
  "kernelspec": {
   "display_name": "Environment (conda_tensorflow_p36)",
   "language": "python",
   "name": "conda_tensorflow_p36"
  },
  "language_info": {
   "codemirror_mode": {
    "name": "ipython",
    "version": 3
   },
   "file_extension": ".py",
   "mimetype": "text/x-python",
   "name": "python",
   "nbconvert_exporter": "python",
   "pygments_lexer": "ipython3",
   "version": "3.6.3"
  }
 },
 "nbformat": 4,
 "nbformat_minor": 2
}
