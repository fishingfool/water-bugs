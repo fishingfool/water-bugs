{
 "cells": [
  {
   "cell_type": "code",
   "execution_count": 2,
   "metadata": {
    "collapsed": true
   },
   "outputs": [],
   "source": [
    "import pandas as pd\n",
    "import numpy as np\n",
    "from sklearn.model_selection import train_test_split\n",
    "import shutil"
   ]
  },
  {
   "cell_type": "code",
   "execution_count": 3,
   "metadata": {
    "collapsed": true
   },
   "outputs": [],
   "source": [
    "df = pd.read_csv('../data/resized/meta.txt',sep=';')"
   ]
  },
  {
   "cell_type": "code",
   "execution_count": 4,
   "metadata": {
    "collapsed": true
   },
   "outputs": [],
   "source": [
    "x = df.file_name\n",
    "y = df.order"
   ]
  },
  {
   "cell_type": "code",
   "execution_count": 5,
   "metadata": {
    "collapsed": true
   },
   "outputs": [],
   "source": [
    "xtrain_val,xtest,ytrain_val,ytest = train_test_split(x,y,test_size = .1)"
   ]
  },
  {
   "cell_type": "code",
   "execution_count": 6,
   "metadata": {
    "collapsed": true
   },
   "outputs": [],
   "source": [
    "xtrain,xval,ytrain,yval = train_test_split(x,y)"
   ]
  },
  {
   "cell_type": "code",
   "execution_count": 10,
   "metadata": {},
   "outputs": [],
   "source": [
    "for x,y in zip(xtrain,ytrain):\n",
    "    s = '../data/resized/{}'.format(x)\n",
    "    d = '../data/train/{}'.format(x)\n",
    "    shutil.move(s,d)"
   ]
  },
  {
   "cell_type": "code",
   "execution_count": null,
   "metadata": {
    "collapsed": true
   },
   "outputs": [],
   "source": [
    "order_dict = {'Stoneflies (Plecoptera)':'Plecoptera','Plecoptera (Stoneflies)':'Plecoptera',\n",
    "'Mayflies (Ephemeroptera)':'Ephemeroptera','Ephemeroptera (Mayflies)':'Ephemeroptera',\n",
    "'Caddisflies (Trichoptera)':'Trichoptera','Trichoptera (Caddisflies)':'Trichoptera',\n",
    "'Diptera (True Flies)':'Diptera','Flies (Diptera)':'Diptera'}\n",
    "order_list = []\n",
    "for i in df.order:\n",
    "    order_list.append(order_dict[i])\n",
    "df.order = order_list"
   ]
  },
  {
   "cell_type": "code",
   "execution_count": 13,
   "metadata": {},
   "outputs": [],
   "source": [
    "with open('../data/train/xy.txt','w') as f:\n",
    "    f.write('file_name,order\\n')\n",
    "    for x,y in zip(xtrain,ytrain):\n",
    "        f.write(x+','+order_dict[y]+'\\n')"
   ]
  },
  {
   "cell_type": "code",
   "execution_count": 15,
   "metadata": {},
   "outputs": [],
   "source": []
  },
  {
   "cell_type": "code",
   "execution_count": 17,
   "metadata": {},
   "outputs": [
    {
     "data": {
      "text/html": [
       "<div>\n",
       "<style>\n",
       "    .dataframe thead tr:only-child th {\n",
       "        text-align: right;\n",
       "    }\n",
       "\n",
       "    .dataframe thead th {\n",
       "        text-align: left;\n",
       "    }\n",
       "\n",
       "    .dataframe tbody tr th {\n",
       "        vertical-align: top;\n",
       "    }\n",
       "</style>\n",
       "<table border=\"1\" class=\"dataframe\">\n",
       "  <thead>\n",
       "    <tr style=\"text-align: right;\">\n",
       "      <th></th>\n",
       "      <th>file_name</th>\n",
       "      <th>file_path</th>\n",
       "      <th>ready</th>\n",
       "      <th>back_view</th>\n",
       "      <th>side_view</th>\n",
       "      <th>ruler</th>\n",
       "      <th>hand_nature</th>\n",
       "      <th>m_adult</th>\n",
       "      <th>contrast</th>\n",
       "      <th>noisy_background</th>\n",
       "      <th>other_partial</th>\n",
       "      <th>order</th>\n",
       "      <th>family</th>\n",
       "    </tr>\n",
       "  </thead>\n",
       "  <tbody>\n",
       "    <tr>\n",
       "      <th>5598</th>\n",
       "      <td>picture2992.jpg</td>\n",
       "      <td>../data/troutnut/ephemeroptera/picture2992.jpg</td>\n",
       "      <td>0</td>\n",
       "      <td>0</td>\n",
       "      <td>1</td>\n",
       "      <td>0</td>\n",
       "      <td>0</td>\n",
       "      <td>1</td>\n",
       "      <td>1</td>\n",
       "      <td>0</td>\n",
       "      <td>0</td>\n",
       "      <td>Ephemeroptera</td>\n",
       "      <td>Leptophlebiidae (Blue Quills and Mahogany Duns)</td>\n",
       "    </tr>\n",
       "    <tr>\n",
       "      <th>5599</th>\n",
       "      <td>picture2996.jpg</td>\n",
       "      <td>../data/troutnut/ephemeroptera/picture2996.jpg</td>\n",
       "      <td>0</td>\n",
       "      <td>0</td>\n",
       "      <td>1</td>\n",
       "      <td>0</td>\n",
       "      <td>0</td>\n",
       "      <td>1</td>\n",
       "      <td>0</td>\n",
       "      <td>0</td>\n",
       "      <td>1</td>\n",
       "      <td>Ephemeroptera</td>\n",
       "      <td>Leptophlebiidae (Blue Quills and Mahogany Duns)</td>\n",
       "    </tr>\n",
       "    <tr>\n",
       "      <th>5600</th>\n",
       "      <td>picture2998.jpg</td>\n",
       "      <td>../data/troutnut/ephemeroptera/picture2998.jpg</td>\n",
       "      <td>0</td>\n",
       "      <td>0</td>\n",
       "      <td>1</td>\n",
       "      <td>0</td>\n",
       "      <td>0</td>\n",
       "      <td>1</td>\n",
       "      <td>0</td>\n",
       "      <td>1</td>\n",
       "      <td>1</td>\n",
       "      <td>Ephemeroptera</td>\n",
       "      <td>Leptophlebiidae (Blue Quills and Mahogany Duns)</td>\n",
       "    </tr>\n",
       "    <tr>\n",
       "      <th>5601</th>\n",
       "      <td>picture2991.jpg</td>\n",
       "      <td>../data/troutnut/ephemeroptera/picture2991.jpg</td>\n",
       "      <td>0</td>\n",
       "      <td>0</td>\n",
       "      <td>1</td>\n",
       "      <td>0</td>\n",
       "      <td>0</td>\n",
       "      <td>1</td>\n",
       "      <td>1</td>\n",
       "      <td>1</td>\n",
       "      <td>0</td>\n",
       "      <td>Ephemeroptera</td>\n",
       "      <td>Leptophlebiidae (Blue Quills and Mahogany Duns)</td>\n",
       "    </tr>\n",
       "    <tr>\n",
       "      <th>5602</th>\n",
       "      <td>picture2997.jpg</td>\n",
       "      <td>../data/troutnut/ephemeroptera/picture2997.jpg</td>\n",
       "      <td>0</td>\n",
       "      <td>0</td>\n",
       "      <td>1</td>\n",
       "      <td>0</td>\n",
       "      <td>0</td>\n",
       "      <td>1</td>\n",
       "      <td>0</td>\n",
       "      <td>1</td>\n",
       "      <td>1</td>\n",
       "      <td>Ephemeroptera</td>\n",
       "      <td>Leptophlebiidae (Blue Quills and Mahogany Duns)</td>\n",
       "    </tr>\n",
       "  </tbody>\n",
       "</table>\n",
       "</div>"
      ],
      "text/plain": [
       "            file_name                                       file_path  ready  \\\n",
       "5598  picture2992.jpg  ../data/troutnut/ephemeroptera/picture2992.jpg      0   \n",
       "5599  picture2996.jpg  ../data/troutnut/ephemeroptera/picture2996.jpg      0   \n",
       "5600  picture2998.jpg  ../data/troutnut/ephemeroptera/picture2998.jpg      0   \n",
       "5601  picture2991.jpg  ../data/troutnut/ephemeroptera/picture2991.jpg      0   \n",
       "5602  picture2997.jpg  ../data/troutnut/ephemeroptera/picture2997.jpg      0   \n",
       "\n",
       "      back_view  side_view  ruler  hand_nature  m_adult  contrast  \\\n",
       "5598          0          1      0            0        1         1   \n",
       "5599          0          1      0            0        1         0   \n",
       "5600          0          1      0            0        1         0   \n",
       "5601          0          1      0            0        1         1   \n",
       "5602          0          1      0            0        1         0   \n",
       "\n",
       "      noisy_background  other_partial          order  \\\n",
       "5598                 0              0  Ephemeroptera   \n",
       "5599                 0              1  Ephemeroptera   \n",
       "5600                 1              1  Ephemeroptera   \n",
       "5601                 1              0  Ephemeroptera   \n",
       "5602                 1              1  Ephemeroptera   \n",
       "\n",
       "                                               family  \n",
       "5598  Leptophlebiidae (Blue Quills and Mahogany Duns)  \n",
       "5599  Leptophlebiidae (Blue Quills and Mahogany Duns)  \n",
       "5600  Leptophlebiidae (Blue Quills and Mahogany Duns)  \n",
       "5601  Leptophlebiidae (Blue Quills and Mahogany Duns)  \n",
       "5602  Leptophlebiidae (Blue Quills and Mahogany Duns)  "
      ]
     },
     "execution_count": 17,
     "metadata": {},
     "output_type": "execute_result"
    }
   ],
   "source": [
    "df.tail()"
   ]
  },
  {
   "cell_type": "code",
   "execution_count": 18,
   "metadata": {},
   "outputs": [
    {
     "data": {
      "text/plain": [
       "array(['Plecoptera', 'Trichoptera', 'Diptera', 'Ephemeroptera'], dtype=object)"
      ]
     },
     "execution_count": 18,
     "metadata": {},
     "output_type": "execute_result"
    }
   ],
   "source": [
    "df.order.unique()"
   ]
  },
  {
   "cell_type": "code",
   "execution_count": null,
   "metadata": {
    "collapsed": true
   },
   "outputs": [],
   "source": []
  }
 ],
 "metadata": {
  "kernelspec": {
   "display_name": "Python 3",
   "language": "python",
   "name": "python3"
  },
  "language_info": {
   "codemirror_mode": {
    "name": "ipython",
    "version": 3
   },
   "file_extension": ".py",
   "mimetype": "text/x-python",
   "name": "python",
   "nbconvert_exporter": "python",
   "pygments_lexer": "ipython3",
   "version": "3.6.2"
  }
 },
 "nbformat": 4,
 "nbformat_minor": 2
}
