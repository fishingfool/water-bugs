{
 "cells": [
  {
   "cell_type": "code",
   "execution_count": 1,
   "metadata": {},
   "outputs": [],
   "source": [
    "import pandas as pd\n",
    "import numpy as np\n",
    "from sklearn.model_selection import train_test_split\n",
    "import shutil\n",
    "import os"
   ]
  },
  {
   "cell_type": "code",
   "execution_count": 2,
   "metadata": {},
   "outputs": [],
   "source": [
    "df = pd.read_csv('../data/meta.txt',sep=';')"
   ]
  },
  {
   "cell_type": "code",
   "execution_count": 3,
   "metadata": {},
   "outputs": [
    {
     "data": {
      "text/html": [
       "<div>\n",
       "<style scoped>\n",
       "    .dataframe tbody tr th:only-of-type {\n",
       "        vertical-align: middle;\n",
       "    }\n",
       "\n",
       "    .dataframe tbody tr th {\n",
       "        vertical-align: top;\n",
       "    }\n",
       "\n",
       "    .dataframe thead th {\n",
       "        text-align: right;\n",
       "    }\n",
       "</style>\n",
       "<table border=\"1\" class=\"dataframe\">\n",
       "  <thead>\n",
       "    <tr style=\"text-align: right;\">\n",
       "      <th></th>\n",
       "      <th>file_name</th>\n",
       "      <th>file_path</th>\n",
       "      <th>ready</th>\n",
       "      <th>back_view</th>\n",
       "      <th>side_view</th>\n",
       "      <th>ruler</th>\n",
       "      <th>hand_nature</th>\n",
       "      <th>m_adult</th>\n",
       "      <th>contrast</th>\n",
       "      <th>noisy_background</th>\n",
       "      <th>partial</th>\n",
       "      <th>order</th>\n",
       "      <th>family</th>\n",
       "    </tr>\n",
       "  </thead>\n",
       "  <tbody>\n",
       "    <tr>\n",
       "      <th>0</th>\n",
       "      <td>photo_98089.jpg</td>\n",
       "      <td>../data/bug_guide/plecoptera/photo_98089.jpg</td>\n",
       "      <td>1</td>\n",
       "      <td>0</td>\n",
       "      <td>0</td>\n",
       "      <td>0</td>\n",
       "      <td>0</td>\n",
       "      <td>0</td>\n",
       "      <td>0</td>\n",
       "      <td>0</td>\n",
       "      <td>0</td>\n",
       "      <td>Stoneflies (Plecoptera)</td>\n",
       "      <td>Winter Stoneflies (Taeniopterygidae)</td>\n",
       "    </tr>\n",
       "    <tr>\n",
       "      <th>1</th>\n",
       "      <td>photo_255771.jpg</td>\n",
       "      <td>../data/bug_guide/plecoptera/photo_255771.jpg</td>\n",
       "      <td>1</td>\n",
       "      <td>0</td>\n",
       "      <td>0</td>\n",
       "      <td>0</td>\n",
       "      <td>0</td>\n",
       "      <td>0</td>\n",
       "      <td>0</td>\n",
       "      <td>0</td>\n",
       "      <td>0</td>\n",
       "      <td>Stoneflies (Plecoptera)</td>\n",
       "      <td>Winter Stoneflies (Taeniopterygidae)</td>\n",
       "    </tr>\n",
       "    <tr>\n",
       "      <th>2</th>\n",
       "      <td>photo_255991.jpg</td>\n",
       "      <td>../data/bug_guide/plecoptera/photo_255991.jpg</td>\n",
       "      <td>0</td>\n",
       "      <td>0</td>\n",
       "      <td>0</td>\n",
       "      <td>0</td>\n",
       "      <td>0</td>\n",
       "      <td>0</td>\n",
       "      <td>0</td>\n",
       "      <td>1</td>\n",
       "      <td>0</td>\n",
       "      <td>Stoneflies (Plecoptera)</td>\n",
       "      <td>Winter Stoneflies (Taeniopterygidae)</td>\n",
       "    </tr>\n",
       "    <tr>\n",
       "      <th>3</th>\n",
       "      <td>photo_258045.jpg</td>\n",
       "      <td>../data/bug_guide/plecoptera/photo_258045.jpg</td>\n",
       "      <td>1</td>\n",
       "      <td>0</td>\n",
       "      <td>0</td>\n",
       "      <td>0</td>\n",
       "      <td>0</td>\n",
       "      <td>0</td>\n",
       "      <td>0</td>\n",
       "      <td>0</td>\n",
       "      <td>0</td>\n",
       "      <td>Stoneflies (Plecoptera)</td>\n",
       "      <td>Small Winter Stoneflies (Capniidae)</td>\n",
       "    </tr>\n",
       "    <tr>\n",
       "      <th>4</th>\n",
       "      <td>photo_654326.jpg</td>\n",
       "      <td>../data/bug_guide/plecoptera/photo_654326.jpg</td>\n",
       "      <td>0</td>\n",
       "      <td>0</td>\n",
       "      <td>0</td>\n",
       "      <td>0</td>\n",
       "      <td>1</td>\n",
       "      <td>0</td>\n",
       "      <td>0</td>\n",
       "      <td>1</td>\n",
       "      <td>0</td>\n",
       "      <td>Stoneflies (Plecoptera)</td>\n",
       "      <td>Spring Stoneflies (Nemouridae)</td>\n",
       "    </tr>\n",
       "  </tbody>\n",
       "</table>\n",
       "</div>"
      ],
      "text/plain": [
       "          file_name                                      file_path  ready  \\\n",
       "0   photo_98089.jpg   ../data/bug_guide/plecoptera/photo_98089.jpg      1   \n",
       "1  photo_255771.jpg  ../data/bug_guide/plecoptera/photo_255771.jpg      1   \n",
       "2  photo_255991.jpg  ../data/bug_guide/plecoptera/photo_255991.jpg      0   \n",
       "3  photo_258045.jpg  ../data/bug_guide/plecoptera/photo_258045.jpg      1   \n",
       "4  photo_654326.jpg  ../data/bug_guide/plecoptera/photo_654326.jpg      0   \n",
       "\n",
       "   back_view  side_view  ruler  hand_nature  m_adult  contrast  \\\n",
       "0          0          0      0            0        0         0   \n",
       "1          0          0      0            0        0         0   \n",
       "2          0          0      0            0        0         0   \n",
       "3          0          0      0            0        0         0   \n",
       "4          0          0      0            1        0         0   \n",
       "\n",
       "   noisy_background  partial                    order  \\\n",
       "0                 0        0  Stoneflies (Plecoptera)   \n",
       "1                 0        0  Stoneflies (Plecoptera)   \n",
       "2                 1        0  Stoneflies (Plecoptera)   \n",
       "3                 0        0  Stoneflies (Plecoptera)   \n",
       "4                 1        0  Stoneflies (Plecoptera)   \n",
       "\n",
       "                                 family  \n",
       "0  Winter Stoneflies (Taeniopterygidae)  \n",
       "1  Winter Stoneflies (Taeniopterygidae)  \n",
       "2  Winter Stoneflies (Taeniopterygidae)  \n",
       "3   Small Winter Stoneflies (Capniidae)  \n",
       "4        Spring Stoneflies (Nemouridae)  "
      ]
     },
     "execution_count": 3,
     "metadata": {},
     "output_type": "execute_result"
    }
   ],
   "source": [
    "df.head()"
   ]
  },
  {
   "cell_type": "code",
   "execution_count": 4,
   "metadata": {},
   "outputs": [
    {
     "data": {
      "text/plain": [
       "(5603, 13)"
      ]
     },
     "execution_count": 4,
     "metadata": {},
     "output_type": "execute_result"
    }
   ],
   "source": [
    "df.shape"
   ]
  },
  {
   "cell_type": "code",
   "execution_count": 5,
   "metadata": {},
   "outputs": [],
   "source": [
    "order_dict = {'Stoneflies (Plecoptera)':'Plecoptera','Plecoptera (Stoneflies)':'Plecoptera',\n",
    "'Mayflies (Ephemeroptera)':'Ephemeroptera','Ephemeroptera (Mayflies)':'Ephemeroptera',\n",
    "'Caddisflies (Trichoptera)':'Trichoptera','Trichoptera (Caddisflies)':'Trichoptera',\n",
    "'Diptera (True Flies)':'Diptera','Flies (Diptera)':'Diptera'}\n",
    "order_list = []\n",
    "for i in df.order:\n",
    "    order_list.append(order_dict[i])\n",
    "df.order = order_list"
   ]
  },
  {
   "cell_type": "code",
   "execution_count": 7,
   "metadata": {},
   "outputs": [
    {
     "data": {
      "text/plain": [
       "(2653,)"
      ]
     },
     "execution_count": 7,
     "metadata": {},
     "output_type": "execute_result"
    }
   ],
   "source": [
    "np.where(df.order=='Ephemeroptera')[0].shape"
   ]
  },
  {
   "cell_type": "code",
   "execution_count": 6,
   "metadata": {},
   "outputs": [],
   "source": [
    "df2 = df.iloc[np.where(df.order=='Ephemeroptera')[0]]"
   ]
  },
  {
   "cell_type": "code",
   "execution_count": 7,
   "metadata": {},
   "outputs": [
    {
     "data": {
      "text/plain": [
       "array(['Common Burrower Mayflies (Ephemeridae)',\n",
       "       'Spiny Crawler Mayflies (Ephemerellidae)',\n",
       "       'Flatheaded Mayflies (Heptageniidae)',\n",
       "       'Small Minnow Mayflies (Baetidae)',\n",
       "       'Small Squaregilled Mayflies (Caenidae)',\n",
       "       'Little Stout Crawler Mayflies (Leptohyphidae)',\n",
       "       'Pale Burrower Mayflies (Polymitarcyidae)',\n",
       "       'Riverbed Burrower Mayflies (Palingeniidae)',\n",
       "       'Hacklegilled Burrower Mayflies (Potamanthidae)',\n",
       "       'Armored Mayflies (Baetiscidae)',\n",
       "       'Pronggilled Mayflies (Leptophlebiidae)',\n",
       "       'Ephemeridae (Hexes and Big Drakes)',\n",
       "       'Ephemerellidae (Hendricksons, Sulphurs, PMDs, BWOs)',\n",
       "       'Baetidae (Blue-Winged Olives)',\n",
       "       'Heptageniidae (March Browns, Cahills, Quill Gordons)',\n",
       "       'Baetiscidae (Armored Mayflies)', 'Isonychiidae (Slate Drakes)',\n",
       "       'Ameletidae (Brown Duns)',\n",
       "       'Leptophlebiidae (Blue Quills and Mahogany Duns)',\n",
       "       'Siphlonuridae (Gray Drakes)', 'Leptohyphidae (Tricos)', nan,\n",
       "       'Metretopodidae (Pseudo-Gray Drakes)', \"Caenidae (Angler's Curses)\",\n",
       "       'Neoephemeridae'], dtype=object)"
      ]
     },
     "execution_count": 7,
     "metadata": {},
     "output_type": "execute_result"
    }
   ],
   "source": [
    "df2.family.unique()"
   ]
  },
  {
   "cell_type": "code",
   "execution_count": 9,
   "metadata": {},
   "outputs": [],
   "source": [
    "df2 = df.iloc[np.where(df.order=='Plecoptera')[0]]"
   ]
  },
  {
   "cell_type": "code",
   "execution_count": 10,
   "metadata": {},
   "outputs": [
    {
     "data": {
      "text/plain": [
       "array(['Winter Stoneflies (Taeniopterygidae)',\n",
       "       'Small Winter Stoneflies (Capniidae)',\n",
       "       'Spring Stoneflies (Nemouridae)',\n",
       "       'Rolled-winged Stoneflies (Leuctridae)',\n",
       "       'Green Stoneflies (Chloroperlidae)', 'Common Stoneflies (Perlidae)',\n",
       "       'Perlodid Stoneflies (Perlodidae)',\n",
       "       'Giant Stoneflies (Pteronarcyidae)',\n",
       "       'Roach-like Stoneflies (Peltoperlidae)', 'None',\n",
       "       'Pteronarcyidae (Salmonflies)',\n",
       "       'Perlodidae (Springflies & Yellow Stones)',\n",
       "       'Perlidae (Golden Stones)', 'Chloroperlidae (Sallflies)',\n",
       "       'Peltoperlidae (Roachflies)', 'Taeniopterygidae (Willowflies)',\n",
       "       'Capniidae (Snowflies)', 'Nemouridae (Forestflies)',\n",
       "       'Leuctridae (Needleflies)', nan], dtype=object)"
      ]
     },
     "execution_count": 10,
     "metadata": {},
     "output_type": "execute_result"
    }
   ],
   "source": [
    "df2.family.unique()"
   ]
  },
  {
   "cell_type": "code",
   "execution_count": 11,
   "metadata": {},
   "outputs": [],
   "source": [
    "df2 = df.iloc[np.where(df.order=='Trichoptera')[0]]"
   ]
  },
  {
   "cell_type": "code",
   "execution_count": 12,
   "metadata": {},
   "outputs": [
    {
     "data": {
      "text/plain": [
       "array(['Fingernet Caddisflies (Philopotamidae)',\n",
       "       'Netspinning Caddisflies (Hydropsychidae)',\n",
       "       'Long-horned Caddisflies (Leptoceridae)',\n",
       "       'Giant Casemakers (Phryganeidae)',\n",
       "       'Microcaddisflies (Hydroptilidae)', 'Calamoceratidae',\n",
       "       'Mortarjoint Casemakers (Odontoceridae)',\n",
       "       'Northern Caddisflies (Limnephilidae)', 'Thremmatidae',\n",
       "       'Stonecase Caddisflies (Uenoidae)',\n",
       "       'Humpless Casemaker Caddisflies (Brachycentridae)',\n",
       "       'Bizarre Caddisflies (Lepidostomatidae)', 'None',\n",
       "       'Tube Maker Caddisflies (Polycentropodidae)', 'Dipseudopsidae',\n",
       "       'Net Tube Caddisflies (Psychomyiidae)',\n",
       "       'Little Black Caddisflies (Glossosomatidae)',\n",
       "       'Free-living Caddisflies (Rhyacophilidae)',\n",
       "       'Hood Casemakers (Molannidae)',\n",
       "       'Snail-case Caddisflies (Helicopsychidae)',\n",
       "       'Bushtailed Caddisflies (Sericostomatidae)',\n",
       "       'Early Smoky Wing Sedges (Apataniidae)', 'Goeridae',\n",
       "       'Rhyacophilidae (Green Sedges)',\n",
       "       'Limnephilidae (Northern Caddisflies)', 'Odontoceridae',\n",
       "       'Polycentropodidae', 'Brachycentridae (Apple Caddis and Grannoms)',\n",
       "       'Apataniidae (Early Smoky Wing Sedges)', 'Uenoidae',\n",
       "       'Philopotamidae', 'Hydropsychidae', 'Leptoceridae', 'Phryganeidae',\n",
       "       'Lepidostomatidae (Little Brown Sedges)', nan, 'Molannidae',\n",
       "       'Glossosomatidae (Saddle-case Makers)',\n",
       "       'Hydroptilidae (Microcaddisflies)'], dtype=object)"
      ]
     },
     "execution_count": 12,
     "metadata": {},
     "output_type": "execute_result"
    }
   ],
   "source": [
    "df2.family.unique()"
   ]
  },
  {
   "cell_type": "code",
   "execution_count": 15,
   "metadata": {
    "collapsed": true
   },
   "outputs": [
    {
     "data": {
      "text/plain": [
       "array(['Bee Flies (Bombyliidae)', 'Mosquitoes (Culicidae)',\n",
       "       'Hilarimorphidae', 'Mountain Midges (Deuterophlebiidae)',\n",
       "       'Canacidae', 'Dryomyzidae', 'Biting Midges (Ceratopogonidae)',\n",
       "       'Ditomyiidae', 'Heterocheilidae', 'Bat Flies (Streblidae)',\n",
       "       'Periscelididae', 'Curtonotidae', 'Pachyneuridae',\n",
       "       'Phantom Crane Flies (Ptychopteridae)',\n",
       "       'Large Crane Flies (Tipulidae)',\n",
       "       'Moth Flies and Sand Flies (Psychodidae)', 'Midges (Chironomidae)',\n",
       "       'March Flies (Bibionidae)',\n",
       "       'Gall Midges and Wood Midges (Cecidomyiidae)',\n",
       "       'Winter Crane Flies (Trichoceridae)', 'Nymphomyiidae',\n",
       "       'Limoniid Crane Flies (Limoniidae)',\n",
       "       'Predatory Fungus Gnats (Keroplatidae)',\n",
       "       'Net-winged Midges (Blephariceridae)', 'Meniscus Midges (Dixidae)',\n",
       "       'Cylindrotomid Crane Flies (Cylindrotomidae)',\n",
       "       'Hairy-eyed Crane Flies (Pediciidae)',\n",
       "       'Fungus Gnats (Mycetophilidae)', 'Wood Gnats (Anisopodidae)',\n",
       "       'Axymyiidae', 'Canthyloscelidae',\n",
       "       'Minute Black Scavenger Flies (Scatopsidae)', 'None',\n",
       "       'Bolitophilidae', 'Diadocidiidae',\n",
       "       'Long-beaked fungus gnats (Lygistorrhinidae)',\n",
       "       'Dark-winged Fungus Gnats (Sciaridae)',\n",
       "       'Phantom Midges (Chaoboridae)',\n",
       "       'Frog-biting midges (Corethrellidae)', 'Black Flies (Simuliidae)',\n",
       "       'Trickle Midges (Thaumaleidae)',\n",
       "       'Primitive Crane Flies (Tanyderidae)',\n",
       "       'Horse and Deer Flies (Tabanidae)', 'Soldier flies (Stratiomyidae)',\n",
       "       'Robber Flies (Asilidae)', 'Mydas Flies (Mydidae)',\n",
       "       'Snipe Flies (Rhagionidae)', 'Longlegged Flies (Dolichopodidae)',\n",
       "       'Xylomyidae', 'Watersnipe Flies (Athericidae)', 'Bolbomyiidae',\n",
       "       'Oreoleptidae', 'Pelecorhynchidae', 'Wormlions (Vermileonidae)',\n",
       "       'Apioceridae', 'Apsilocephalidae',\n",
       "       'Micro Bee Flies (Mythicomyiidae)', 'Window Flies (Scenopinidae)',\n",
       "       'Stiletto Flies (Therevidae)', 'Small-headed Flies (Acroceridae)',\n",
       "       'Tangle-veined Flies (Nemestrinidae)', 'Xylophagidae',\n",
       "       'Apystomyiidae', 'Dance Flies (Empididae)', 'Brachystomatidae',\n",
       "       'Hybotid Dance Flies (Hybotidae)', 'Oreogetonidae',\n",
       "       'Flat-footed Flies (Platypezidae)', 'Syrphid Flies (Syrphidae)',\n",
       "       'Big-headed flies (Pipunculidae)', 'Scuttle Flies (Phoridae)',\n",
       "       'Pointed-winged Flies (Lonchopteridae)', 'Pyrgotidae',\n",
       "       'Picture-winged Flies (Ulidiidae)',\n",
       "       'Stilt-legged Flies (Micropezidae)', 'Cactus Flies (Neriidae)',\n",
       "       'Lauxaniidae', 'Vinegar Flies (Drosophilidae)',\n",
       "       'Thick-headed Flies (Conopidae)', 'Marsh Flies (Sciomyzidae)',\n",
       "       'Shore Flies (Ephydridae)', 'Bee lice (Braulidae)', 'Camillidae',\n",
       "       'Scale Parasite Flies (Cryptochetidae)', 'Diastatidae',\n",
       "       'Chamaemyiidae', 'Kelp Flies (Coelopidae)', 'Helcomyzidae',\n",
       "       'Fruit Flies (Tephritidae)', 'Lance Flies (Lonchaeidae)',\n",
       "       'Flutter Flies (Pallopteridae)',\n",
       "       'Cheese Skippers and kin (Piophilidae)',\n",
       "       'Signal Flies (Platystomatidae)', 'Richardiidae',\n",
       "       'Leaf Miner Flies (Agromyzidae)', 'Anthomyzidae', 'Asteiidae',\n",
       "       'Aulacigastridae', 'Carnidae', 'Frit Flies (Chloropidae)',\n",
       "       'Chyromyidae', 'Clusiidae', 'Stalk-eyed Flies (Diopsidae)',\n",
       "       'Heleomyzidae', 'Freeloader Flies (Milichiidae)', 'Odiniidae',\n",
       "       'Opomyzidae', 'Rust Flies (Psilidae)', 'Ropalomeridae',\n",
       "       'Black Scavenger Flies (Sepsidae)',\n",
       "       'Lesser Dung Flies (Sphaeroceridae)', 'Tanypezidae',\n",
       "       'Flesh Flies (Sarcophagidae)', 'Tachinidae',\n",
       "       'Blow Flies (Calliphoridae)', 'Louse Flies (Hippoboscidae)',\n",
       "       'Root-Maggot Flies (Anthomyiidae)',\n",
       "       'House Flies and kin (Muscidae)', 'Dung Flies (Scathophagidae)',\n",
       "       'Fanniidae', 'Bot Flies (Oestridae)',\n",
       "       'Woodlouse Flies (Rhinophoridae)', 'Nycteribiidae',\n",
       "       'Tipulidae (Crane Flies)', 'Chironomidae (Midges)',\n",
       "       'Pediciidae (Pediciid Crane Flies)',\n",
       "       'Athericidae (Watersnipe Flies)', 'Simuliidae (Black Flies)',\n",
       "       'Limoniidae (Limoniid Crane Flies)',\n",
       "       'Ptychopteridae (Phantom Crane Flies)', 'Culicidae (Mosquitoes)'], dtype=object)"
      ]
     },
     "execution_count": 15,
     "metadata": {},
     "output_type": "execute_result"
    }
   ],
   "source": [
    "df2 = df.iloc[np.where(df.order=='Diptera')[0]]\n",
    "df2.family.unique()"
   ]
  },
  {
   "cell_type": "code",
   "execution_count": 18,
   "metadata": {},
   "outputs": [
    {
     "data": {
      "text/plain": [
       "(4507, 13)"
      ]
     },
     "execution_count": 18,
     "metadata": {},
     "output_type": "execute_result"
    }
   ],
   "source": [
    "df2 = df.iloc[np.where(df.order!='Diptera')[0]]\n",
    "df2.shape"
   ]
  },
  {
   "cell_type": "code",
   "execution_count": 28,
   "metadata": {},
   "outputs": [],
   "source": [
    "family_dict = {\n",
    "                'Goeridae':'Goeridae',\n",
    "                'Dipseudopsidae':'Dipseudopsidae',\n",
    "                'Calamoceratidae':'Calamoceratidae',\n",
    "                'Thremmatidae':'Thremmatidae',\n",
    "                'Fingernet Caddisflies (Philopotamidae)':'Philopotamidae',\n",
    "                'Philopotamidae':'Philopotamidae',\n",
    "                'Netspinning Caddisflies (Hydropsychidae)':'Hydropsychidae',\n",
    "                'Hydropsychidae':'Hydropsychidae',\n",
    "                'Long-horned Caddisflies (Leptoceridae)':'Leptoceridae',\n",
    "                'Leptoceridae':'Leptoceridae',\n",
    "                'Giant Casemakers (Phryganeidae)':'Phryganeidae',\n",
    "                'Phryganeidae':'Phryganeidae',\n",
    "                'Microcaddisflies (Hydroptilidae)':'Hydroptilidae',\n",
    "                'Hydroptilidae (Microcaddisflies)':'Hydroptilidae',\n",
    "                'Mortarjoint Casemakers (Odontoceridae)':'Odontoceridae',\n",
    "                'Odontoceridae':'Odontoceridae',\n",
    "                'Northern Caddisflies (Limnephilidae)':'Limnephilidae',\n",
    "                'Limnephilidae (Northern Caddisflies)':'Limnephilidae',\n",
    "                'Stonecase Caddisflies (Uenoidae)':'Uenoidae',\n",
    "                'Uenoidae':'Uenoidae',\n",
    "                'Humpless Casemaker Caddisflies (Brachycentridae)':'Brachycentridae',\n",
    "                'Brachycentridae (Apple Caddis and Grannoms)':'Brachycentridae',\n",
    "                'Bizarre Caddisflies (Lepidostomatidae)':'Lepidostomatidae',\n",
    "                'Lepidostomatidae (Little Brown Sedges)':'Lepidostomatidae',\n",
    "                'Tube Maker Caddisflies (Polycentropodidae)':'Polycentropodidae',\n",
    "                'Polycentropodidae':'Polycentropodidae',\n",
    "                'Net Tube Caddisflies (Psychomyiidae)':'Psychomyiidae',\n",
    "                'Little Black Caddisflies (Glossosomatidae)':'Glossosomatidae',\n",
    "                'Glossosomatidae (Saddle-case Makers)':'Glossosomatidae',\n",
    "                'Free-living Caddisflies (Rhyacophilidae)':'Rhyacophilidae',\n",
    "                'Rhyacophilidae (Green Sedges)':'Rhyacophilidae',\n",
    "                'Hood Casemakers (Molannidae)':'Molannidae',\n",
    "                'Molannidae':'Molannidae',\n",
    "                'Snail-case Caddisflies (Helicopsychidae)':'Helicopsychidae',\n",
    "                'Bushtailed Caddisflies (Sericostomatidae)':'Sericostomatidae',\n",
    "                'Early Smoky Wing Sedges (Apataniidae)':'Apataniidae',\n",
    "                'Apataniidae (Early Smoky Wing Sedges)':'Apanatiidae',\n",
    "                'Common Burrower Mayflies (Ephemeridae)':'Ephemeridae',\n",
    "                'Ephemeridae (Hexes and Big Drakes)':'Ephemeridae',\n",
    "                'Spiny Crawler Mayflies (Ephemerellidae)':'Ephemerellidae',\n",
    "                'Ephemerellidae (Hendricksons, Sulphurs, PMDs, BWOs)':'Ephemerellidae',\n",
    "                'Flatheaded Mayflies (Heptageniidae)':'Heptageniidae',\n",
    "                'Heptageniidae (March Browns, Cahills, Quill Gordons)':'Heptageniidae',\n",
    "                'Small Minnow Mayflies (Baetidae)':'Baetidae',\n",
    "                'Baetidae (Blue-Winged Olives)':'Baetidae',\n",
    "                'Small Squaregilled Mayflies (Caenidae)':'Caenidae',\n",
    "                \"Caenidae (Angler's Curses)\":'Caenidae',\n",
    "                'Little Stout Crawler Mayflies (Leptohyphidae)':'Leptohyphidae',\n",
    "                'Leptophlebiidae (Blue Quills and Mahogany Duns)':'Leptohyphidae',\n",
    "                'Pale Burrower Mayflies (Polymitarcyidae)':'Polymitarcyidae',\n",
    "                'Armored Mayflies (Baetiscidae)':'Baetiscidae',\n",
    "                'Baetiscidae (Armored Mayflies)':'Baetiscidae',\n",
    "                'Riverbed Burrower Mayflies (Palingeniidae)':'Palingeniidae',\n",
    "                'Hacklegilled Burrower Mayflies (Potamanthidae)':'Potamanthidae',\n",
    "                'Pronggilled Mayflies (Leptophlebiidae)':'Leptophlebiidae',\n",
    "                'Isonychiidae (Slate Drakes)':'Isonychiidae',\n",
    "                'Ameletidae (Brown Duns)':'Ameletidae',\n",
    "                'Siphlonuridae (Gray Drakes)':'Siphlonuridae',\n",
    "                'Metretopodidae (Pseudo-Gray Drakes)':'Metretopodidae',\n",
    "                'Neoephemeridae':'Neoephemeridae',\n",
    "                'Leptohyphidae (Tricos)':'Leptohyphidae',\n",
    "                'Winter Stoneflies (Taeniopterygidae)':'Taeniopterygidae',\n",
    "                'Taeniopterygidae (Willowflies)':'Taeniopterygidae',\n",
    "                'Small Winter Stoneflies (Capniidae)':'Capniidae',\n",
    "                'Capniidae (Snowflies)':'Capniidae',\n",
    "                'Spring Stoneflies (Nemouridae)':'Nemouridae',\n",
    "                'Nemouridae (Forestflies)':'Nemouridae',\n",
    "                'Rolled-winged Stoneflies (Leuctridae)':'Leuctridae',\n",
    "                'Leuctridae (Needleflies)':'Leuctridae',\n",
    "                'Green Stoneflies (Chloroperlidae)':'Chloroperlidae',\n",
    "                'Chloroperlidae (Sallflies)':'Chloroperlidae',\n",
    "                'Common Stoneflies (Perlidae)':'Perlidae',\n",
    "                'Perlidae (Golden Stones)':'Perlidae',\n",
    "                'Perlodid Stoneflies (Perlodidae)':'Perlodidae',\n",
    "                'Perlodidae (Springflies & Yellow Stones)':'Perlodidae',\n",
    "                'Giant Stoneflies (Pteronarcyidae)':'Pteronarcyidae',\n",
    "                'Pteronarcyidae (Salmonflies)':'Pteronarcyidae',\n",
    "                'Roach-like Stoneflies (Peltoperlidae)':'Peltoperlidae',\n",
    "                'Peltoperlidae (Roachflies)':'Peltoperlidae',\n",
    "                'nan':'nan',\n",
    "                'None':'None'\n",
    "              }"
   ]
  },
  {
   "cell_type": "code",
   "execution_count": 30,
   "metadata": {},
   "outputs": [],
   "source": [
    "family_subset = [family_dict[i] for i in df2.family.astype('str')]"
   ]
  },
  {
   "cell_type": "code",
   "execution_count": 31,
   "metadata": {},
   "outputs": [
    {
     "name": "stderr",
     "output_type": "stream",
     "text": [
      "/home/ubuntu/anaconda3/envs/tensorflow_p36/lib/python3.6/site-packages/pandas/core/generic.py:3643: SettingWithCopyWarning: \n",
      "A value is trying to be set on a copy of a slice from a DataFrame.\n",
      "Try using .loc[row_indexer,col_indexer] = value instead\n",
      "\n",
      "See the caveats in the documentation: http://pandas.pydata.org/pandas-docs/stable/indexing.html#indexing-view-versus-copy\n",
      "  self[name] = value\n"
     ]
    }
   ],
   "source": [
    "df2.family = family_subset"
   ]
  },
  {
   "cell_type": "code",
   "execution_count": 35,
   "metadata": {},
   "outputs": [
    {
     "name": "stdout",
     "output_type": "stream",
     "text": [
      "['Ephemerellidae' 'Heptageniidae' 'Ephemeridae' 'Baetidae' 'Leptohyphidae'\n",
      " 'Limnephilidae' 'Perlidae' 'Perlodidae' 'Hydropsychidae' 'Baetiscidae'\n",
      " 'Chloroperlidae' 'Nemouridae' 'Leptoceridae' 'Taeniopterygidae'\n",
      " 'Isonychiidae' 'Rhyacophilidae' 'Pteronarcyidae' 'Capniidae' 'Caenidae'\n",
      " 'Philopotamidae' 'Peltoperlidae' 'Brachycentridae' 'Phryganeidae'\n",
      " 'Hydroptilidae' 'Leptophlebiidae' 'Odontoceridae' 'Polycentropodidae'\n",
      " 'Metretopodidae' 'Siphlonuridae' 'Ameletidae' 'Uenoidae' 'Glossosomatidae'\n",
      " 'Leuctridae' 'nan' 'Lepidostomatidae' 'Molannidae' 'Calamoceratidae'\n",
      " 'Thremmatidae' 'Apataniidae' 'Goeridae' 'Sericostomatidae'\n",
      " 'Helicopsychidae' 'Apanatiidae' 'None' 'Dipseudopsidae' 'Psychomyiidae'\n",
      " 'Polymitarcyidae' 'Palingeniidae' 'Potamanthidae' 'Neoephemeridae'] [761 681 297 266 227 215 215 157 150 108 101  96  82  82  79  71  60  55\n",
      "  53  52  50  49  48  43  40  39  38  36  36  35  33  32  32  29  28  19\n",
      "  18  13  13  11  10   7   7   6   6   5   5   4   4   3]\n"
     ]
    }
   ],
   "source": [
    "family_counts = np.unique(df2.family,return_counts=True)\n",
    "a = np.flip(np.argsort(family_counts[1]),axis=0)\n",
    "print(family_counts[0][a],family_counts[1][a])"
   ]
  },
  {
   "cell_type": "code",
   "execution_count": 11,
   "metadata": {},
   "outputs": [
    {
     "data": {
      "text/plain": [
       "(array([ 698,  699,  700,  701,  702, 1048, 1049, 1050, 1051, 1367, 1368,\n",
       "        1369, 1705, 1706, 1707, 1713, 1714, 1715]),)"
      ]
     },
     "execution_count": 11,
     "metadata": {},
     "output_type": "execute_result"
    }
   ],
   "source": [
    "n_ind = np.where(df2.family.astype(str) == 'nan')\n",
    "n_ind"
   ]
  },
  {
   "cell_type": "code",
   "execution_count": 12,
   "metadata": {},
   "outputs": [
    {
     "data": {
      "text/plain": [
       "3648    picture2401.jpg\n",
       "3649    picture2402.jpg\n",
       "3650    picture2403.jpg\n",
       "3651    picture2400.jpg\n",
       "3652    picture2409.jpg\n",
       "3998     picture530.jpg\n",
       "3999     picture531.jpg\n",
       "4000     picture532.jpg\n",
       "4001     picture533.jpg\n",
       "4317     picture785.jpg\n",
       "4318     picture786.jpg\n",
       "4319     picture787.jpg\n",
       "4655     picture789.jpg\n",
       "4656     picture790.jpg\n",
       "4657     picture788.jpg\n",
       "4663     picture782.jpg\n",
       "4664     picture783.jpg\n",
       "4665     picture784.jpg\n",
       "Name: file_name, dtype: object"
      ]
     },
     "execution_count": 12,
     "metadata": {},
     "output_type": "execute_result"
    }
   ],
   "source": [
    "df2.iloc[n_ind].file_name"
   ]
  },
  {
   "cell_type": "code",
   "execution_count": 13,
   "metadata": {},
   "outputs": [
    {
     "data": {
      "text/plain": [
       "[(array([3648]),),\n",
       " (array([3649]),),\n",
       " (array([3650]),),\n",
       " (array([3651]),),\n",
       " (array([3652]),),\n",
       " (array([3998]),),\n",
       " (array([3999]),),\n",
       " (array([4000]),),\n",
       " (array([4001]),),\n",
       " (array([4317]),),\n",
       " (array([4318]),),\n",
       " (array([4319]),),\n",
       " (array([4655]),),\n",
       " (array([4656]),),\n",
       " (array([4657]),),\n",
       " (array([4663]),),\n",
       " (array([4664]),),\n",
       " (array([4665]),)]"
      ]
     },
     "execution_count": 13,
     "metadata": {},
     "output_type": "execute_result"
    }
   ],
   "source": [
    "[np.where(df.file_name == i) for i in df2.iloc[n_ind].file_name]"
   ]
  },
  {
   "cell_type": "code",
   "execution_count": 14,
   "metadata": {
    "scrolled": true
   },
   "outputs": [],
   "source": [
    "#df.loc[df2.iloc[n_ind].index]"
   ]
  },
  {
   "cell_type": "code",
   "execution_count": 15,
   "metadata": {},
   "outputs": [
    {
     "name": "stderr",
     "output_type": "stream",
     "text": [
      "/home/ubuntu/anaconda3/envs/tensorflow_p36/lib/python3.6/site-packages/ipykernel_launcher.py:1: SettingWithCopyWarning: \n",
      "A value is trying to be set on a copy of a slice from a DataFrame\n",
      "\n",
      "See the caveats in the documentation: http://pandas.pydata.org/pandas-docs/stable/indexing.html#indexing-view-versus-copy\n",
      "  \"\"\"Entry point for launching an IPython kernel.\n"
     ]
    }
   ],
   "source": [
    "df2.drop(df2.iloc[n_ind].index.values,inplace=True)"
   ]
  },
  {
   "cell_type": "code",
   "execution_count": 16,
   "metadata": {},
   "outputs": [
    {
     "data": {
      "text/plain": [
       "array(['Common Burrower Mayflies (Ephemeridae)',\n",
       "       'Spiny Crawler Mayflies (Ephemerellidae)',\n",
       "       'Flatheaded Mayflies (Heptageniidae)',\n",
       "       'Small Minnow Mayflies (Baetidae)',\n",
       "       'Small Squaregilled Mayflies (Caenidae)',\n",
       "       'Little Stout Crawler Mayflies (Leptohyphidae)',\n",
       "       'Pale Burrower Mayflies (Polymitarcyidae)',\n",
       "       'Riverbed Burrower Mayflies (Palingeniidae)',\n",
       "       'Hacklegilled Burrower Mayflies (Potamanthidae)',\n",
       "       'Armored Mayflies (Baetiscidae)',\n",
       "       'Pronggilled Mayflies (Leptophlebiidae)',\n",
       "       'Ephemeridae (Hexes and Big Drakes)',\n",
       "       'Ephemerellidae (Hendricksons, Sulphurs, PMDs, BWOs)',\n",
       "       'Baetidae (Blue-Winged Olives)',\n",
       "       'Heptageniidae (March Browns, Cahills, Quill Gordons)',\n",
       "       'Baetiscidae (Armored Mayflies)', 'Isonychiidae (Slate Drakes)',\n",
       "       'Ameletidae (Brown Duns)',\n",
       "       'Leptophlebiidae (Blue Quills and Mahogany Duns)',\n",
       "       'Siphlonuridae (Gray Drakes)', 'Leptohyphidae (Tricos)',\n",
       "       'Metretopodidae (Pseudo-Gray Drakes)', \"Caenidae (Angler's Curses)\",\n",
       "       'Neoephemeridae'], dtype=object)"
      ]
     },
     "execution_count": 16,
     "metadata": {},
     "output_type": "execute_result"
    }
   ],
   "source": [
    "df2.family.unique()"
   ]
  },
  {
   "cell_type": "code",
   "execution_count": 17,
   "metadata": {},
   "outputs": [
    {
     "name": "stderr",
     "output_type": "stream",
     "text": [
      "/home/ubuntu/anaconda3/envs/tensorflow_p36/lib/python3.6/site-packages/pandas/core/generic.py:3643: SettingWithCopyWarning: \n",
      "A value is trying to be set on a copy of a slice from a DataFrame.\n",
      "Try using .loc[row_indexer,col_indexer] = value instead\n",
      "\n",
      "See the caveats in the documentation: http://pandas.pydata.org/pandas-docs/stable/indexing.html#indexing-view-versus-copy\n",
      "  self[name] = value\n"
     ]
    }
   ],
   "source": [
    "#df2.family = [family_dict[i] for i in df2.family]\n",
    "family_subset = [family_dict[i] for i in df2.family]\n",
    "df2.family = family_subset"
   ]
  },
  {
   "cell_type": "code",
   "execution_count": 18,
   "metadata": {},
   "outputs": [
    {
     "name": "stdout",
     "output_type": "stream",
     "text": [
      "['Ephemerellidae' 'Heptageniidae' 'Ephemeridae' 'Baetidae' 'Leptohyphidae'\n",
      " 'Baetiscidae' 'Isonychiidae' 'Caenidae' 'Leptophlebiidae' 'Siphlonuridae'\n",
      " 'Metretopodidae' 'Ameletidae' 'Polymitarcyidae' 'Potamanthidae'\n",
      " 'Palingeniidae' 'Neoephemeridae'] [761 681 297 266 227 108  79  53  40  36  36  35   5   4   4   3]\n"
     ]
    }
   ],
   "source": [
    "family_counts = np.unique(df2.family,return_counts=True)\n",
    "a = np.flip(np.argsort(family_counts[1]),axis=0)\n",
    "print(family_counts[0][a],family_counts[1][a])"
   ]
  },
  {
   "cell_type": "code",
   "execution_count": 19,
   "metadata": {},
   "outputs": [],
   "source": [
    "family_list = ['Ephemerellidae', 'Heptageniidae', 'Ephemeridae', 'Baetidae', 'Leptohyphidae']"
   ]
  },
  {
   "cell_type": "code",
   "execution_count": 20,
   "metadata": {},
   "outputs": [],
   "source": [
    "b = [i in family_list for i in df2.family]"
   ]
  },
  {
   "cell_type": "code",
   "execution_count": 21,
   "metadata": {},
   "outputs": [
    {
     "data": {
      "text/plain": [
       "(2635, 13)"
      ]
     },
     "execution_count": 21,
     "metadata": {},
     "output_type": "execute_result"
    }
   ],
   "source": [
    "df2.shape"
   ]
  },
  {
   "cell_type": "code",
   "execution_count": 22,
   "metadata": {},
   "outputs": [
    {
     "data": {
      "text/plain": [
       "(2232, 13)"
      ]
     },
     "execution_count": 22,
     "metadata": {},
     "output_type": "execute_result"
    }
   ],
   "source": [
    "df2.loc[b].shape"
   ]
  },
  {
   "cell_type": "code",
   "execution_count": 23,
   "metadata": {},
   "outputs": [
    {
     "data": {
      "text/plain": [
       "array(['Ephemeridae', 'Ephemerellidae', 'Heptageniidae', 'Baetidae',\n",
       "       'Leptohyphidae'], dtype=object)"
      ]
     },
     "execution_count": 23,
     "metadata": {},
     "output_type": "execute_result"
    }
   ],
   "source": [
    "df2 = df2[b]\n",
    "df2.family.unique()"
   ]
  },
  {
   "cell_type": "code",
   "execution_count": 24,
   "metadata": {},
   "outputs": [],
   "source": [
    "x = df2.file_name.values\n",
    "y = df2.family.values"
   ]
  },
  {
   "cell_type": "code",
   "execution_count": 25,
   "metadata": {},
   "outputs": [
    {
     "name": "stdout",
     "output_type": "stream",
     "text": [
      "(2232,) (2232,)\n"
     ]
    }
   ],
   "source": [
    "print(x.shape,y.shape)"
   ]
  },
  {
   "cell_type": "code",
   "execution_count": 324,
   "metadata": {},
   "outputs": [],
   "source": [
    "xtrain_val,xtest,ytrain_val,ytest = train_test_split(x,y,test_size = .1)"
   ]
  },
  {
   "cell_type": "code",
   "execution_count": 325,
   "metadata": {},
   "outputs": [
    {
     "data": {
      "text/plain": [
       "(2008,)"
      ]
     },
     "execution_count": 325,
     "metadata": {},
     "output_type": "execute_result"
    }
   ],
   "source": [
    "ytrain_val.shape"
   ]
  },
  {
   "cell_type": "code",
   "execution_count": 327,
   "metadata": {},
   "outputs": [],
   "source": [
    "xtrain,xval,ytrain,yval = train_test_split(xtrain_val,ytrain_val)"
   ]
  },
  {
   "cell_type": "code",
   "execution_count": 328,
   "metadata": {},
   "outputs": [],
   "source": [
    "with open('../data/train2/xy.txt','w') as f:\n",
    "    f.write('file_name,order\\n')\n",
    "    for x,y in zip(xtrain,ytrain):\n",
    "        s = '../data/bug_pics/{}'.format(x)\n",
    "        d = '../data/train2/{}/{}'.format(y,x)\n",
    "        shutil.copy(s,d)\n",
    "        f.write(x+','+y+'\\n')"
   ]
  },
  {
   "cell_type": "code",
   "execution_count": 329,
   "metadata": {},
   "outputs": [],
   "source": [
    "with open('../data/test2/xy.txt','w') as f:\n",
    "    f.write('file_name,order\\n')\n",
    "    for x,y in zip(xtest,ytest):\n",
    "        s = '../data/bug_pics/{}'.format(x)\n",
    "        d = '../data/test2/{}/{}'.format(y,x)\n",
    "        shutil.copy(s,d)\n",
    "        f.write(x+','+y+'\\n')"
   ]
  },
  {
   "cell_type": "code",
   "execution_count": 330,
   "metadata": {},
   "outputs": [],
   "source": [
    "with open('../data/validation2/xy.txt','w') as f:\n",
    "    f.write('file_name,order\\n')\n",
    "    for x,y in zip(xval,yval):\n",
    "        s = '../data/bug_pics/{}'.format(x)\n",
    "        d = '../data/validation2/{}/{}'.format(y,x)\n",
    "        shutil.copy(s,d)\n",
    "        f.write(x+','+y+'\\n')"
   ]
  },
  {
   "cell_type": "code",
   "execution_count": 30,
   "metadata": {},
   "outputs": [
    {
     "data": {
      "text/plain": [
       "array(['Ephemeroptera', 'Trichoptera', 'Diptera', 'Plecoptera', 'xy.txt'],\n",
       "      dtype='<U13')"
      ]
     },
     "execution_count": 30,
     "metadata": {},
     "output_type": "execute_result"
    }
   ],
   "source": [
    "dir_l = np.array(os.listdir(path='../data/test'))\n",
    "dir_l"
   ]
  },
  {
   "cell_type": "code",
   "execution_count": 76,
   "metadata": {},
   "outputs": [],
   "source": [
    "# dir_l = []\n",
    "# for d in ['train','validation','test']:\n",
    "#     for sub_d in ['Ephemeroptera','Trichoptera','Diptera','Plecoptera']:\n",
    "#         dir_l.append(os.listdir(path='../data/{}/{}'.format(d,sub_d)))\n",
    "\n",
    "dir_l = []\n",
    "for d in ['train2','validation2','test2']:\n",
    "    for sub_d in ['Ephemeridae', 'Ephemerellidae', 'Heptageniidae', 'Baetidae', 'Leptohyphidae']:\n",
    "        dir_l.append(os.listdir(path='../data/{}/{}'.format(d,sub_d)))"
   ]
  },
  {
   "cell_type": "code",
   "execution_count": 77,
   "metadata": {},
   "outputs": [
    {
     "name": "stdout",
     "output_type": "stream",
     "text": [
      "15\n"
     ]
    }
   ],
   "source": [
    "dir_l = np.array(dir_l)\n",
    "print(len(dir_l))"
   ]
  },
  {
   "cell_type": "code",
   "execution_count": 78,
   "metadata": {},
   "outputs": [
    {
     "name": "stdout",
     "output_type": "stream",
     "text": [
      "196\n",
      "515\n",
      "464\n",
      "174\n",
      "157\n",
      "73\n",
      "166\n",
      "153\n",
      "61\n",
      "49\n",
      "28\n",
      "80\n",
      "64\n",
      "31\n",
      "21\n",
      "total: 2232\n"
     ]
    }
   ],
   "source": [
    "t = 0\n",
    "for i in range(15):\n",
    "    print(len(dir_l[i]))\n",
    "    t = t + len(dir_l[i])\n",
    "print('total:',t)"
   ]
  },
  {
   "cell_type": "code",
   "execution_count": 72,
   "metadata": {},
   "outputs": [
    {
     "data": {
      "text/plain": [
       "(5092,)"
      ]
     },
     "execution_count": 72,
     "metadata": {},
     "output_type": "execute_result"
    }
   ],
   "source": [
    "np.where(df.partial != 1)[0].shape"
   ]
  },
  {
   "cell_type": "code",
   "execution_count": 73,
   "metadata": {},
   "outputs": [
    {
     "data": {
      "text/plain": [
       "(876,)"
      ]
     },
     "execution_count": 73,
     "metadata": {},
     "output_type": "execute_result"
    }
   ],
   "source": [
    "np.where(df.ready == 1)[0].shape"
   ]
  },
  {
   "cell_type": "code",
   "execution_count": 74,
   "metadata": {},
   "outputs": [
    {
     "data": {
      "text/plain": [
       "(1502,)"
      ]
     },
     "execution_count": 74,
     "metadata": {},
     "output_type": "execute_result"
    }
   ],
   "source": [
    "np.where((df.ruler == 1)|(df.hand_nature == 1))[0].shape"
   ]
  },
  {
   "cell_type": "code",
   "execution_count": 39,
   "metadata": {},
   "outputs": [],
   "source": []
  },
  {
   "cell_type": "code",
   "execution_count": 41,
   "metadata": {},
   "outputs": [
    {
     "data": {
      "text/html": [
       "<div>\n",
       "<style scoped>\n",
       "    .dataframe tbody tr th:only-of-type {\n",
       "        vertical-align: middle;\n",
       "    }\n",
       "\n",
       "    .dataframe tbody tr th {\n",
       "        vertical-align: top;\n",
       "    }\n",
       "\n",
       "    .dataframe thead th {\n",
       "        text-align: right;\n",
       "    }\n",
       "</style>\n",
       "<table border=\"1\" class=\"dataframe\">\n",
       "  <thead>\n",
       "    <tr style=\"text-align: right;\">\n",
       "      <th></th>\n",
       "      <th>contrast</th>\n",
       "      <th>family</th>\n",
       "      <th>file_name</th>\n",
       "      <th>file_path</th>\n",
       "      <th>hand_nature</th>\n",
       "      <th>m_adult</th>\n",
       "      <th>noisy_background</th>\n",
       "      <th>order</th>\n",
       "      <th>partial</th>\n",
       "      <th>ready</th>\n",
       "      <th>ruler</th>\n",
       "      <th>side_view</th>\n",
       "    </tr>\n",
       "  </thead>\n",
       "  <tbody>\n",
       "    <tr>\n",
       "      <th>33</th>\n",
       "      <td>1</td>\n",
       "      <td>Small Winter Stoneflies (Capniidae)</td>\n",
       "      <td>photo_374894.jpg</td>\n",
       "      <td>../data/bug_guide/plecoptera/photo_374894.jpg</td>\n",
       "      <td>0</td>\n",
       "      <td>0</td>\n",
       "      <td>0</td>\n",
       "      <td>Plecoptera</td>\n",
       "      <td>0</td>\n",
       "      <td>0</td>\n",
       "      <td>0</td>\n",
       "      <td>0</td>\n",
       "    </tr>\n",
       "    <tr>\n",
       "      <th>42</th>\n",
       "      <td>1</td>\n",
       "      <td>Rolled-winged Stoneflies (Leuctridae)</td>\n",
       "      <td>photo_1450960.jpg</td>\n",
       "      <td>../data/bug_guide/plecoptera/photo_1450960.jpg</td>\n",
       "      <td>0</td>\n",
       "      <td>0</td>\n",
       "      <td>0</td>\n",
       "      <td>Plecoptera</td>\n",
       "      <td>0</td>\n",
       "      <td>0</td>\n",
       "      <td>0</td>\n",
       "      <td>0</td>\n",
       "    </tr>\n",
       "    <tr>\n",
       "      <th>58</th>\n",
       "      <td>1</td>\n",
       "      <td>Rolled-winged Stoneflies (Leuctridae)</td>\n",
       "      <td>photo_764312.jpg</td>\n",
       "      <td>../data/bug_guide/plecoptera/photo_764312.jpg</td>\n",
       "      <td>0</td>\n",
       "      <td>0</td>\n",
       "      <td>0</td>\n",
       "      <td>Plecoptera</td>\n",
       "      <td>0</td>\n",
       "      <td>0</td>\n",
       "      <td>0</td>\n",
       "      <td>0</td>\n",
       "    </tr>\n",
       "    <tr>\n",
       "      <th>63</th>\n",
       "      <td>0</td>\n",
       "      <td>Spring Stoneflies (Nemouridae)</td>\n",
       "      <td>photo_382533.jpg</td>\n",
       "      <td>../data/bug_guide/plecoptera/photo_382533.jpg</td>\n",
       "      <td>0</td>\n",
       "      <td>0</td>\n",
       "      <td>1</td>\n",
       "      <td>Plecoptera</td>\n",
       "      <td>0</td>\n",
       "      <td>0</td>\n",
       "      <td>0</td>\n",
       "      <td>0</td>\n",
       "    </tr>\n",
       "    <tr>\n",
       "      <th>83</th>\n",
       "      <td>0</td>\n",
       "      <td>Spring Stoneflies (Nemouridae)</td>\n",
       "      <td>photo_880212.jpg</td>\n",
       "      <td>../data/bug_guide/plecoptera/photo_880212.jpg</td>\n",
       "      <td>0</td>\n",
       "      <td>0</td>\n",
       "      <td>0</td>\n",
       "      <td>Plecoptera</td>\n",
       "      <td>0</td>\n",
       "      <td>0</td>\n",
       "      <td>0</td>\n",
       "      <td>0</td>\n",
       "    </tr>\n",
       "  </tbody>\n",
       "</table>\n",
       "</div>"
      ],
      "text/plain": [
       "    contrast                                 family          file_name  \\\n",
       "33         1    Small Winter Stoneflies (Capniidae)   photo_374894.jpg   \n",
       "42         1  Rolled-winged Stoneflies (Leuctridae)  photo_1450960.jpg   \n",
       "58         1  Rolled-winged Stoneflies (Leuctridae)   photo_764312.jpg   \n",
       "63         0         Spring Stoneflies (Nemouridae)   photo_382533.jpg   \n",
       "83         0         Spring Stoneflies (Nemouridae)   photo_880212.jpg   \n",
       "\n",
       "                                         file_path  hand_nature  m_adult  \\\n",
       "33   ../data/bug_guide/plecoptera/photo_374894.jpg            0        0   \n",
       "42  ../data/bug_guide/plecoptera/photo_1450960.jpg            0        0   \n",
       "58   ../data/bug_guide/plecoptera/photo_764312.jpg            0        0   \n",
       "63   ../data/bug_guide/plecoptera/photo_382533.jpg            0        0   \n",
       "83   ../data/bug_guide/plecoptera/photo_880212.jpg            0        0   \n",
       "\n",
       "    noisy_background       order  partial  ready  ruler  side_view  \n",
       "33                 0  Plecoptera        0      0      0          0  \n",
       "42                 0  Plecoptera        0      0      0          0  \n",
       "58                 0  Plecoptera        0      0      0          0  \n",
       "63                 1  Plecoptera        0      0      0          0  \n",
       "83                 0  Plecoptera        0      0      0          0  "
      ]
     },
     "execution_count": 41,
     "metadata": {},
     "output_type": "execute_result"
    }
   ],
   "source": []
  },
  {
   "cell_type": "code",
   "execution_count": 63,
   "metadata": {},
   "outputs": [
    {
     "data": {
      "text/plain": [
       "(5092, 13)"
      ]
     },
     "execution_count": 63,
     "metadata": {},
     "output_type": "execute_result"
    }
   ],
   "source": [
    "df.iloc[np.where(df.partial != 1)[0]].shape"
   ]
  },
  {
   "cell_type": "code",
   "execution_count": 148,
   "metadata": {},
   "outputs": [],
   "source": [
    "'''\n",
    "RUN ONE:\n",
    "steps_per_epoch=118\n",
    "epochs=50\n",
    "validation_data=validation_generator\n",
    "validation_steps=6\n",
    "optimizer='adadelta'\n",
    "loss='categorical_crossentropy'\n",
    "metrics=['accuracy']\n",
    "\n",
    "               precision    recall  f1-score   support\n",
    "\n",
    "      Diptera       0.79      0.91      0.85       113\n",
    "Ephemeroptera       0.93      0.86      0.89       214\n",
    "   Plecoptera       0.73      0.92      0.81        83\n",
    "  Trichoptera       0.92      0.73      0.82       100\n",
    "\n",
    "  avg / total       0.87      0.85      0.85       510\n",
    "\n",
    "\n",
    "'''\n",
    "df = df.iloc[np.where(df.partial != 1)[0]]"
   ]
  },
  {
   "cell_type": "code",
   "execution_count": 75,
   "metadata": {},
   "outputs": [],
   "source": [
    "df = df.iloc[np.where((df.ruler != 1)|(df.hand_nature == 1))]"
   ]
  },
  {
   "cell_type": "code",
   "execution_count": 80,
   "metadata": {},
   "outputs": [
    {
     "data": {
      "text/plain": [
       "(array(['Diptera', 'Ephemeroptera', 'Plecoptera', 'Trichoptera'], dtype=object),\n",
       " array([1056, 2494,  809,  927]))"
      ]
     },
     "execution_count": 80,
     "metadata": {},
     "output_type": "execute_result"
    }
   ],
   "source": [
    "np.unique(df.order,return_counts = True)"
   ]
  },
  {
   "cell_type": "code",
   "execution_count": 94,
   "metadata": {},
   "outputs": [],
   "source": [
    "e_ind = np.where(df.order == 'Ephemeroptera')[0]\n",
    "ind = np.random.choice(e_ind,1000)\n",
    "ind = np.concatenate((ind, np.where(df.order == 'Diptera')[0]),axis=0)\n",
    "ind = np.concatenate((ind, np.where(df.order == 'Plecoptera')[0]),axis=0)\n",
    "ind = np.concatenate((ind, np.where(df.order == 'Trichoptera')[0]),axis=0)"
   ]
  },
  {
   "cell_type": "code",
   "execution_count": 95,
   "metadata": {},
   "outputs": [
    {
     "data": {
      "text/plain": [
       "(3792,)"
      ]
     },
     "execution_count": 95,
     "metadata": {},
     "output_type": "execute_result"
    }
   ],
   "source": [
    "ind.shape"
   ]
  },
  {
   "cell_type": "code",
   "execution_count": 99,
   "metadata": {},
   "outputs": [
    {
     "data": {
      "text/plain": [
       "array([3994, 4232, 3316, ..., 2965, 2971, 2972])"
      ]
     },
     "execution_count": 99,
     "metadata": {},
     "output_type": "execute_result"
    }
   ],
   "source": [
    "ind"
   ]
  },
  {
   "cell_type": "code",
   "execution_count": 96,
   "metadata": {},
   "outputs": [
    {
     "data": {
      "text/html": [
       "<div>\n",
       "<style scoped>\n",
       "    .dataframe tbody tr th:only-of-type {\n",
       "        vertical-align: middle;\n",
       "    }\n",
       "\n",
       "    .dataframe tbody tr th {\n",
       "        vertical-align: top;\n",
       "    }\n",
       "\n",
       "    .dataframe thead th {\n",
       "        text-align: right;\n",
       "    }\n",
       "</style>\n",
       "<table border=\"1\" class=\"dataframe\">\n",
       "  <thead>\n",
       "    <tr style=\"text-align: right;\">\n",
       "      <th></th>\n",
       "      <th>file_name</th>\n",
       "      <th>file_path</th>\n",
       "      <th>ready</th>\n",
       "      <th>back_view</th>\n",
       "      <th>side_view</th>\n",
       "      <th>ruler</th>\n",
       "      <th>hand_nature</th>\n",
       "      <th>m_adult</th>\n",
       "      <th>contrast</th>\n",
       "      <th>noisy_background</th>\n",
       "      <th>partial</th>\n",
       "      <th>order</th>\n",
       "      <th>family</th>\n",
       "    </tr>\n",
       "  </thead>\n",
       "  <tbody>\n",
       "    <tr>\n",
       "      <th>0</th>\n",
       "      <td>photo_98089.jpg</td>\n",
       "      <td>../data/bug_guide/plecoptera/photo_98089.jpg</td>\n",
       "      <td>1</td>\n",
       "      <td>0</td>\n",
       "      <td>0</td>\n",
       "      <td>0</td>\n",
       "      <td>0</td>\n",
       "      <td>0</td>\n",
       "      <td>0</td>\n",
       "      <td>0</td>\n",
       "      <td>0</td>\n",
       "      <td>Plecoptera</td>\n",
       "      <td>Winter Stoneflies (Taeniopterygidae)</td>\n",
       "    </tr>\n",
       "    <tr>\n",
       "      <th>1</th>\n",
       "      <td>photo_255771.jpg</td>\n",
       "      <td>../data/bug_guide/plecoptera/photo_255771.jpg</td>\n",
       "      <td>1</td>\n",
       "      <td>0</td>\n",
       "      <td>0</td>\n",
       "      <td>0</td>\n",
       "      <td>0</td>\n",
       "      <td>0</td>\n",
       "      <td>0</td>\n",
       "      <td>0</td>\n",
       "      <td>0</td>\n",
       "      <td>Plecoptera</td>\n",
       "      <td>Winter Stoneflies (Taeniopterygidae)</td>\n",
       "    </tr>\n",
       "    <tr>\n",
       "      <th>2</th>\n",
       "      <td>photo_255991.jpg</td>\n",
       "      <td>../data/bug_guide/plecoptera/photo_255991.jpg</td>\n",
       "      <td>0</td>\n",
       "      <td>0</td>\n",
       "      <td>0</td>\n",
       "      <td>0</td>\n",
       "      <td>0</td>\n",
       "      <td>0</td>\n",
       "      <td>0</td>\n",
       "      <td>1</td>\n",
       "      <td>0</td>\n",
       "      <td>Plecoptera</td>\n",
       "      <td>Winter Stoneflies (Taeniopterygidae)</td>\n",
       "    </tr>\n",
       "    <tr>\n",
       "      <th>3</th>\n",
       "      <td>photo_258045.jpg</td>\n",
       "      <td>../data/bug_guide/plecoptera/photo_258045.jpg</td>\n",
       "      <td>1</td>\n",
       "      <td>0</td>\n",
       "      <td>0</td>\n",
       "      <td>0</td>\n",
       "      <td>0</td>\n",
       "      <td>0</td>\n",
       "      <td>0</td>\n",
       "      <td>0</td>\n",
       "      <td>0</td>\n",
       "      <td>Plecoptera</td>\n",
       "      <td>Small Winter Stoneflies (Capniidae)</td>\n",
       "    </tr>\n",
       "    <tr>\n",
       "      <th>4</th>\n",
       "      <td>photo_654326.jpg</td>\n",
       "      <td>../data/bug_guide/plecoptera/photo_654326.jpg</td>\n",
       "      <td>0</td>\n",
       "      <td>0</td>\n",
       "      <td>0</td>\n",
       "      <td>0</td>\n",
       "      <td>1</td>\n",
       "      <td>0</td>\n",
       "      <td>0</td>\n",
       "      <td>1</td>\n",
       "      <td>0</td>\n",
       "      <td>Plecoptera</td>\n",
       "      <td>Spring Stoneflies (Nemouridae)</td>\n",
       "    </tr>\n",
       "  </tbody>\n",
       "</table>\n",
       "</div>"
      ],
      "text/plain": [
       "          file_name                                      file_path  ready  \\\n",
       "0   photo_98089.jpg   ../data/bug_guide/plecoptera/photo_98089.jpg      1   \n",
       "1  photo_255771.jpg  ../data/bug_guide/plecoptera/photo_255771.jpg      1   \n",
       "2  photo_255991.jpg  ../data/bug_guide/plecoptera/photo_255991.jpg      0   \n",
       "3  photo_258045.jpg  ../data/bug_guide/plecoptera/photo_258045.jpg      1   \n",
       "4  photo_654326.jpg  ../data/bug_guide/plecoptera/photo_654326.jpg      0   \n",
       "\n",
       "   back_view  side_view  ruler  hand_nature  m_adult  contrast  \\\n",
       "0          0          0      0            0        0         0   \n",
       "1          0          0      0            0        0         0   \n",
       "2          0          0      0            0        0         0   \n",
       "3          0          0      0            0        0         0   \n",
       "4          0          0      0            1        0         0   \n",
       "\n",
       "   noisy_background  partial       order                                family  \n",
       "0                 0        0  Plecoptera  Winter Stoneflies (Taeniopterygidae)  \n",
       "1                 0        0  Plecoptera  Winter Stoneflies (Taeniopterygidae)  \n",
       "2                 1        0  Plecoptera  Winter Stoneflies (Taeniopterygidae)  \n",
       "3                 0        0  Plecoptera   Small Winter Stoneflies (Capniidae)  \n",
       "4                 1        0  Plecoptera        Spring Stoneflies (Nemouridae)  "
      ]
     },
     "execution_count": 96,
     "metadata": {},
     "output_type": "execute_result"
    }
   ],
   "source": [
    "df.head()"
   ]
  },
  {
   "cell_type": "code",
   "execution_count": 114,
   "metadata": {},
   "outputs": [],
   "source": [
    "#[df.iloc[np.where(df.file_name == i)[0][0]].order == j for i,j in zip(x,y)]"
   ]
  },
  {
   "cell_type": "code",
   "execution_count": 224,
   "metadata": {},
   "outputs": [],
   "source": []
  },
  {
   "cell_type": "code",
   "execution_count": 225,
   "metadata": {},
   "outputs": [
    {
     "data": {
      "text/plain": [
       "(2232, 13)"
      ]
     },
     "execution_count": 225,
     "metadata": {},
     "output_type": "execute_result"
    }
   ],
   "source": [
    "df.shape"
   ]
  },
  {
   "cell_type": "code",
   "execution_count": 226,
   "metadata": {},
   "outputs": [],
   "source": [
    "x = df.file_name\n",
    "y = df.order"
   ]
  },
  {
   "cell_type": "code",
   "execution_count": 227,
   "metadata": {},
   "outputs": [],
   "source": [
    "xtrain_val,xtest,ytrain_val,ytest = train_test_split(x,y,test_size = .1,random_state=77)"
   ]
  },
  {
   "cell_type": "code",
   "execution_count": 228,
   "metadata": {},
   "outputs": [
    {
     "data": {
      "text/plain": [
       "4361      picture18.jpg\n",
       "3374    picture2245.jpg\n",
       "4903    picture4090.jpg\n",
       "3481    picture3078.jpg\n",
       "3393    picture4539.jpg\n",
       "Name: file_name, dtype: object"
      ]
     },
     "execution_count": 228,
     "metadata": {},
     "output_type": "execute_result"
    }
   ],
   "source": [
    "xtrain_val.head()"
   ]
  },
  {
   "cell_type": "code",
   "execution_count": 117,
   "metadata": {},
   "outputs": [],
   "source": [
    "xtrain,xval,ytrain,yval = train_test_split(xtrain_val,ytrain_val,random_state = 42)"
   ]
  },
  {
   "cell_type": "code",
   "execution_count": 118,
   "metadata": {},
   "outputs": [],
   "source": [
    "with open('../data/train/xy.txt','w') as f:\n",
    "    f.write('file_name,order\\n')\n",
    "    for x,y in zip(xtrain,ytrain):\n",
    "        s = '../data/bug_pics/{}'.format(x)\n",
    "        d = '../data/train/{}/{}'.format(y,x)\n",
    "        shutil.copy(s,d)\n",
    "        f.write(x+','+y+'\\n')"
   ]
  },
  {
   "cell_type": "code",
   "execution_count": 119,
   "metadata": {},
   "outputs": [],
   "source": [
    "with open('../data/validation/xy.txt','w') as f:\n",
    "    f.write('file_name,order\\n')\n",
    "    for x,y in zip(xval,yval):\n",
    "        s = '../data/bug_pics/{}'.format(x)\n",
    "        d = '../data/validation/{}/{}'.format(y,x)\n",
    "        shutil.copy(s,d)\n",
    "        f.write(x+','+y+'\\n')"
   ]
  },
  {
   "cell_type": "code",
   "execution_count": 120,
   "metadata": {},
   "outputs": [],
   "source": [
    "with open('../data/test/xy.txt','w') as f:\n",
    "    f.write('file_name,order\\n')\n",
    "    for x,y in zip(xtest,ytest):\n",
    "        s = '../data/bug_pics/{}'.format(x)\n",
    "        d = '../data/test/{}/{}'.format(y,x)\n",
    "        shutil.copy(s,d)\n",
    "        f.write(x+','+y+'\\n')"
   ]
  },
  {
   "cell_type": "code",
   "execution_count": 121,
   "metadata": {},
   "outputs": [],
   "source": [
    "df_val = pd.read_csv('../data/validation/xy.txt',sep=',')\n",
    "df_train = pd.read_csv('../data/train/xy.txt',sep=',')\n",
    "df_test = pd.read_csv('../data/test/xy.txt',sep=',')"
   ]
  },
  {
   "cell_type": "code",
   "execution_count": 122,
   "metadata": {},
   "outputs": [
    {
     "name": "stdout",
     "output_type": "stream",
     "text": [
      "(853, 2) (2559, 2) (380, 2)\n"
     ]
    }
   ],
   "source": [
    "print(df_val.shape,df_train.shape,df_test.shape)"
   ]
  },
  {
   "cell_type": "code",
   "execution_count": null,
   "metadata": {},
   "outputs": [],
   "source": []
  },
  {
   "cell_type": "code",
   "execution_count": null,
   "metadata": {},
   "outputs": [],
   "source": []
  }
 ],
 "metadata": {
  "kernelspec": {
   "display_name": "Python 3",
   "language": "python",
   "name": "python3"
  },
  "language_info": {
   "codemirror_mode": {
    "name": "ipython",
    "version": 3
   },
   "file_extension": ".py",
   "mimetype": "text/x-python",
   "name": "python",
   "nbconvert_exporter": "python",
   "pygments_lexer": "ipython3",
   "version": "3.6.3"
  }
 },
 "nbformat": 4,
 "nbformat_minor": 2
}
